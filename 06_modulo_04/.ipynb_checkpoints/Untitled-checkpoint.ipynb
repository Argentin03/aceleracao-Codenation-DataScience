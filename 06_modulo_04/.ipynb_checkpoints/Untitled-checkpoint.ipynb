{
 "cells": [
  {
   "cell_type": "markdown",
   "metadata": {},
   "source": [
    "# Amostragem \n",
    "\n",
    "É o processo de obtenção de amostras, que são uma pequena parte de uma população.\n",
    "\n",
    "## População\n",
    "\n",
    "Se refere a todos os membros de um grupo o qual queremos estudar.\n",
    "\n",
    "## Amostra\n",
    "\n",
    "Se refere a um pequeno grupo de membros pertencentes a uma população.\n",
    "\n",
    "# Problemas amostragem\n",
    "\n",
    "### Undercoverage bias\n",
    "\n",
    "* acontece ao analisar muito poucas observações ou omitir segmentos inteiros de uma população\n",
    "* exe: conduzir uma pesquisa de satisfação de funcionários de um hospital durante o dia\n",
    "\n",
    "### Self-selection bias\n",
    "\n",
    "* acontece quando as pessoas que se dispuseram a entrar na análise diferem muito da real população\n",
    "* exe: fazer uma pesquisa online sobre time de futebol (pessoas que já torcem pro time irão responder)\n",
    "\n",
    "### Health-users bias\n",
    "\n",
    "* acontece quando retiramos uma amostra somente da parte mais sadia da população\n",
    "* exe: realizar uma pesquisa de hábitos saudáveis em uma academia\n",
    "\n",
    "### Survivor bias\n",
    "\n",
    "* consiste no erro lógico de nos concentrarmos em coisas ou pessoas que sobreviveram a algum processo enquanto ignoramos aqueles que foram eliminados devido a sua falta de visibilidade\n",
    "* exe: reforçar aviões que voltaram da guerra nos pontos com mais tiros, sendo que deveria reforçar nos pontos com menos tiros, pois os que caíram possivelmente foram atingidos ali"
   ]
  },
  {
   "cell_type": "code",
   "execution_count": null,
   "metadata": {},
   "outputs": [],
   "source": []
  },
  {
   "cell_type": "code",
   "execution_count": null,
   "metadata": {},
   "outputs": [],
   "source": []
  },
  {
   "cell_type": "code",
   "execution_count": null,
   "metadata": {},
   "outputs": [],
   "source": []
  },
  {
   "cell_type": "code",
   "execution_count": null,
   "metadata": {},
   "outputs": [],
   "source": []
  },
  {
   "cell_type": "code",
   "execution_count": null,
   "metadata": {},
   "outputs": [],
   "source": []
  },
  {
   "cell_type": "code",
   "execution_count": null,
   "metadata": {},
   "outputs": [],
   "source": []
  }
 ],
 "metadata": {
  "kernelspec": {
   "display_name": "Python 3",
   "language": "python",
   "name": "python3"
  },
  "language_info": {
   "codemirror_mode": {
    "name": "ipython",
    "version": 3
   },
   "file_extension": ".py",
   "mimetype": "text/x-python",
   "name": "python",
   "nbconvert_exporter": "python",
   "pygments_lexer": "ipython3",
   "version": "3.7.7"
  }
 },
 "nbformat": 4,
 "nbformat_minor": 4
}
