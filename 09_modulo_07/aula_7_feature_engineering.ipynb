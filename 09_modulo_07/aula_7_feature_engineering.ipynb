{
 "cells": [
  {
   "cell_type": "markdown",
   "metadata": {
    "colab_type": "text",
    "id": "MyaSGq65woLh"
   },
   "source": [
    "![Codenation](https://forum.codenation.com.br/uploads/default/original/2X/2/2d2d2a9469f0171e7df2c4ee97f70c555e431e76.png)\n",
    "\n",
    "__Autor__: Kazuki Yokoyama (kazuki.yokoyama@ufrgs.br)"
   ]
  },
  {
   "cell_type": "markdown",
   "metadata": {},
   "source": [
    "**Links interessantes:**\n",
    "\n",
    "\n",
    "1. Tipos de  **normalização** do *Scikit Learn*:\n",
    "https://benalexkeen.com/feature-scaling-with-scikit-learn/\n",
    "\n",
    "\n",
    "2. Detecção de outliers com cluster (DBSCAN - *n dimensões*): https://www.mikulskibartosz.name/outlier-detection-with-scikit-learn/ \n",
    "\n",
    "\n",
    "3. Processamento de texto (classificação) com *Scikit Learn*: https://scikit-learn.org/stable/tutorial/text_analytics/working_with_text_data.html"
   ]
  },
  {
   "cell_type": "code",
   "execution_count": null,
   "metadata": {},
   "outputs": [],
   "source": []
  },
  {
   "cell_type": "markdown",
   "metadata": {
    "colab_type": "text",
    "id": "mi4xZxcfBA2U"
   },
   "source": [
    "# _Feature engineering_\n",
    "\n",
    "![cover](https://venturebeat.com/wp-content/uploads/2018/07/feature_engineering.jpg?resize=680%2C198&strip=all)\n",
    "\n",
    "Neste módulo, trabalharemos a engenharia de _features_, que consiste em preparar os nossos dados para alimentar os algoritmos de ML adequadamente. Ao contrário do mundo dos tutoriais, na vida real os dados dificilmente estarão prontos para serem consumidos. Grande parte do tempo de um projeto de ML é gasto com a engenharia de _features_, e quanto melhor a qualidade desta etapa, maiores são as chances de melhores resultados nas etapas seguintes."
   ]
  },
  {
   "cell_type": "markdown",
   "metadata": {
    "colab_type": "text",
    "id": "cAxxSlo3QrZV"
   },
   "source": [
    "## Importação das bibliotecas"
   ]
  },
  {
   "cell_type": "code",
   "execution_count": 1,
   "metadata": {
    "colab": {},
    "colab_type": "code",
    "id": "jMxYy1NkQwW6"
   },
   "outputs": [],
   "source": [
    "import functools\n",
    "from math import sqrt\n",
    "\n",
    "import pandas as pd\n",
    "import matplotlib.pyplot as plt\n",
    "import numpy as np\n",
    "import statsmodels.api as sm\n",
    "import scipy.stats as sct\n",
    "import seaborn as sns\n",
    "from sklearn.datasets import load_digits, fetch_20newsgroups\n",
    "from sklearn.decomposition import PCA\n",
    "from sklearn.feature_extraction.text import (\n",
    "    CountVectorizer, TfidfTransformer, TfidfVectorizer\n",
    ")\n",
    "from sklearn.impute import SimpleImputer\n",
    "from sklearn.pipeline import Pipeline\n",
    "from sklearn.preprocessing import (\n",
    "    OneHotEncoder, Binarizer, KBinsDiscretizer,\n",
    "    MinMaxScaler, StandardScaler, PolynomialFeatures\n",
    ")"
   ]
  },
  {
   "cell_type": "code",
   "execution_count": 2,
   "metadata": {
    "colab": {},
    "colab_type": "code",
    "id": "xNbPRHkKQyv2"
   },
   "outputs": [],
   "source": [
    "# Algumas configurações para o matplotlib.\n",
    "%matplotlib inline\n",
    "\n",
    "from IPython.core.pylabtools import figsize\n",
    "\n",
    "\n",
    "figsize(12, 12)\n",
    "\n",
    "sns.set()"
   ]
  },
  {
   "cell_type": "code",
   "execution_count": 3,
   "metadata": {
    "colab": {},
    "colab_type": "code",
    "id": "m8onCO86Q2Hm"
   },
   "outputs": [],
   "source": [
    "np.random.seed(1000)"
   ]
  },
  {
   "cell_type": "markdown",
   "metadata": {
    "colab_type": "text",
    "id": "EIEVdatWDh3Z"
   },
   "source": [
    "## _One-hot encoding_\n",
    "\n",
    "Até aqui, nós praticamente ignoramos a existência de variáveis categóricas. Focamos nas variáveis numéricas porque elas são simples de lidar e bastante comuns. Ainda assim, variáveis categóricas são encontradas facilmente e precisamos de uma forma de trabalhar com elas.\n",
    "\n",
    "Uma das formas mais simples de representação de variáveis categóricas é através do método chamado _one-hot enconding_. Com ele, uma variável categórica com $h$ categorias é transformada em $h$ novas variáveis binárias (0 ou 1), onde a presença do 1 (_hot_) significa que aquela observação pertence àquela categoria, e 0 (_cold_) que não pertence. Veja um exemplo abaixo:"
   ]
  },
  {
   "cell_type": "code",
   "execution_count": 4,
   "metadata": {
    "colab": {
     "base_uri": "https://localhost:8080/",
     "height": 363
    },
    "colab_type": "code",
    "id": "M1zv6xPDk4ym",
    "outputId": "b9b41a48-556d-44e1-f142-708bae7a2d02"
   },
   "outputs": [
    {
     "data": {
      "text/html": [
       "<div>\n",
       "<style scoped>\n",
       "    .dataframe tbody tr th:only-of-type {\n",
       "        vertical-align: middle;\n",
       "    }\n",
       "\n",
       "    .dataframe tbody tr th {\n",
       "        vertical-align: top;\n",
       "    }\n",
       "\n",
       "    .dataframe thead th {\n",
       "        text-align: right;\n",
       "    }\n",
       "</style>\n",
       "<table border=\"1\" class=\"dataframe\">\n",
       "  <thead>\n",
       "    <tr style=\"text-align: right;\">\n",
       "      <th></th>\n",
       "      <th>Height</th>\n",
       "      <th>Score</th>\n",
       "      <th>Course</th>\n",
       "    </tr>\n",
       "  </thead>\n",
       "  <tbody>\n",
       "    <tr>\n",
       "      <th>0</th>\n",
       "      <td>1.539</td>\n",
       "      <td>6.61</td>\n",
       "      <td>Biology</td>\n",
       "    </tr>\n",
       "    <tr>\n",
       "      <th>1</th>\n",
       "      <td>1.764</td>\n",
       "      <td>6.42</td>\n",
       "      <td>Biology</td>\n",
       "    </tr>\n",
       "    <tr>\n",
       "      <th>2</th>\n",
       "      <td>1.695</td>\n",
       "      <td>8.95</td>\n",
       "      <td>Biology</td>\n",
       "    </tr>\n",
       "    <tr>\n",
       "      <th>3</th>\n",
       "      <td>1.829</td>\n",
       "      <td>5.14</td>\n",
       "      <td>Biology</td>\n",
       "    </tr>\n",
       "    <tr>\n",
       "      <th>4</th>\n",
       "      <td>1.640</td>\n",
       "      <td>6.43</td>\n",
       "      <td>Physics</td>\n",
       "    </tr>\n",
       "    <tr>\n",
       "      <th>5</th>\n",
       "      <td>1.778</td>\n",
       "      <td>7.98</td>\n",
       "      <td>Physics</td>\n",
       "    </tr>\n",
       "    <tr>\n",
       "      <th>6</th>\n",
       "      <td>1.679</td>\n",
       "      <td>7.90</td>\n",
       "      <td>Biology</td>\n",
       "    </tr>\n",
       "    <tr>\n",
       "      <th>7</th>\n",
       "      <td>1.604</td>\n",
       "      <td>6.76</td>\n",
       "      <td>Physics</td>\n",
       "    </tr>\n",
       "    <tr>\n",
       "      <th>8</th>\n",
       "      <td>1.819</td>\n",
       "      <td>7.44</td>\n",
       "      <td>Physics</td>\n",
       "    </tr>\n",
       "    <tr>\n",
       "      <th>9</th>\n",
       "      <td>1.607</td>\n",
       "      <td>6.01</td>\n",
       "      <td>Physics</td>\n",
       "    </tr>\n",
       "  </tbody>\n",
       "</table>\n",
       "</div>"
      ],
      "text/plain": [
       "   Height  Score   Course\n",
       "0   1.539   6.61  Biology\n",
       "1   1.764   6.42  Biology\n",
       "2   1.695   8.95  Biology\n",
       "3   1.829   5.14  Biology\n",
       "4   1.640   6.43  Physics\n",
       "5   1.778   7.98  Physics\n",
       "6   1.679   7.90  Biology\n",
       "7   1.604   6.76  Physics\n",
       "8   1.819   7.44  Physics\n",
       "9   1.607   6.01  Physics"
      ]
     },
     "execution_count": 4,
     "metadata": {},
     "output_type": "execute_result"
    }
   ],
   "source": [
    "rows = 100\n",
    "\n",
    "height = np.random.normal(loc=1.70, scale=0.2, size=rows).round(3)\n",
    "score = np.random.normal(loc=7, scale=1, size=rows).round(2)\n",
    "courses = [\"Math\", \"Physics\", \"Biology\"]\n",
    "course = np.random.choice(courses, size=rows)\n",
    "\n",
    "data = pd.DataFrame({\"Height\": height, \"Score\": score, \"Course\": course})\n",
    "\n",
    "data.head(10)"
   ]
  },
  {
   "cell_type": "markdown",
   "metadata": {
    "colab_type": "text",
    "id": "nK_6LysZP6Lw"
   },
   "source": [
    "Criamos um _data set_ que contém duas variáveis numéricas (`Height` e `Score`) e uma variável categórica (`Course`). Nosso objetivo com o _one-hot encoding_ é transformar a variável `Course` em uma sequência de variáveis numéricas binárias, cada uma descrevendo uma classe da variável. Neste caso, como temos três categorias para `Course` (Biology, Physics e Math), teremos três novas variáveis binárias.\n",
    "\n",
    "Vamos treinar esse _encoder_:"
   ]
  },
  {
   "cell_type": "code",
   "execution_count": 5,
   "metadata": {},
   "outputs": [
    {
     "data": {
      "text/html": [
       "<div>\n",
       "<style scoped>\n",
       "    .dataframe tbody tr th:only-of-type {\n",
       "        vertical-align: middle;\n",
       "    }\n",
       "\n",
       "    .dataframe tbody tr th {\n",
       "        vertical-align: top;\n",
       "    }\n",
       "\n",
       "    .dataframe thead th {\n",
       "        text-align: right;\n",
       "    }\n",
       "</style>\n",
       "<table border=\"1\" class=\"dataframe\">\n",
       "  <thead>\n",
       "    <tr style=\"text-align: right;\">\n",
       "      <th></th>\n",
       "      <th>Height</th>\n",
       "      <th>Score</th>\n",
       "      <th>Course_Biology</th>\n",
       "      <th>Course_Math</th>\n",
       "      <th>Course_Physics</th>\n",
       "    </tr>\n",
       "  </thead>\n",
       "  <tbody>\n",
       "    <tr>\n",
       "      <th>0</th>\n",
       "      <td>1.539</td>\n",
       "      <td>6.61</td>\n",
       "      <td>1</td>\n",
       "      <td>0</td>\n",
       "      <td>0</td>\n",
       "    </tr>\n",
       "    <tr>\n",
       "      <th>1</th>\n",
       "      <td>1.764</td>\n",
       "      <td>6.42</td>\n",
       "      <td>1</td>\n",
       "      <td>0</td>\n",
       "      <td>0</td>\n",
       "    </tr>\n",
       "    <tr>\n",
       "      <th>2</th>\n",
       "      <td>1.695</td>\n",
       "      <td>8.95</td>\n",
       "      <td>1</td>\n",
       "      <td>0</td>\n",
       "      <td>0</td>\n",
       "    </tr>\n",
       "    <tr>\n",
       "      <th>3</th>\n",
       "      <td>1.829</td>\n",
       "      <td>5.14</td>\n",
       "      <td>1</td>\n",
       "      <td>0</td>\n",
       "      <td>0</td>\n",
       "    </tr>\n",
       "    <tr>\n",
       "      <th>4</th>\n",
       "      <td>1.640</td>\n",
       "      <td>6.43</td>\n",
       "      <td>0</td>\n",
       "      <td>0</td>\n",
       "      <td>1</td>\n",
       "    </tr>\n",
       "    <tr>\n",
       "      <th>...</th>\n",
       "      <td>...</td>\n",
       "      <td>...</td>\n",
       "      <td>...</td>\n",
       "      <td>...</td>\n",
       "      <td>...</td>\n",
       "    </tr>\n",
       "    <tr>\n",
       "      <th>95</th>\n",
       "      <td>1.864</td>\n",
       "      <td>6.83</td>\n",
       "      <td>0</td>\n",
       "      <td>1</td>\n",
       "      <td>0</td>\n",
       "    </tr>\n",
       "    <tr>\n",
       "      <th>96</th>\n",
       "      <td>2.018</td>\n",
       "      <td>6.47</td>\n",
       "      <td>0</td>\n",
       "      <td>0</td>\n",
       "      <td>1</td>\n",
       "    </tr>\n",
       "    <tr>\n",
       "      <th>97</th>\n",
       "      <td>1.648</td>\n",
       "      <td>7.04</td>\n",
       "      <td>0</td>\n",
       "      <td>0</td>\n",
       "      <td>1</td>\n",
       "    </tr>\n",
       "    <tr>\n",
       "      <th>98</th>\n",
       "      <td>1.789</td>\n",
       "      <td>5.59</td>\n",
       "      <td>0</td>\n",
       "      <td>1</td>\n",
       "      <td>0</td>\n",
       "    </tr>\n",
       "    <tr>\n",
       "      <th>99</th>\n",
       "      <td>2.088</td>\n",
       "      <td>7.84</td>\n",
       "      <td>0</td>\n",
       "      <td>1</td>\n",
       "      <td>0</td>\n",
       "    </tr>\n",
       "  </tbody>\n",
       "</table>\n",
       "<p>100 rows × 5 columns</p>\n",
       "</div>"
      ],
      "text/plain": [
       "    Height  Score  Course_Biology  Course_Math  Course_Physics\n",
       "0    1.539   6.61               1            0               0\n",
       "1    1.764   6.42               1            0               0\n",
       "2    1.695   8.95               1            0               0\n",
       "3    1.829   5.14               1            0               0\n",
       "4    1.640   6.43               0            0               1\n",
       "..     ...    ...             ...          ...             ...\n",
       "95   1.864   6.83               0            1               0\n",
       "96   2.018   6.47               0            0               1\n",
       "97   1.648   7.04               0            0               1\n",
       "98   1.789   5.59               0            1               0\n",
       "99   2.088   7.84               0            1               0\n",
       "\n",
       "[100 rows x 5 columns]"
      ]
     },
     "execution_count": 5,
     "metadata": {},
     "output_type": "execute_result"
    }
   ],
   "source": [
    "# one-hot-encoding diretamente nas dummies\n",
    "pd.get_dummies(data)"
   ]
  },
  {
   "cell_type": "code",
   "execution_count": 6,
   "metadata": {},
   "outputs": [
    {
     "data": {
      "text/html": [
       "<div>\n",
       "<style scoped>\n",
       "    .dataframe tbody tr th:only-of-type {\n",
       "        vertical-align: middle;\n",
       "    }\n",
       "\n",
       "    .dataframe tbody tr th {\n",
       "        vertical-align: top;\n",
       "    }\n",
       "\n",
       "    .dataframe thead th {\n",
       "        text-align: right;\n",
       "    }\n",
       "</style>\n",
       "<table border=\"1\" class=\"dataframe\">\n",
       "  <thead>\n",
       "    <tr style=\"text-align: right;\">\n",
       "      <th></th>\n",
       "      <th>Height</th>\n",
       "      <th>Score</th>\n",
       "      <th>Course</th>\n",
       "      <th>nova_categoria</th>\n",
       "    </tr>\n",
       "  </thead>\n",
       "  <tbody>\n",
       "    <tr>\n",
       "      <th>0</th>\n",
       "      <td>1.539</td>\n",
       "      <td>6.61</td>\n",
       "      <td>Biology</td>\n",
       "      <td>A</td>\n",
       "    </tr>\n",
       "    <tr>\n",
       "      <th>1</th>\n",
       "      <td>1.764</td>\n",
       "      <td>6.42</td>\n",
       "      <td>Biology</td>\n",
       "      <td>B</td>\n",
       "    </tr>\n",
       "    <tr>\n",
       "      <th>2</th>\n",
       "      <td>1.695</td>\n",
       "      <td>8.95</td>\n",
       "      <td>Biology</td>\n",
       "      <td>C</td>\n",
       "    </tr>\n",
       "    <tr>\n",
       "      <th>3</th>\n",
       "      <td>1.829</td>\n",
       "      <td>5.14</td>\n",
       "      <td>Biology</td>\n",
       "      <td>D</td>\n",
       "    </tr>\n",
       "    <tr>\n",
       "      <th>4</th>\n",
       "      <td>1.640</td>\n",
       "      <td>6.43</td>\n",
       "      <td>Physics</td>\n",
       "      <td>A</td>\n",
       "    </tr>\n",
       "  </tbody>\n",
       "</table>\n",
       "</div>"
      ],
      "text/plain": [
       "   Height  Score   Course nova_categoria\n",
       "0   1.539   6.61  Biology              A\n",
       "1   1.764   6.42  Biology              B\n",
       "2   1.695   8.95  Biology              C\n",
       "3   1.829   5.14  Biology              D\n",
       "4   1.640   6.43  Physics              A"
      ]
     },
     "execution_count": 6,
     "metadata": {},
     "output_type": "execute_result"
    }
   ],
   "source": [
    "temp = data.copy()\n",
    "temp['nova_categoria'] = list(['A','B','C','D']*25)\n",
    "\n",
    "temp.head()"
   ]
  },
  {
   "cell_type": "code",
   "execution_count": 7,
   "metadata": {},
   "outputs": [
    {
     "data": {
      "text/html": [
       "<div>\n",
       "<style scoped>\n",
       "    .dataframe tbody tr th:only-of-type {\n",
       "        vertical-align: middle;\n",
       "    }\n",
       "\n",
       "    .dataframe tbody tr th {\n",
       "        vertical-align: top;\n",
       "    }\n",
       "\n",
       "    .dataframe thead th {\n",
       "        text-align: right;\n",
       "    }\n",
       "</style>\n",
       "<table border=\"1\" class=\"dataframe\">\n",
       "  <thead>\n",
       "    <tr style=\"text-align: right;\">\n",
       "      <th></th>\n",
       "      <th>Height</th>\n",
       "      <th>Score</th>\n",
       "      <th>nova_categoria_A</th>\n",
       "      <th>nova_categoria_B</th>\n",
       "      <th>nova_categoria_C</th>\n",
       "      <th>nova_categoria_D</th>\n",
       "      <th>Course_Biology</th>\n",
       "      <th>Course_Math</th>\n",
       "      <th>Course_Physics</th>\n",
       "    </tr>\n",
       "  </thead>\n",
       "  <tbody>\n",
       "    <tr>\n",
       "      <th>0</th>\n",
       "      <td>1.539</td>\n",
       "      <td>6.61</td>\n",
       "      <td>1</td>\n",
       "      <td>0</td>\n",
       "      <td>0</td>\n",
       "      <td>0</td>\n",
       "      <td>1</td>\n",
       "      <td>0</td>\n",
       "      <td>0</td>\n",
       "    </tr>\n",
       "    <tr>\n",
       "      <th>1</th>\n",
       "      <td>1.764</td>\n",
       "      <td>6.42</td>\n",
       "      <td>0</td>\n",
       "      <td>1</td>\n",
       "      <td>0</td>\n",
       "      <td>0</td>\n",
       "      <td>1</td>\n",
       "      <td>0</td>\n",
       "      <td>0</td>\n",
       "    </tr>\n",
       "    <tr>\n",
       "      <th>2</th>\n",
       "      <td>1.695</td>\n",
       "      <td>8.95</td>\n",
       "      <td>0</td>\n",
       "      <td>0</td>\n",
       "      <td>1</td>\n",
       "      <td>0</td>\n",
       "      <td>1</td>\n",
       "      <td>0</td>\n",
       "      <td>0</td>\n",
       "    </tr>\n",
       "    <tr>\n",
       "      <th>3</th>\n",
       "      <td>1.829</td>\n",
       "      <td>5.14</td>\n",
       "      <td>0</td>\n",
       "      <td>0</td>\n",
       "      <td>0</td>\n",
       "      <td>1</td>\n",
       "      <td>1</td>\n",
       "      <td>0</td>\n",
       "      <td>0</td>\n",
       "    </tr>\n",
       "    <tr>\n",
       "      <th>4</th>\n",
       "      <td>1.640</td>\n",
       "      <td>6.43</td>\n",
       "      <td>1</td>\n",
       "      <td>0</td>\n",
       "      <td>0</td>\n",
       "      <td>0</td>\n",
       "      <td>0</td>\n",
       "      <td>0</td>\n",
       "      <td>1</td>\n",
       "    </tr>\n",
       "    <tr>\n",
       "      <th>...</th>\n",
       "      <td>...</td>\n",
       "      <td>...</td>\n",
       "      <td>...</td>\n",
       "      <td>...</td>\n",
       "      <td>...</td>\n",
       "      <td>...</td>\n",
       "      <td>...</td>\n",
       "      <td>...</td>\n",
       "      <td>...</td>\n",
       "    </tr>\n",
       "    <tr>\n",
       "      <th>95</th>\n",
       "      <td>1.864</td>\n",
       "      <td>6.83</td>\n",
       "      <td>0</td>\n",
       "      <td>0</td>\n",
       "      <td>0</td>\n",
       "      <td>1</td>\n",
       "      <td>0</td>\n",
       "      <td>1</td>\n",
       "      <td>0</td>\n",
       "    </tr>\n",
       "    <tr>\n",
       "      <th>96</th>\n",
       "      <td>2.018</td>\n",
       "      <td>6.47</td>\n",
       "      <td>1</td>\n",
       "      <td>0</td>\n",
       "      <td>0</td>\n",
       "      <td>0</td>\n",
       "      <td>0</td>\n",
       "      <td>0</td>\n",
       "      <td>1</td>\n",
       "    </tr>\n",
       "    <tr>\n",
       "      <th>97</th>\n",
       "      <td>1.648</td>\n",
       "      <td>7.04</td>\n",
       "      <td>0</td>\n",
       "      <td>1</td>\n",
       "      <td>0</td>\n",
       "      <td>0</td>\n",
       "      <td>0</td>\n",
       "      <td>0</td>\n",
       "      <td>1</td>\n",
       "    </tr>\n",
       "    <tr>\n",
       "      <th>98</th>\n",
       "      <td>1.789</td>\n",
       "      <td>5.59</td>\n",
       "      <td>0</td>\n",
       "      <td>0</td>\n",
       "      <td>1</td>\n",
       "      <td>0</td>\n",
       "      <td>0</td>\n",
       "      <td>1</td>\n",
       "      <td>0</td>\n",
       "    </tr>\n",
       "    <tr>\n",
       "      <th>99</th>\n",
       "      <td>2.088</td>\n",
       "      <td>7.84</td>\n",
       "      <td>0</td>\n",
       "      <td>0</td>\n",
       "      <td>0</td>\n",
       "      <td>1</td>\n",
       "      <td>0</td>\n",
       "      <td>1</td>\n",
       "      <td>0</td>\n",
       "    </tr>\n",
       "  </tbody>\n",
       "</table>\n",
       "<p>100 rows × 9 columns</p>\n",
       "</div>"
      ],
      "text/plain": [
       "    Height  Score  nova_categoria_A  nova_categoria_B  nova_categoria_C  \\\n",
       "0    1.539   6.61                 1                 0                 0   \n",
       "1    1.764   6.42                 0                 1                 0   \n",
       "2    1.695   8.95                 0                 0                 1   \n",
       "3    1.829   5.14                 0                 0                 0   \n",
       "4    1.640   6.43                 1                 0                 0   \n",
       "..     ...    ...               ...               ...               ...   \n",
       "95   1.864   6.83                 0                 0                 0   \n",
       "96   2.018   6.47                 1                 0                 0   \n",
       "97   1.648   7.04                 0                 1                 0   \n",
       "98   1.789   5.59                 0                 0                 1   \n",
       "99   2.088   7.84                 0                 0                 0   \n",
       "\n",
       "    nova_categoria_D  Course_Biology  Course_Math  Course_Physics  \n",
       "0                  0               1            0               0  \n",
       "1                  0               1            0               0  \n",
       "2                  0               1            0               0  \n",
       "3                  1               1            0               0  \n",
       "4                  0               0            0               1  \n",
       "..               ...             ...          ...             ...  \n",
       "95                 1               0            1               0  \n",
       "96                 0               0            0               1  \n",
       "97                 0               0            0               1  \n",
       "98                 0               0            1               0  \n",
       "99                 1               0            1               0  \n",
       "\n",
       "[100 rows x 9 columns]"
      ]
     },
     "execution_count": 7,
     "metadata": {},
     "output_type": "execute_result"
    }
   ],
   "source": [
    "pd.get_dummies(temp, columns=['nova_categoria','Course'])"
   ]
  },
  {
   "cell_type": "code",
   "execution_count": 8,
   "metadata": {
    "colab": {
     "base_uri": "https://localhost:8080/",
     "height": 191
    },
    "colab_type": "code",
    "id": "MDpY6XcNmYlw",
    "outputId": "5fda81c9-000d-4557-cb3f-22d012b3e548"
   },
   "outputs": [
    {
     "data": {
      "text/plain": [
       "array([[1, 0, 0],\n",
       "       [1, 0, 0],\n",
       "       [1, 0, 0],\n",
       "       [1, 0, 0],\n",
       "       [0, 0, 1],\n",
       "       [0, 0, 1],\n",
       "       [1, 0, 0],\n",
       "       [0, 0, 1],\n",
       "       [0, 0, 1],\n",
       "       [0, 0, 1]])"
      ]
     },
     "execution_count": 8,
     "metadata": {},
     "output_type": "execute_result"
    }
   ],
   "source": [
    "one_hot_encoder = OneHotEncoder(sparse=False, dtype=np.int)\n",
    "\n",
    "#one_hot_encoder.fit(data[[\"Course\"]])\n",
    "#course_encoded = one_hot_encoder.transform(...)\n",
    "\n",
    "course_encoded = one_hot_encoder.fit_transform(data[[\"Course\"]])\n",
    "\n",
    "course_encoded[:10]"
   ]
  },
  {
   "cell_type": "markdown",
   "metadata": {
    "colab_type": "text",
    "id": "V-O0cMCyQqk4"
   },
   "source": [
    "A saída é um `np.ndarray` com formato `(n, h)`, onde `n` é o número de observações no _data set_ e `h` é o número de categorias da variável codificada."
   ]
  },
  {
   "cell_type": "code",
   "execution_count": 9,
   "metadata": {
    "colab": {
     "base_uri": "https://localhost:8080/",
     "height": 34
    },
    "colab_type": "code",
    "id": "BP_QsDI6REl_",
    "outputId": "10a0faf0-b05f-4ad8-f79d-7642d15862a7"
   },
   "outputs": [
    {
     "data": {
      "text/plain": [
       "(100, 3)"
      ]
     },
     "execution_count": 9,
     "metadata": {},
     "output_type": "execute_result"
    }
   ],
   "source": [
    "course_encoded.shape"
   ]
  },
  {
   "cell_type": "markdown",
   "metadata": {
    "colab_type": "text",
    "id": "eoRT2AR8RHNl"
   },
   "source": [
    "No atributo `categories_` do _encoder_, temos as categorias da variável:"
   ]
  },
  {
   "cell_type": "code",
   "execution_count": 10,
   "metadata": {
    "colab": {
     "base_uri": "https://localhost:8080/",
     "height": 34
    },
    "colab_type": "code",
    "id": "ziGE3VCinqM7",
    "outputId": "2c77ac8b-ba1b-4479-97aa-b59cff8b78bf"
   },
   "outputs": [
    {
     "data": {
      "text/plain": [
       "[array(['Biology', 'Math', 'Physics'], dtype=object)]"
      ]
     },
     "execution_count": 10,
     "metadata": {},
     "output_type": "execute_result"
    }
   ],
   "source": [
    "one_hot_encoder.categories_"
   ]
  },
  {
   "cell_type": "markdown",
   "metadata": {
    "colab_type": "text",
    "id": "y8V2WMjmRUkw"
   },
   "source": [
    "Podemos criar as novas colunas que descrevem cada categoria. Repare que, para qualquer linha, apenas uma das colunas contém um 1, indicando a qual categoria aquela observação pertence. Isso acontece, obviamente, se as categorias forem mutuamente exclusivas (uma observação não pode pertencer a mais de uma categoria simultaneamente)."
   ]
  },
  {
   "cell_type": "code",
   "execution_count": 11,
   "metadata": {
    "colab": {
     "base_uri": "https://localhost:8080/",
     "height": 363
    },
    "colab_type": "code",
    "id": "dGepWPRFoqc0",
    "outputId": "dc6a6dff-007d-4f66-cbfb-2aad4c8a7448"
   },
   "outputs": [
    {
     "data": {
      "text/html": [
       "<div>\n",
       "<style scoped>\n",
       "    .dataframe tbody tr th:only-of-type {\n",
       "        vertical-align: middle;\n",
       "    }\n",
       "\n",
       "    .dataframe tbody tr th {\n",
       "        vertical-align: top;\n",
       "    }\n",
       "\n",
       "    .dataframe thead th {\n",
       "        text-align: right;\n",
       "    }\n",
       "</style>\n",
       "<table border=\"1\" class=\"dataframe\">\n",
       "  <thead>\n",
       "    <tr style=\"text-align: right;\">\n",
       "      <th></th>\n",
       "      <th>Height</th>\n",
       "      <th>Score</th>\n",
       "      <th>Course</th>\n",
       "      <th>Biology</th>\n",
       "      <th>Math</th>\n",
       "      <th>Physics</th>\n",
       "    </tr>\n",
       "  </thead>\n",
       "  <tbody>\n",
       "    <tr>\n",
       "      <th>0</th>\n",
       "      <td>1.539</td>\n",
       "      <td>6.61</td>\n",
       "      <td>Biology</td>\n",
       "      <td>1</td>\n",
       "      <td>0</td>\n",
       "      <td>0</td>\n",
       "    </tr>\n",
       "    <tr>\n",
       "      <th>1</th>\n",
       "      <td>1.764</td>\n",
       "      <td>6.42</td>\n",
       "      <td>Biology</td>\n",
       "      <td>1</td>\n",
       "      <td>0</td>\n",
       "      <td>0</td>\n",
       "    </tr>\n",
       "    <tr>\n",
       "      <th>2</th>\n",
       "      <td>1.695</td>\n",
       "      <td>8.95</td>\n",
       "      <td>Biology</td>\n",
       "      <td>1</td>\n",
       "      <td>0</td>\n",
       "      <td>0</td>\n",
       "    </tr>\n",
       "    <tr>\n",
       "      <th>3</th>\n",
       "      <td>1.829</td>\n",
       "      <td>5.14</td>\n",
       "      <td>Biology</td>\n",
       "      <td>1</td>\n",
       "      <td>0</td>\n",
       "      <td>0</td>\n",
       "    </tr>\n",
       "    <tr>\n",
       "      <th>4</th>\n",
       "      <td>1.640</td>\n",
       "      <td>6.43</td>\n",
       "      <td>Physics</td>\n",
       "      <td>0</td>\n",
       "      <td>0</td>\n",
       "      <td>1</td>\n",
       "    </tr>\n",
       "    <tr>\n",
       "      <th>5</th>\n",
       "      <td>1.778</td>\n",
       "      <td>7.98</td>\n",
       "      <td>Physics</td>\n",
       "      <td>0</td>\n",
       "      <td>0</td>\n",
       "      <td>1</td>\n",
       "    </tr>\n",
       "    <tr>\n",
       "      <th>6</th>\n",
       "      <td>1.679</td>\n",
       "      <td>7.90</td>\n",
       "      <td>Biology</td>\n",
       "      <td>1</td>\n",
       "      <td>0</td>\n",
       "      <td>0</td>\n",
       "    </tr>\n",
       "    <tr>\n",
       "      <th>7</th>\n",
       "      <td>1.604</td>\n",
       "      <td>6.76</td>\n",
       "      <td>Physics</td>\n",
       "      <td>0</td>\n",
       "      <td>0</td>\n",
       "      <td>1</td>\n",
       "    </tr>\n",
       "    <tr>\n",
       "      <th>8</th>\n",
       "      <td>1.819</td>\n",
       "      <td>7.44</td>\n",
       "      <td>Physics</td>\n",
       "      <td>0</td>\n",
       "      <td>0</td>\n",
       "      <td>1</td>\n",
       "    </tr>\n",
       "    <tr>\n",
       "      <th>9</th>\n",
       "      <td>1.607</td>\n",
       "      <td>6.01</td>\n",
       "      <td>Physics</td>\n",
       "      <td>0</td>\n",
       "      <td>0</td>\n",
       "      <td>1</td>\n",
       "    </tr>\n",
       "  </tbody>\n",
       "</table>\n",
       "</div>"
      ],
      "text/plain": [
       "   Height  Score   Course  Biology  Math  Physics\n",
       "0   1.539   6.61  Biology        1     0        0\n",
       "1   1.764   6.42  Biology        1     0        0\n",
       "2   1.695   8.95  Biology        1     0        0\n",
       "3   1.829   5.14  Biology        1     0        0\n",
       "4   1.640   6.43  Physics        0     0        1\n",
       "5   1.778   7.98  Physics        0     0        1\n",
       "6   1.679   7.90  Biology        1     0        0\n",
       "7   1.604   6.76  Physics        0     0        1\n",
       "8   1.819   7.44  Physics        0     0        1\n",
       "9   1.607   6.01  Physics        0     0        1"
      ]
     },
     "execution_count": 11,
     "metadata": {},
     "output_type": "execute_result"
    }
   ],
   "source": [
    "columns_encoded = one_hot_encoder.categories_[0]\n",
    "\n",
    "data_encoded = pd.concat([data, pd.DataFrame(course_encoded, columns=columns_encoded)], axis=1)\n",
    "\n",
    "data_encoded.head(10)"
   ]
  },
  {
   "cell_type": "markdown",
   "metadata": {
    "colab_type": "text",
    "id": "iIiVR7P4SHXz"
   },
   "source": [
    "Como você deve imaginar, a maior parte da matriz retornada é composta por zeros, sendo apenas alguns elementos compostos de um. Dizemos que essa matriz é __esparsa__. É um grande desperdício de memória trabalhar diretamente como uma matriz esparsa assim. Por isso, o _default_ do `OneHotEncoder` é retornar uma `sparse matrix` do NumPy, economizando espaço em memória:"
   ]
  },
  {
   "cell_type": "code",
   "execution_count": 12,
   "metadata": {
    "colab": {
     "base_uri": "https://localhost:8080/",
     "height": 52
    },
    "colab_type": "code",
    "id": "muGSmJckraf3",
    "outputId": "c8957d2b-68c4-4722-80ea-5e241c479a88"
   },
   "outputs": [
    {
     "data": {
      "text/plain": [
       "<100x3 sparse matrix of type '<class 'numpy.float64'>'\n",
       "\twith 100 stored elements in Compressed Sparse Row format>"
      ]
     },
     "execution_count": 12,
     "metadata": {},
     "output_type": "execute_result"
    }
   ],
   "source": [
    "one_hot_encoder_sparse = OneHotEncoder(sparse=True) # sparse=True é o default.\n",
    "\n",
    "course_encoded_sparse = one_hot_encoder_sparse.fit_transform(data[[\"Course\"]])\n",
    "\n",
    "course_encoded_sparse"
   ]
  },
  {
   "cell_type": "markdown",
   "metadata": {
    "colab_type": "text",
    "id": "FOYl0Lx8TPJm"
   },
   "source": [
    "Para acessar os dados dessa matriz, podemos convertê-la para um _array_ não esparso:"
   ]
  },
  {
   "cell_type": "code",
   "execution_count": 13,
   "metadata": {
    "colab": {
     "base_uri": "https://localhost:8080/",
     "height": 191
    },
    "colab_type": "code",
    "id": "mtUziaQmrqTN",
    "outputId": "bb7920ae-69a0-4543-97da-b1fc2746ddd0"
   },
   "outputs": [
    {
     "data": {
      "text/plain": [
       "array([[1., 0., 0.],\n",
       "       [1., 0., 0.],\n",
       "       [1., 0., 0.],\n",
       "       [1., 0., 0.],\n",
       "       [0., 0., 1.],\n",
       "       [0., 0., 1.],\n",
       "       [1., 0., 0.],\n",
       "       [0., 0., 1.],\n",
       "       [0., 0., 1.],\n",
       "       [0., 0., 1.]])"
      ]
     },
     "execution_count": 13,
     "metadata": {},
     "output_type": "execute_result"
    }
   ],
   "source": [
    "course_encoded_sparse.toarray()[:10]"
   ]
  },
  {
   "cell_type": "markdown",
   "metadata": {
    "colab_type": "text",
    "id": "zHGmVXu1uEvM"
   },
   "source": [
    "## Binarização (_Binarization_)\n",
    "\n",
    "Binarização é o processo de discretizar uma variável numérica em dois níveis com base em um _threshold_. Isso pode ser útil, por exemplo, para tornar uma variável numérica contínua em uma variável binária alvo de duas classes (positiva ou negativa).\n",
    "\n",
    "No exemplo abaixo, vamos separar a variável `Height` em dois grupos, utilizando 1.80 m como _threshold_ de separação. Observações que possuam menos de 1.80 m terão valor 0, enquanto aquelas com mais de 1.80 m terão valor 1:"
   ]
  },
  {
   "cell_type": "code",
   "execution_count": 14,
   "metadata": {
    "colab": {
     "base_uri": "https://localhost:8080/",
     "height": 208
    },
    "colab_type": "code",
    "id": "PeGrPpyWPcOw",
    "outputId": "edb6b4c4-97e9-4914-f952-aa60c6dbbbc2"
   },
   "outputs": [
    {
     "data": {
      "text/plain": [
       "0    False\n",
       "1    False\n",
       "2    False\n",
       "3     True\n",
       "4    False\n",
       "5    False\n",
       "6    False\n",
       "7    False\n",
       "8     True\n",
       "9    False\n",
       "Name: Height, dtype: bool"
      ]
     },
     "execution_count": 14,
     "metadata": {},
     "output_type": "execute_result"
    }
   ],
   "source": [
    "tall = (data_encoded.Height > 1.80)\n",
    "\n",
    "tall[:10]"
   ]
  },
  {
   "cell_type": "code",
   "execution_count": 15,
   "metadata": {
    "colab": {
     "base_uri": "https://localhost:8080/",
     "height": 191
    },
    "colab_type": "code",
    "id": "94vcsMVguGvG",
    "outputId": "b2b15447-7399-4309-b18a-3de5a183a41e"
   },
   "outputs": [
    {
     "data": {
      "text/plain": [
       "array([[0.],\n",
       "       [0.],\n",
       "       [0.],\n",
       "       [1.],\n",
       "       [0.],\n",
       "       [0.],\n",
       "       [0.],\n",
       "       [0.],\n",
       "       [1.],\n",
       "       [0.]])"
      ]
     },
     "execution_count": 15,
     "metadata": {},
     "output_type": "execute_result"
    }
   ],
   "source": [
    "binarizer = Binarizer(threshold=1.80).fit(data_encoded[[\"Height\"]])\n",
    "\n",
    "height_binary = binarizer.transform(data_encoded[[\"Height\"]])\n",
    "\n",
    "height_binary[:10]"
   ]
  },
  {
   "cell_type": "markdown",
   "metadata": {
    "colab_type": "text",
    "id": "oND_xnxRV8wZ"
   },
   "source": [
    "O `Binarizer` tem como saída uma matriz binária numérica. Podemos transformá-la em um vetor de _bool_:"
   ]
  },
  {
   "cell_type": "code",
   "execution_count": 16,
   "metadata": {
    "colab": {
     "base_uri": "https://localhost:8080/",
     "height": 363
    },
    "colab_type": "code",
    "id": "iXbf50-4vdDR",
    "outputId": "2f7dba40-f513-491a-e072-743ac0a8c88f"
   },
   "outputs": [
    {
     "data": {
      "text/html": [
       "<div>\n",
       "<style scoped>\n",
       "    .dataframe tbody tr th:only-of-type {\n",
       "        vertical-align: middle;\n",
       "    }\n",
       "\n",
       "    .dataframe tbody tr th {\n",
       "        vertical-align: top;\n",
       "    }\n",
       "\n",
       "    .dataframe thead th {\n",
       "        text-align: right;\n",
       "    }\n",
       "</style>\n",
       "<table border=\"1\" class=\"dataframe\">\n",
       "  <thead>\n",
       "    <tr style=\"text-align: right;\">\n",
       "      <th></th>\n",
       "      <th>Tall</th>\n",
       "    </tr>\n",
       "  </thead>\n",
       "  <tbody>\n",
       "    <tr>\n",
       "      <th>0</th>\n",
       "      <td>False</td>\n",
       "    </tr>\n",
       "    <tr>\n",
       "      <th>1</th>\n",
       "      <td>False</td>\n",
       "    </tr>\n",
       "    <tr>\n",
       "      <th>2</th>\n",
       "      <td>False</td>\n",
       "    </tr>\n",
       "    <tr>\n",
       "      <th>3</th>\n",
       "      <td>True</td>\n",
       "    </tr>\n",
       "    <tr>\n",
       "      <th>4</th>\n",
       "      <td>False</td>\n",
       "    </tr>\n",
       "    <tr>\n",
       "      <th>5</th>\n",
       "      <td>False</td>\n",
       "    </tr>\n",
       "    <tr>\n",
       "      <th>6</th>\n",
       "      <td>False</td>\n",
       "    </tr>\n",
       "    <tr>\n",
       "      <th>7</th>\n",
       "      <td>False</td>\n",
       "    </tr>\n",
       "    <tr>\n",
       "      <th>8</th>\n",
       "      <td>True</td>\n",
       "    </tr>\n",
       "    <tr>\n",
       "      <th>9</th>\n",
       "      <td>False</td>\n",
       "    </tr>\n",
       "  </tbody>\n",
       "</table>\n",
       "</div>"
      ],
      "text/plain": [
       "    Tall\n",
       "0  False\n",
       "1  False\n",
       "2  False\n",
       "3   True\n",
       "4  False\n",
       "5  False\n",
       "6  False\n",
       "7  False\n",
       "8   True\n",
       "9  False"
      ]
     },
     "execution_count": 16,
     "metadata": {},
     "output_type": "execute_result"
    }
   ],
   "source": [
    "height_bool = pd.DataFrame(height_binary.flatten().astype(bool), columns=[\"Tall\"])\n",
    "\n",
    "height_bool.head(10)"
   ]
  },
  {
   "cell_type": "markdown",
   "metadata": {
    "colab_type": "text",
    "id": "nn9Gs9DhWNvi"
   },
   "source": [
    "Vamos adicionar a nova variável `Tall`, que indica se a pessoa é alta (> 1.80 m), ao nosso _data set_:"
   ]
  },
  {
   "cell_type": "code",
   "execution_count": 17,
   "metadata": {
    "colab": {
     "base_uri": "https://localhost:8080/",
     "height": 363
    },
    "colab_type": "code",
    "id": "xjOV0WlJy7DY",
    "outputId": "af316c4b-4931-44cb-a4af-4fa51b3c93fc"
   },
   "outputs": [
    {
     "data": {
      "text/html": [
       "<div>\n",
       "<style scoped>\n",
       "    .dataframe tbody tr th:only-of-type {\n",
       "        vertical-align: middle;\n",
       "    }\n",
       "\n",
       "    .dataframe tbody tr th {\n",
       "        vertical-align: top;\n",
       "    }\n",
       "\n",
       "    .dataframe thead th {\n",
       "        text-align: right;\n",
       "    }\n",
       "</style>\n",
       "<table border=\"1\" class=\"dataframe\">\n",
       "  <thead>\n",
       "    <tr style=\"text-align: right;\">\n",
       "      <th></th>\n",
       "      <th>Height</th>\n",
       "      <th>Score</th>\n",
       "      <th>Course</th>\n",
       "      <th>Biology</th>\n",
       "      <th>Math</th>\n",
       "      <th>Physics</th>\n",
       "      <th>Tall</th>\n",
       "    </tr>\n",
       "  </thead>\n",
       "  <tbody>\n",
       "    <tr>\n",
       "      <th>0</th>\n",
       "      <td>1.539</td>\n",
       "      <td>6.61</td>\n",
       "      <td>Biology</td>\n",
       "      <td>1</td>\n",
       "      <td>0</td>\n",
       "      <td>0</td>\n",
       "      <td>False</td>\n",
       "    </tr>\n",
       "    <tr>\n",
       "      <th>1</th>\n",
       "      <td>1.764</td>\n",
       "      <td>6.42</td>\n",
       "      <td>Biology</td>\n",
       "      <td>1</td>\n",
       "      <td>0</td>\n",
       "      <td>0</td>\n",
       "      <td>False</td>\n",
       "    </tr>\n",
       "    <tr>\n",
       "      <th>2</th>\n",
       "      <td>1.695</td>\n",
       "      <td>8.95</td>\n",
       "      <td>Biology</td>\n",
       "      <td>1</td>\n",
       "      <td>0</td>\n",
       "      <td>0</td>\n",
       "      <td>False</td>\n",
       "    </tr>\n",
       "    <tr>\n",
       "      <th>3</th>\n",
       "      <td>1.829</td>\n",
       "      <td>5.14</td>\n",
       "      <td>Biology</td>\n",
       "      <td>1</td>\n",
       "      <td>0</td>\n",
       "      <td>0</td>\n",
       "      <td>True</td>\n",
       "    </tr>\n",
       "    <tr>\n",
       "      <th>4</th>\n",
       "      <td>1.640</td>\n",
       "      <td>6.43</td>\n",
       "      <td>Physics</td>\n",
       "      <td>0</td>\n",
       "      <td>0</td>\n",
       "      <td>1</td>\n",
       "      <td>False</td>\n",
       "    </tr>\n",
       "    <tr>\n",
       "      <th>5</th>\n",
       "      <td>1.778</td>\n",
       "      <td>7.98</td>\n",
       "      <td>Physics</td>\n",
       "      <td>0</td>\n",
       "      <td>0</td>\n",
       "      <td>1</td>\n",
       "      <td>False</td>\n",
       "    </tr>\n",
       "    <tr>\n",
       "      <th>6</th>\n",
       "      <td>1.679</td>\n",
       "      <td>7.90</td>\n",
       "      <td>Biology</td>\n",
       "      <td>1</td>\n",
       "      <td>0</td>\n",
       "      <td>0</td>\n",
       "      <td>False</td>\n",
       "    </tr>\n",
       "    <tr>\n",
       "      <th>7</th>\n",
       "      <td>1.604</td>\n",
       "      <td>6.76</td>\n",
       "      <td>Physics</td>\n",
       "      <td>0</td>\n",
       "      <td>0</td>\n",
       "      <td>1</td>\n",
       "      <td>False</td>\n",
       "    </tr>\n",
       "    <tr>\n",
       "      <th>8</th>\n",
       "      <td>1.819</td>\n",
       "      <td>7.44</td>\n",
       "      <td>Physics</td>\n",
       "      <td>0</td>\n",
       "      <td>0</td>\n",
       "      <td>1</td>\n",
       "      <td>True</td>\n",
       "    </tr>\n",
       "    <tr>\n",
       "      <th>9</th>\n",
       "      <td>1.607</td>\n",
       "      <td>6.01</td>\n",
       "      <td>Physics</td>\n",
       "      <td>0</td>\n",
       "      <td>0</td>\n",
       "      <td>1</td>\n",
       "      <td>False</td>\n",
       "    </tr>\n",
       "  </tbody>\n",
       "</table>\n",
       "</div>"
      ],
      "text/plain": [
       "   Height  Score   Course  Biology  Math  Physics   Tall\n",
       "0   1.539   6.61  Biology        1     0        0  False\n",
       "1   1.764   6.42  Biology        1     0        0  False\n",
       "2   1.695   8.95  Biology        1     0        0  False\n",
       "3   1.829   5.14  Biology        1     0        0   True\n",
       "4   1.640   6.43  Physics        0     0        1  False\n",
       "5   1.778   7.98  Physics        0     0        1  False\n",
       "6   1.679   7.90  Biology        1     0        0  False\n",
       "7   1.604   6.76  Physics        0     0        1  False\n",
       "8   1.819   7.44  Physics        0     0        1   True\n",
       "9   1.607   6.01  Physics        0     0        1  False"
      ]
     },
     "execution_count": 17,
     "metadata": {},
     "output_type": "execute_result"
    }
   ],
   "source": [
    "data_encoded = pd.concat([data_encoded, height_bool], axis=1)\n",
    "\n",
    "data_encoded.head(10)"
   ]
  },
  {
   "cell_type": "markdown",
   "metadata": {
    "colab_type": "text",
    "id": "2tOdmnNi23p4"
   },
   "source": [
    "## Discretização (_Binning_)\n",
    "\n",
    "Discretização, como o nome diz, é o processo de discretizar ou separar em intervalos contínuos uma variável numérica. Isso pode ser útil para converter uma variável numérica em categórica, quando o valor exato numérico não for tão importante quanto o intervalo onde ele se encontra.\n",
    "\n",
    "Podemos criar _bins_ (_buckets_ ou intervalos) que contenham aproximadamente a mesma quantidade de observações, utilizando a estratégia `quantile` ou que sejam igualmente espaçados com a estratégia `uniform`.\n",
    "\n",
    "No exemplo a seguir, criamos quatro intervalos da variável `Score` com a estratégia `quantile`:"
   ]
  },
  {
   "cell_type": "code",
   "execution_count": 18,
   "metadata": {
    "colab": {
     "base_uri": "https://localhost:8080/",
     "height": 191
    },
    "colab_type": "code",
    "id": "Xir4K6i522ZQ",
    "outputId": "e902850a-d3dc-4d97-a80f-ad3dad1bb1a2"
   },
   "outputs": [
    {
     "data": {
      "text/plain": [
       "array([[1.],\n",
       "       [1.],\n",
       "       [3.],\n",
       "       [0.],\n",
       "       [1.],\n",
       "       [3.],\n",
       "       [3.],\n",
       "       [2.],\n",
       "       [2.],\n",
       "       [0.]])"
      ]
     },
     "execution_count": 18,
     "metadata": {},
     "output_type": "execute_result"
    }
   ],
   "source": [
    "discretizer = KBinsDiscretizer(n_bins=4, encode=\"ordinal\", strategy=\"quantile\")\n",
    "\n",
    "discretizer.fit(data_encoded[[\"Score\"]])\n",
    "\n",
    "score_bins = discretizer.transform(data_encoded[[\"Score\"]])\n",
    "\n",
    "score_bins[:10]"
   ]
  },
  {
   "cell_type": "markdown",
   "metadata": {
    "colab_type": "text",
    "id": "3hrP6E4xYXCs"
   },
   "source": [
    "Os limites dos intervalos estão disponíveis no atributo `bin_edges_`. Isso pode ser útil para criarmos _labels_ para colunas do _data set_ por exemplo:"
   ]
  },
  {
   "cell_type": "code",
   "execution_count": 20,
   "metadata": {
    "colab": {
     "base_uri": "https://localhost:8080/",
     "height": 34
    },
    "colab_type": "code",
    "id": "ScCmeNtn3-fF",
    "outputId": "be1003a5-2d28-42d6-e76d-bc349e957e95"
   },
   "outputs": [
    {
     "data": {
      "text/plain": [
       "array([array([4.09  , 6.1975, 6.735 , 7.6   , 9.28  ])], dtype=object)"
      ]
     },
     "execution_count": 20,
     "metadata": {},
     "output_type": "execute_result"
    }
   ],
   "source": [
    "discretizer.bin_edges_"
   ]
  },
  {
   "cell_type": "markdown",
   "metadata": {
    "colab_type": "text",
    "id": "vGl5ONq2Yk7r"
   },
   "source": [
    "A função `get_interval()` abaixo facilita a criação de _labels_ indicativas dos intervalos:"
   ]
  },
  {
   "cell_type": "code",
   "execution_count": 21,
   "metadata": {
    "colab": {},
    "colab_type": "code",
    "id": "fvB70_vd4fSO"
   },
   "outputs": [],
   "source": [
    "def get_interval(bin_idx, bin_edges):\n",
    "    return f\"{np.round(bin_edges[bin_idx], 2):.2f} - {np.round(bin_edges[bin_idx+1], 2):.2f}\""
   ]
  },
  {
   "cell_type": "markdown",
   "metadata": {
    "colab_type": "text",
    "id": "Hn3eqHFbYtfm"
   },
   "source": [
    "Cada um dos intervalos mostrados abaixo deve possuir aproximadamente a mesma quantidade de observações:"
   ]
  },
  {
   "cell_type": "code",
   "execution_count": 22,
   "metadata": {
    "colab": {
     "base_uri": "https://localhost:8080/",
     "height": 139
    },
    "colab_type": "code",
    "id": "HX59pepN5ZQQ",
    "outputId": "d5b3d4dc-c969-44cb-fa34-e31fad2dd818"
   },
   "outputs": [
    {
     "name": "stdout",
     "output_type": "stream",
     "text": [
      "Bins quantile\n",
      "interval: #elements\n",
      "\n",
      "4.09 - 6.20: 25\n",
      "6.20 - 6.74: 25\n",
      "6.74 - 7.60: 25\n",
      "7.60 - 9.28: 25\n"
     ]
    }
   ],
   "source": [
    "bin_edges_quantile = discretizer.bin_edges_[0]\n",
    "\n",
    "print(f\"Bins quantile\")\n",
    "print(f\"interval: #elements\\n\")\n",
    "for i in range(len(discretizer.bin_edges_[0])-1):\n",
    "    print(f\"{get_interval(i, bin_edges_quantile)}: {sum(score_bins[:, 0] == i)}\")"
   ]
  },
  {
   "cell_type": "markdown",
   "metadata": {
    "colab_type": "text",
    "id": "OQ0fli3IY2G6"
   },
   "source": [
    "A _Series_ abaixo mostra alguns dos intervalos para os quais as observações foram encaixadas:"
   ]
  },
  {
   "cell_type": "code",
   "execution_count": 23,
   "metadata": {
    "colab": {
     "base_uri": "https://localhost:8080/",
     "height": 208
    },
    "colab_type": "code",
    "id": "SZMBYjqR5-H6",
    "outputId": "cba541dc-9f9e-48d8-eb87-fa54440ca353"
   },
   "outputs": [
    {
     "data": {
      "text/plain": [
       "0    6.20 - 6.74\n",
       "1    6.20 - 6.74\n",
       "2    7.60 - 9.28\n",
       "3    4.09 - 6.20\n",
       "4    6.20 - 6.74\n",
       "5    7.60 - 9.28\n",
       "6    7.60 - 9.28\n",
       "7    6.74 - 7.60\n",
       "8    6.74 - 7.60\n",
       "9    4.09 - 6.20\n",
       "dtype: object"
      ]
     },
     "execution_count": 23,
     "metadata": {},
     "output_type": "execute_result"
    }
   ],
   "source": [
    "score_intervals = pd.Series(score_bins.flatten().astype(np.int)).apply(get_interval, args=(bin_edges_quantile,))\n",
    "\n",
    "score_intervals.head(10)"
   ]
  },
  {
   "cell_type": "markdown",
   "metadata": {
    "colab_type": "text",
    "id": "6gWE7IU6Y_9q"
   },
   "source": [
    "Também podemos criar uma nova variável, `Score_interval`, no nosso _data set_ com os intervalos (que agora são categorias):"
   ]
  },
  {
   "cell_type": "code",
   "execution_count": 24,
   "metadata": {
    "colab": {
     "base_uri": "https://localhost:8080/",
     "height": 363
    },
    "colab_type": "code",
    "id": "fomFOQbVA8eS",
    "outputId": "1f065c4f-6da4-43ad-ebb7-b58706595871"
   },
   "outputs": [
    {
     "data": {
      "text/html": [
       "<div>\n",
       "<style scoped>\n",
       "    .dataframe tbody tr th:only-of-type {\n",
       "        vertical-align: middle;\n",
       "    }\n",
       "\n",
       "    .dataframe tbody tr th {\n",
       "        vertical-align: top;\n",
       "    }\n",
       "\n",
       "    .dataframe thead th {\n",
       "        text-align: right;\n",
       "    }\n",
       "</style>\n",
       "<table border=\"1\" class=\"dataframe\">\n",
       "  <thead>\n",
       "    <tr style=\"text-align: right;\">\n",
       "      <th></th>\n",
       "      <th>Height</th>\n",
       "      <th>Score</th>\n",
       "      <th>Course</th>\n",
       "      <th>Biology</th>\n",
       "      <th>Math</th>\n",
       "      <th>Physics</th>\n",
       "      <th>Tall</th>\n",
       "      <th>Score_interval</th>\n",
       "    </tr>\n",
       "  </thead>\n",
       "  <tbody>\n",
       "    <tr>\n",
       "      <th>0</th>\n",
       "      <td>1.539</td>\n",
       "      <td>6.61</td>\n",
       "      <td>Biology</td>\n",
       "      <td>1</td>\n",
       "      <td>0</td>\n",
       "      <td>0</td>\n",
       "      <td>False</td>\n",
       "      <td>6.20 - 6.74</td>\n",
       "    </tr>\n",
       "    <tr>\n",
       "      <th>1</th>\n",
       "      <td>1.764</td>\n",
       "      <td>6.42</td>\n",
       "      <td>Biology</td>\n",
       "      <td>1</td>\n",
       "      <td>0</td>\n",
       "      <td>0</td>\n",
       "      <td>False</td>\n",
       "      <td>6.20 - 6.74</td>\n",
       "    </tr>\n",
       "    <tr>\n",
       "      <th>2</th>\n",
       "      <td>1.695</td>\n",
       "      <td>8.95</td>\n",
       "      <td>Biology</td>\n",
       "      <td>1</td>\n",
       "      <td>0</td>\n",
       "      <td>0</td>\n",
       "      <td>False</td>\n",
       "      <td>7.60 - 9.28</td>\n",
       "    </tr>\n",
       "    <tr>\n",
       "      <th>3</th>\n",
       "      <td>1.829</td>\n",
       "      <td>5.14</td>\n",
       "      <td>Biology</td>\n",
       "      <td>1</td>\n",
       "      <td>0</td>\n",
       "      <td>0</td>\n",
       "      <td>True</td>\n",
       "      <td>4.09 - 6.20</td>\n",
       "    </tr>\n",
       "    <tr>\n",
       "      <th>4</th>\n",
       "      <td>1.640</td>\n",
       "      <td>6.43</td>\n",
       "      <td>Physics</td>\n",
       "      <td>0</td>\n",
       "      <td>0</td>\n",
       "      <td>1</td>\n",
       "      <td>False</td>\n",
       "      <td>6.20 - 6.74</td>\n",
       "    </tr>\n",
       "    <tr>\n",
       "      <th>5</th>\n",
       "      <td>1.778</td>\n",
       "      <td>7.98</td>\n",
       "      <td>Physics</td>\n",
       "      <td>0</td>\n",
       "      <td>0</td>\n",
       "      <td>1</td>\n",
       "      <td>False</td>\n",
       "      <td>7.60 - 9.28</td>\n",
       "    </tr>\n",
       "    <tr>\n",
       "      <th>6</th>\n",
       "      <td>1.679</td>\n",
       "      <td>7.90</td>\n",
       "      <td>Biology</td>\n",
       "      <td>1</td>\n",
       "      <td>0</td>\n",
       "      <td>0</td>\n",
       "      <td>False</td>\n",
       "      <td>7.60 - 9.28</td>\n",
       "    </tr>\n",
       "    <tr>\n",
       "      <th>7</th>\n",
       "      <td>1.604</td>\n",
       "      <td>6.76</td>\n",
       "      <td>Physics</td>\n",
       "      <td>0</td>\n",
       "      <td>0</td>\n",
       "      <td>1</td>\n",
       "      <td>False</td>\n",
       "      <td>6.74 - 7.60</td>\n",
       "    </tr>\n",
       "    <tr>\n",
       "      <th>8</th>\n",
       "      <td>1.819</td>\n",
       "      <td>7.44</td>\n",
       "      <td>Physics</td>\n",
       "      <td>0</td>\n",
       "      <td>0</td>\n",
       "      <td>1</td>\n",
       "      <td>True</td>\n",
       "      <td>6.74 - 7.60</td>\n",
       "    </tr>\n",
       "    <tr>\n",
       "      <th>9</th>\n",
       "      <td>1.607</td>\n",
       "      <td>6.01</td>\n",
       "      <td>Physics</td>\n",
       "      <td>0</td>\n",
       "      <td>0</td>\n",
       "      <td>1</td>\n",
       "      <td>False</td>\n",
       "      <td>4.09 - 6.20</td>\n",
       "    </tr>\n",
       "  </tbody>\n",
       "</table>\n",
       "</div>"
      ],
      "text/plain": [
       "   Height  Score   Course  Biology  Math  Physics   Tall Score_interval\n",
       "0   1.539   6.61  Biology        1     0        0  False    6.20 - 6.74\n",
       "1   1.764   6.42  Biology        1     0        0  False    6.20 - 6.74\n",
       "2   1.695   8.95  Biology        1     0        0  False    7.60 - 9.28\n",
       "3   1.829   5.14  Biology        1     0        0   True    4.09 - 6.20\n",
       "4   1.640   6.43  Physics        0     0        1  False    6.20 - 6.74\n",
       "5   1.778   7.98  Physics        0     0        1  False    7.60 - 9.28\n",
       "6   1.679   7.90  Biology        1     0        0  False    7.60 - 9.28\n",
       "7   1.604   6.76  Physics        0     0        1  False    6.74 - 7.60\n",
       "8   1.819   7.44  Physics        0     0        1   True    6.74 - 7.60\n",
       "9   1.607   6.01  Physics        0     0        1  False    4.09 - 6.20"
      ]
     },
     "execution_count": 24,
     "metadata": {},
     "output_type": "execute_result"
    }
   ],
   "source": [
    "data_encoded = pd.concat([data_encoded, pd.DataFrame(score_intervals, columns=[\"Score_interval\"])], axis=1)\n",
    "\n",
    "data_encoded.head(10)"
   ]
  },
  {
   "cell_type": "markdown",
   "metadata": {
    "colab_type": "text",
    "id": "LldlZ92lZN1k"
   },
   "source": [
    "Como dito, podemos utilizar a estratégia `uniform` para criar _bins_ igualmente espaçados, independente do número de observações que cada um possui. Também podemos especificar o tipo de codificação utilizada. No caso a seguir, utilizamos `encode=onehot-dense` para informar que queremos que a saída seja codificada como o _one-hot encode_ visto anteriormente:"
   ]
  },
  {
   "cell_type": "code",
   "execution_count": 26,
   "metadata": {
    "colab": {
     "base_uri": "https://localhost:8080/",
     "height": 191
    },
    "colab_type": "code",
    "id": "E6L1qXuW-v-n",
    "outputId": "956f9e9f-67ba-436f-f457-889ee2d1f3db"
   },
   "outputs": [
    {
     "data": {
      "text/plain": [
       "array([[0, 1, 0, 0],\n",
       "       [0, 1, 0, 0],\n",
       "       [0, 0, 0, 1],\n",
       "       [1, 0, 0, 0],\n",
       "       [0, 1, 0, 0],\n",
       "       [0, 0, 1, 0],\n",
       "       [0, 0, 1, 0],\n",
       "       [0, 0, 1, 0],\n",
       "       [0, 0, 1, 0],\n",
       "       [0, 1, 0, 0]])"
      ]
     },
     "execution_count": 26,
     "metadata": {},
     "output_type": "execute_result"
    }
   ],
   "source": [
    "discretizer_uniform = KBinsDiscretizer(n_bins=4, encode=\"onehot-dense\", strategy=\"uniform\")\n",
    "\n",
    "discretizer_uniform.fit(data_encoded[[\"Score\"]])\n",
    "\n",
    "score_bins_uniform = discretizer_uniform.transform(data_encoded[[\"Score\"]]).astype(np.int)\n",
    "\n",
    "score_bins_uniform[:10]"
   ]
  },
  {
   "cell_type": "markdown",
   "metadata": {
    "colab_type": "text",
    "id": "YapI8RuMZZfM"
   },
   "source": [
    "Note como agora os intervalos são ligeiramente diferentes:"
   ]
  },
  {
   "cell_type": "code",
   "execution_count": 27,
   "metadata": {
    "colab": {
     "base_uri": "https://localhost:8080/",
     "height": 34
    },
    "colab_type": "code",
    "id": "P8gW9k-w-_CC",
    "outputId": "731fca86-f052-4a93-e5bf-e13eec18ac8b"
   },
   "outputs": [
    {
     "data": {
      "text/plain": [
       "array([4.09  , 5.3875, 6.685 , 7.9825, 9.28  ])"
      ]
     },
     "execution_count": 27,
     "metadata": {},
     "output_type": "execute_result"
    }
   ],
   "source": [
    "bin_edges_uniform = discretizer_uniform.bin_edges_[0]\n",
    "\n",
    "bin_edges_uniform"
   ]
  },
  {
   "cell_type": "code",
   "execution_count": 28,
   "metadata": {
    "colab": {
     "base_uri": "https://localhost:8080/",
     "height": 139
    },
    "colab_type": "code",
    "id": "ieyy46EJAnb6",
    "outputId": "99835fa9-8003-4060-afae-2c4de66685ff"
   },
   "outputs": [
    {
     "name": "stdout",
     "output_type": "stream",
     "text": [
      "Bins uniform\n",
      "interval: #elements\n",
      "\n",
      "4.09 - 5.39: 6\n",
      "5.39 - 6.68: 43\n",
      "6.68 - 7.98: 44\n",
      "7.98 - 9.28: 7\n"
     ]
    }
   ],
   "source": [
    "score_intervals_columns = [get_interval(i, bin_edges_uniform) for i in range(4)]\n",
    "\n",
    "print(f\"Bins uniform\")\n",
    "print(f\"interval: #elements\\n\")\n",
    "for i in range(len(discretizer_uniform.bin_edges_[0])-1):\n",
    "    print(f\"{get_interval(i, bin_edges_uniform)}: {sum(score_bins_uniform[:, i])}\")"
   ]
  },
  {
   "cell_type": "markdown",
   "metadata": {
    "colab_type": "text",
    "id": "WuWi-1U4Zzf_"
   },
   "source": [
    "Podemos adicionar as novas variáveis binárias no _data set_:"
   ]
  },
  {
   "cell_type": "code",
   "execution_count": 29,
   "metadata": {
    "colab": {
     "base_uri": "https://localhost:8080/",
     "height": 363
    },
    "colab_type": "code",
    "id": "P-v3UgiQB87S",
    "outputId": "ad22d68f-c0e8-4a91-8838-842e7e2f5041"
   },
   "outputs": [
    {
     "data": {
      "text/html": [
       "<div>\n",
       "<style scoped>\n",
       "    .dataframe tbody tr th:only-of-type {\n",
       "        vertical-align: middle;\n",
       "    }\n",
       "\n",
       "    .dataframe tbody tr th {\n",
       "        vertical-align: top;\n",
       "    }\n",
       "\n",
       "    .dataframe thead th {\n",
       "        text-align: right;\n",
       "    }\n",
       "</style>\n",
       "<table border=\"1\" class=\"dataframe\">\n",
       "  <thead>\n",
       "    <tr style=\"text-align: right;\">\n",
       "      <th></th>\n",
       "      <th>Height</th>\n",
       "      <th>Score</th>\n",
       "      <th>Course</th>\n",
       "      <th>Biology</th>\n",
       "      <th>Math</th>\n",
       "      <th>Physics</th>\n",
       "      <th>Tall</th>\n",
       "      <th>Score_interval</th>\n",
       "      <th>4.09 - 5.39</th>\n",
       "      <th>5.39 - 6.68</th>\n",
       "      <th>6.68 - 7.98</th>\n",
       "      <th>7.98 - 9.28</th>\n",
       "    </tr>\n",
       "  </thead>\n",
       "  <tbody>\n",
       "    <tr>\n",
       "      <th>0</th>\n",
       "      <td>1.539</td>\n",
       "      <td>6.61</td>\n",
       "      <td>Biology</td>\n",
       "      <td>1</td>\n",
       "      <td>0</td>\n",
       "      <td>0</td>\n",
       "      <td>False</td>\n",
       "      <td>6.20 - 6.74</td>\n",
       "      <td>0</td>\n",
       "      <td>1</td>\n",
       "      <td>0</td>\n",
       "      <td>0</td>\n",
       "    </tr>\n",
       "    <tr>\n",
       "      <th>1</th>\n",
       "      <td>1.764</td>\n",
       "      <td>6.42</td>\n",
       "      <td>Biology</td>\n",
       "      <td>1</td>\n",
       "      <td>0</td>\n",
       "      <td>0</td>\n",
       "      <td>False</td>\n",
       "      <td>6.20 - 6.74</td>\n",
       "      <td>0</td>\n",
       "      <td>1</td>\n",
       "      <td>0</td>\n",
       "      <td>0</td>\n",
       "    </tr>\n",
       "    <tr>\n",
       "      <th>2</th>\n",
       "      <td>1.695</td>\n",
       "      <td>8.95</td>\n",
       "      <td>Biology</td>\n",
       "      <td>1</td>\n",
       "      <td>0</td>\n",
       "      <td>0</td>\n",
       "      <td>False</td>\n",
       "      <td>7.60 - 9.28</td>\n",
       "      <td>0</td>\n",
       "      <td>0</td>\n",
       "      <td>0</td>\n",
       "      <td>1</td>\n",
       "    </tr>\n",
       "    <tr>\n",
       "      <th>3</th>\n",
       "      <td>1.829</td>\n",
       "      <td>5.14</td>\n",
       "      <td>Biology</td>\n",
       "      <td>1</td>\n",
       "      <td>0</td>\n",
       "      <td>0</td>\n",
       "      <td>True</td>\n",
       "      <td>4.09 - 6.20</td>\n",
       "      <td>1</td>\n",
       "      <td>0</td>\n",
       "      <td>0</td>\n",
       "      <td>0</td>\n",
       "    </tr>\n",
       "    <tr>\n",
       "      <th>4</th>\n",
       "      <td>1.640</td>\n",
       "      <td>6.43</td>\n",
       "      <td>Physics</td>\n",
       "      <td>0</td>\n",
       "      <td>0</td>\n",
       "      <td>1</td>\n",
       "      <td>False</td>\n",
       "      <td>6.20 - 6.74</td>\n",
       "      <td>0</td>\n",
       "      <td>1</td>\n",
       "      <td>0</td>\n",
       "      <td>0</td>\n",
       "    </tr>\n",
       "    <tr>\n",
       "      <th>5</th>\n",
       "      <td>1.778</td>\n",
       "      <td>7.98</td>\n",
       "      <td>Physics</td>\n",
       "      <td>0</td>\n",
       "      <td>0</td>\n",
       "      <td>1</td>\n",
       "      <td>False</td>\n",
       "      <td>7.60 - 9.28</td>\n",
       "      <td>0</td>\n",
       "      <td>0</td>\n",
       "      <td>1</td>\n",
       "      <td>0</td>\n",
       "    </tr>\n",
       "    <tr>\n",
       "      <th>6</th>\n",
       "      <td>1.679</td>\n",
       "      <td>7.90</td>\n",
       "      <td>Biology</td>\n",
       "      <td>1</td>\n",
       "      <td>0</td>\n",
       "      <td>0</td>\n",
       "      <td>False</td>\n",
       "      <td>7.60 - 9.28</td>\n",
       "      <td>0</td>\n",
       "      <td>0</td>\n",
       "      <td>1</td>\n",
       "      <td>0</td>\n",
       "    </tr>\n",
       "    <tr>\n",
       "      <th>7</th>\n",
       "      <td>1.604</td>\n",
       "      <td>6.76</td>\n",
       "      <td>Physics</td>\n",
       "      <td>0</td>\n",
       "      <td>0</td>\n",
       "      <td>1</td>\n",
       "      <td>False</td>\n",
       "      <td>6.74 - 7.60</td>\n",
       "      <td>0</td>\n",
       "      <td>0</td>\n",
       "      <td>1</td>\n",
       "      <td>0</td>\n",
       "    </tr>\n",
       "    <tr>\n",
       "      <th>8</th>\n",
       "      <td>1.819</td>\n",
       "      <td>7.44</td>\n",
       "      <td>Physics</td>\n",
       "      <td>0</td>\n",
       "      <td>0</td>\n",
       "      <td>1</td>\n",
       "      <td>True</td>\n",
       "      <td>6.74 - 7.60</td>\n",
       "      <td>0</td>\n",
       "      <td>0</td>\n",
       "      <td>1</td>\n",
       "      <td>0</td>\n",
       "    </tr>\n",
       "    <tr>\n",
       "      <th>9</th>\n",
       "      <td>1.607</td>\n",
       "      <td>6.01</td>\n",
       "      <td>Physics</td>\n",
       "      <td>0</td>\n",
       "      <td>0</td>\n",
       "      <td>1</td>\n",
       "      <td>False</td>\n",
       "      <td>4.09 - 6.20</td>\n",
       "      <td>0</td>\n",
       "      <td>1</td>\n",
       "      <td>0</td>\n",
       "      <td>0</td>\n",
       "    </tr>\n",
       "  </tbody>\n",
       "</table>\n",
       "</div>"
      ],
      "text/plain": [
       "   Height  Score   Course  Biology  Math  Physics   Tall Score_interval  \\\n",
       "0   1.539   6.61  Biology        1     0        0  False    6.20 - 6.74   \n",
       "1   1.764   6.42  Biology        1     0        0  False    6.20 - 6.74   \n",
       "2   1.695   8.95  Biology        1     0        0  False    7.60 - 9.28   \n",
       "3   1.829   5.14  Biology        1     0        0   True    4.09 - 6.20   \n",
       "4   1.640   6.43  Physics        0     0        1  False    6.20 - 6.74   \n",
       "5   1.778   7.98  Physics        0     0        1  False    7.60 - 9.28   \n",
       "6   1.679   7.90  Biology        1     0        0  False    7.60 - 9.28   \n",
       "7   1.604   6.76  Physics        0     0        1  False    6.74 - 7.60   \n",
       "8   1.819   7.44  Physics        0     0        1   True    6.74 - 7.60   \n",
       "9   1.607   6.01  Physics        0     0        1  False    4.09 - 6.20   \n",
       "\n",
       "   4.09 - 5.39  5.39 - 6.68  6.68 - 7.98  7.98 - 9.28  \n",
       "0            0            1            0            0  \n",
       "1            0            1            0            0  \n",
       "2            0            0            0            1  \n",
       "3            1            0            0            0  \n",
       "4            0            1            0            0  \n",
       "5            0            0            1            0  \n",
       "6            0            0            1            0  \n",
       "7            0            0            1            0  \n",
       "8            0            0            1            0  \n",
       "9            0            1            0            0  "
      ]
     },
     "execution_count": 29,
     "metadata": {},
     "output_type": "execute_result"
    }
   ],
   "source": [
    "data_encoded = pd.concat([data_encoded, pd.DataFrame(score_bins_uniform, columns=score_intervals_columns)], axis=1)\n",
    "\n",
    "data_encoded.head(10)"
   ]
  },
  {
   "cell_type": "markdown",
   "metadata": {
    "colab_type": "text",
    "id": "jD8WM_-yzqSc"
   },
   "source": [
    "## Normalização (_Scaling_)\n",
    "\n",
    "Normalização é o processo de colocar uma variável numérica em uma escala pré-determinada, geralmente $[0, 1]$, mas também é comum ser $[-1, 1]$.\n",
    "\n",
    "Para colocar no intervalo $[0, 1]$, basta subtrair cada valor da valor mínimo e dividir pela diferença do valor máximo e mínimo:\n",
    "\n",
    "$$x_{\\text{scaled}} = \\frac{x - x_{\\text{min}}}{x_{\\text{max}} - x_{\\text{min}}}$$\n",
    "\n",
    "Abaixo, escalamos a variável `Score` no intervalo $[0, 1]$:"
   ]
  },
  {
   "cell_type": "code",
   "execution_count": 30,
   "metadata": {
    "colab": {
     "base_uri": "https://localhost:8080/",
     "height": 191
    },
    "colab_type": "code",
    "id": "nMM2mu-Qzwnv",
    "outputId": "5c60c83b-13bf-431d-e77e-a2fb2e8af317"
   },
   "outputs": [
    {
     "data": {
      "text/plain": [
       "array([[0.48554913],\n",
       "       [0.44894027],\n",
       "       [0.93641618],\n",
       "       [0.20231214],\n",
       "       [0.45086705],\n",
       "       [0.7495183 ],\n",
       "       [0.73410405],\n",
       "       [0.51445087],\n",
       "       [0.64547206],\n",
       "       [0.3699422 ]])"
      ]
     },
     "execution_count": 30,
     "metadata": {},
     "output_type": "execute_result"
    }
   ],
   "source": [
    "minmax_scaler = MinMaxScaler(feature_range=(0, 1)) # Default feature_scale é (0, 1).\n",
    "\n",
    "minmax_scaler.fit(data_encoded[[\"Score\"]])\n",
    "\n",
    "score_normalized = minmax_scaler.transform(data_encoded[[\"Score\"]])\n",
    "\n",
    "score_normalized[:10]"
   ]
  },
  {
   "cell_type": "code",
   "execution_count": 31,
   "metadata": {
    "colab": {
     "base_uri": "https://localhost:8080/",
     "height": 34
    },
    "colab_type": "code",
    "id": "FPr-37M2UBj4",
    "outputId": "dc170301-56af-4cab-da7c-307c5cbb94a6"
   },
   "outputs": [
    {
     "data": {
      "text/plain": [
       "(0.0, 0.9999999999999999)"
      ]
     },
     "execution_count": 31,
     "metadata": {},
     "output_type": "execute_result"
    }
   ],
   "source": [
    "score_normalized.min(), score_normalized.max()"
   ]
  },
  {
   "cell_type": "markdown",
   "metadata": {
    "colab_type": "text",
    "id": "Et6m_2Bbbq-n"
   },
   "source": [
    "Adicionamos a variável `Score` normalizada ao nosso _data set_:"
   ]
  },
  {
   "cell_type": "code",
   "execution_count": 32,
   "metadata": {
    "colab": {
     "base_uri": "https://localhost:8080/",
     "height": 363
    },
    "colab_type": "code",
    "id": "kaYvCQtK0fzi",
    "outputId": "9f8ccb6c-d0b7-4445-96c9-490f284f2357"
   },
   "outputs": [
    {
     "data": {
      "text/html": [
       "<div>\n",
       "<style scoped>\n",
       "    .dataframe tbody tr th:only-of-type {\n",
       "        vertical-align: middle;\n",
       "    }\n",
       "\n",
       "    .dataframe tbody tr th {\n",
       "        vertical-align: top;\n",
       "    }\n",
       "\n",
       "    .dataframe thead th {\n",
       "        text-align: right;\n",
       "    }\n",
       "</style>\n",
       "<table border=\"1\" class=\"dataframe\">\n",
       "  <thead>\n",
       "    <tr style=\"text-align: right;\">\n",
       "      <th></th>\n",
       "      <th>Height</th>\n",
       "      <th>Score</th>\n",
       "      <th>Course</th>\n",
       "      <th>Biology</th>\n",
       "      <th>Math</th>\n",
       "      <th>Physics</th>\n",
       "      <th>Tall</th>\n",
       "      <th>Score_interval</th>\n",
       "      <th>4.09 - 5.39</th>\n",
       "      <th>5.39 - 6.68</th>\n",
       "      <th>6.68 - 7.98</th>\n",
       "      <th>7.98 - 9.28</th>\n",
       "      <th>Score_normalized</th>\n",
       "    </tr>\n",
       "  </thead>\n",
       "  <tbody>\n",
       "    <tr>\n",
       "      <th>0</th>\n",
       "      <td>1.539</td>\n",
       "      <td>6.61</td>\n",
       "      <td>Biology</td>\n",
       "      <td>1</td>\n",
       "      <td>0</td>\n",
       "      <td>0</td>\n",
       "      <td>False</td>\n",
       "      <td>6.20 - 6.74</td>\n",
       "      <td>0</td>\n",
       "      <td>1</td>\n",
       "      <td>0</td>\n",
       "      <td>0</td>\n",
       "      <td>0.485549</td>\n",
       "    </tr>\n",
       "    <tr>\n",
       "      <th>1</th>\n",
       "      <td>1.764</td>\n",
       "      <td>6.42</td>\n",
       "      <td>Biology</td>\n",
       "      <td>1</td>\n",
       "      <td>0</td>\n",
       "      <td>0</td>\n",
       "      <td>False</td>\n",
       "      <td>6.20 - 6.74</td>\n",
       "      <td>0</td>\n",
       "      <td>1</td>\n",
       "      <td>0</td>\n",
       "      <td>0</td>\n",
       "      <td>0.448940</td>\n",
       "    </tr>\n",
       "    <tr>\n",
       "      <th>2</th>\n",
       "      <td>1.695</td>\n",
       "      <td>8.95</td>\n",
       "      <td>Biology</td>\n",
       "      <td>1</td>\n",
       "      <td>0</td>\n",
       "      <td>0</td>\n",
       "      <td>False</td>\n",
       "      <td>7.60 - 9.28</td>\n",
       "      <td>0</td>\n",
       "      <td>0</td>\n",
       "      <td>0</td>\n",
       "      <td>1</td>\n",
       "      <td>0.936416</td>\n",
       "    </tr>\n",
       "    <tr>\n",
       "      <th>3</th>\n",
       "      <td>1.829</td>\n",
       "      <td>5.14</td>\n",
       "      <td>Biology</td>\n",
       "      <td>1</td>\n",
       "      <td>0</td>\n",
       "      <td>0</td>\n",
       "      <td>True</td>\n",
       "      <td>4.09 - 6.20</td>\n",
       "      <td>1</td>\n",
       "      <td>0</td>\n",
       "      <td>0</td>\n",
       "      <td>0</td>\n",
       "      <td>0.202312</td>\n",
       "    </tr>\n",
       "    <tr>\n",
       "      <th>4</th>\n",
       "      <td>1.640</td>\n",
       "      <td>6.43</td>\n",
       "      <td>Physics</td>\n",
       "      <td>0</td>\n",
       "      <td>0</td>\n",
       "      <td>1</td>\n",
       "      <td>False</td>\n",
       "      <td>6.20 - 6.74</td>\n",
       "      <td>0</td>\n",
       "      <td>1</td>\n",
       "      <td>0</td>\n",
       "      <td>0</td>\n",
       "      <td>0.450867</td>\n",
       "    </tr>\n",
       "    <tr>\n",
       "      <th>5</th>\n",
       "      <td>1.778</td>\n",
       "      <td>7.98</td>\n",
       "      <td>Physics</td>\n",
       "      <td>0</td>\n",
       "      <td>0</td>\n",
       "      <td>1</td>\n",
       "      <td>False</td>\n",
       "      <td>7.60 - 9.28</td>\n",
       "      <td>0</td>\n",
       "      <td>0</td>\n",
       "      <td>1</td>\n",
       "      <td>0</td>\n",
       "      <td>0.749518</td>\n",
       "    </tr>\n",
       "    <tr>\n",
       "      <th>6</th>\n",
       "      <td>1.679</td>\n",
       "      <td>7.90</td>\n",
       "      <td>Biology</td>\n",
       "      <td>1</td>\n",
       "      <td>0</td>\n",
       "      <td>0</td>\n",
       "      <td>False</td>\n",
       "      <td>7.60 - 9.28</td>\n",
       "      <td>0</td>\n",
       "      <td>0</td>\n",
       "      <td>1</td>\n",
       "      <td>0</td>\n",
       "      <td>0.734104</td>\n",
       "    </tr>\n",
       "    <tr>\n",
       "      <th>7</th>\n",
       "      <td>1.604</td>\n",
       "      <td>6.76</td>\n",
       "      <td>Physics</td>\n",
       "      <td>0</td>\n",
       "      <td>0</td>\n",
       "      <td>1</td>\n",
       "      <td>False</td>\n",
       "      <td>6.74 - 7.60</td>\n",
       "      <td>0</td>\n",
       "      <td>0</td>\n",
       "      <td>1</td>\n",
       "      <td>0</td>\n",
       "      <td>0.514451</td>\n",
       "    </tr>\n",
       "    <tr>\n",
       "      <th>8</th>\n",
       "      <td>1.819</td>\n",
       "      <td>7.44</td>\n",
       "      <td>Physics</td>\n",
       "      <td>0</td>\n",
       "      <td>0</td>\n",
       "      <td>1</td>\n",
       "      <td>True</td>\n",
       "      <td>6.74 - 7.60</td>\n",
       "      <td>0</td>\n",
       "      <td>0</td>\n",
       "      <td>1</td>\n",
       "      <td>0</td>\n",
       "      <td>0.645472</td>\n",
       "    </tr>\n",
       "    <tr>\n",
       "      <th>9</th>\n",
       "      <td>1.607</td>\n",
       "      <td>6.01</td>\n",
       "      <td>Physics</td>\n",
       "      <td>0</td>\n",
       "      <td>0</td>\n",
       "      <td>1</td>\n",
       "      <td>False</td>\n",
       "      <td>4.09 - 6.20</td>\n",
       "      <td>0</td>\n",
       "      <td>1</td>\n",
       "      <td>0</td>\n",
       "      <td>0</td>\n",
       "      <td>0.369942</td>\n",
       "    </tr>\n",
       "  </tbody>\n",
       "</table>\n",
       "</div>"
      ],
      "text/plain": [
       "   Height  Score   Course  Biology  Math  Physics   Tall Score_interval  \\\n",
       "0   1.539   6.61  Biology        1     0        0  False    6.20 - 6.74   \n",
       "1   1.764   6.42  Biology        1     0        0  False    6.20 - 6.74   \n",
       "2   1.695   8.95  Biology        1     0        0  False    7.60 - 9.28   \n",
       "3   1.829   5.14  Biology        1     0        0   True    4.09 - 6.20   \n",
       "4   1.640   6.43  Physics        0     0        1  False    6.20 - 6.74   \n",
       "5   1.778   7.98  Physics        0     0        1  False    7.60 - 9.28   \n",
       "6   1.679   7.90  Biology        1     0        0  False    7.60 - 9.28   \n",
       "7   1.604   6.76  Physics        0     0        1  False    6.74 - 7.60   \n",
       "8   1.819   7.44  Physics        0     0        1   True    6.74 - 7.60   \n",
       "9   1.607   6.01  Physics        0     0        1  False    4.09 - 6.20   \n",
       "\n",
       "   4.09 - 5.39  5.39 - 6.68  6.68 - 7.98  7.98 - 9.28  Score_normalized  \n",
       "0            0            1            0            0          0.485549  \n",
       "1            0            1            0            0          0.448940  \n",
       "2            0            0            0            1          0.936416  \n",
       "3            1            0            0            0          0.202312  \n",
       "4            0            1            0            0          0.450867  \n",
       "5            0            0            1            0          0.749518  \n",
       "6            0            0            1            0          0.734104  \n",
       "7            0            0            1            0          0.514451  \n",
       "8            0            0            1            0          0.645472  \n",
       "9            0            1            0            0          0.369942  "
      ]
     },
     "execution_count": 32,
     "metadata": {},
     "output_type": "execute_result"
    }
   ],
   "source": [
    "data_encoded = pd.concat([data_encoded, pd.DataFrame(score_normalized.flatten(), columns=[\"Score_normalized\"])], axis=1)\n",
    "\n",
    "data_encoded.head(10)"
   ]
  },
  {
   "cell_type": "markdown",
   "metadata": {
    "colab_type": "text",
    "id": "n7-msElsbveR"
   },
   "source": [
    "Para avaliar se os valores encontrados conferem, podemos utilizar a função `normalize` abaixo:"
   ]
  },
  {
   "cell_type": "code",
   "execution_count": 33,
   "metadata": {
    "colab": {},
    "colab_type": "code",
    "id": "EAfUGaFc061d"
   },
   "outputs": [],
   "source": [
    "def normalize(x, xmin, xmax):\n",
    "    return (x - xmin)/(xmax - xmin)"
   ]
  },
  {
   "cell_type": "markdown",
   "metadata": {
    "colab_type": "text",
    "id": "CXywxNX-b-0K"
   },
   "source": [
    "A função `partial()` do módulo `functools` (_builtin_ do Python) permite \"congelar\" alguns parâmetros da função passada como argumento, facilitando a invocação desta função quando tais parâmetros são constantes. No caso abaixo, \"congelamos\" os argumentos `xmin` e `xmax` da função `normalize()` com os valores mínimo e máximo da variável `Score`, respectivamente. Nas invocações subsequentes de `normalize` não precisaremos passar esses argumentos, somente o argumento \"não congelado\" `x`:"
   ]
  },
  {
   "cell_type": "code",
   "execution_count": 34,
   "metadata": {
    "colab": {},
    "colab_type": "code",
    "id": "UAlpigp21OVx"
   },
   "outputs": [],
   "source": [
    "normalize_score = functools.partial(normalize,\n",
    "                                    xmin=data_encoded.Score.min(),\n",
    "                                    xmax=data_encoded.Score.max())"
   ]
  },
  {
   "cell_type": "markdown",
   "metadata": {
    "colab_type": "text",
    "id": "nhR0rwUIctTa"
   },
   "source": [
    "O valor abaixo realmente confere com aquele encontrado pelo `MinMaxScaler`:"
   ]
  },
  {
   "cell_type": "code",
   "execution_count": 35,
   "metadata": {
    "colab": {
     "base_uri": "https://localhost:8080/",
     "height": 34
    },
    "colab_type": "code",
    "id": "pMfk3jrU1mQV",
    "outputId": "f9851c0d-9446-4f10-874e-cdba22b43722"
   },
   "outputs": [
    {
     "data": {
      "text/plain": [
       "0.485549"
      ]
     },
     "execution_count": 35,
     "metadata": {},
     "output_type": "execute_result"
    }
   ],
   "source": [
    "normalize_score(data_encoded.Score[0]).round(6)"
   ]
  },
  {
   "cell_type": "markdown",
   "metadata": {
    "colab_type": "text",
    "id": "HEcSQzWJ2Yum"
   },
   "source": [
    "## Padronização (_Standardization_)\n",
    "\n",
    "Padronização é o processo de tornar a variável com média zero e variância um. Esse processo não deve ser confundido com a normalização descrita acima.\n",
    "\n",
    "O processo é simples, basta subtrair a média dos dados de cada observação e dividi-los pelo desvio-padrão:\n",
    "\n",
    "$$x_{\\text{standardized}} = \\frac{x - \\bar{x}}{s}$$\n",
    "\n",
    "onde $\\bar{x}$ indica a média amostral e $s$ o desvio-padrão amostral."
   ]
  },
  {
   "cell_type": "markdown",
   "metadata": {
    "colab_type": "text",
    "id": "kXYXezCNdYue"
   },
   "source": [
    "No exemplo abaixo, padronizamos a variável `Score`:"
   ]
  },
  {
   "cell_type": "code",
   "execution_count": 36,
   "metadata": {
    "colab": {
     "base_uri": "https://localhost:8080/",
     "height": 191
    },
    "colab_type": "code",
    "id": "Qfhs3Eaq2dGV",
    "outputId": "572aae65-5460-44d1-8134-dbc26f82e2d2"
   },
   "outputs": [
    {
     "data": {
      "text/plain": [
       "array([[-0.20752554],\n",
       "       [-0.40839081],\n",
       "       [ 2.26628886],\n",
       "       [-1.76158843],\n",
       "       [-0.39781896],\n",
       "       [ 1.24081879],\n",
       "       [ 1.15624393],\n",
       "       [-0.0489477 ],\n",
       "       [ 0.66993854],\n",
       "       [-0.84183693]])"
      ]
     },
     "execution_count": 36,
     "metadata": {},
     "output_type": "execute_result"
    }
   ],
   "source": [
    "standard_scaler = StandardScaler()\n",
    "\n",
    "standard_scaler.fit(data_encoded[[\"Score\"]])\n",
    "\n",
    "score_standardized = standard_scaler.transform(data_encoded[[\"Score\"]])\n",
    "\n",
    "score_standardized[:10]"
   ]
  },
  {
   "cell_type": "markdown",
   "metadata": {
    "colab_type": "text",
    "id": "SJJucIQddgME"
   },
   "source": [
    "E adicionamos a variável padronizada ao nosso _data set_:"
   ]
  },
  {
   "cell_type": "code",
   "execution_count": 37,
   "metadata": {
    "colab": {
     "base_uri": "https://localhost:8080/",
     "height": 363
    },
    "colab_type": "code",
    "id": "BAndWLe13RSr",
    "outputId": "4a6231c1-f459-4307-ad14-24c4e46760cd"
   },
   "outputs": [
    {
     "data": {
      "text/html": [
       "<div>\n",
       "<style scoped>\n",
       "    .dataframe tbody tr th:only-of-type {\n",
       "        vertical-align: middle;\n",
       "    }\n",
       "\n",
       "    .dataframe tbody tr th {\n",
       "        vertical-align: top;\n",
       "    }\n",
       "\n",
       "    .dataframe thead th {\n",
       "        text-align: right;\n",
       "    }\n",
       "</style>\n",
       "<table border=\"1\" class=\"dataframe\">\n",
       "  <thead>\n",
       "    <tr style=\"text-align: right;\">\n",
       "      <th></th>\n",
       "      <th>Height</th>\n",
       "      <th>Score</th>\n",
       "      <th>Course</th>\n",
       "      <th>Biology</th>\n",
       "      <th>Math</th>\n",
       "      <th>Physics</th>\n",
       "      <th>Tall</th>\n",
       "      <th>Score_interval</th>\n",
       "      <th>4.09 - 5.39</th>\n",
       "      <th>5.39 - 6.68</th>\n",
       "      <th>6.68 - 7.98</th>\n",
       "      <th>7.98 - 9.28</th>\n",
       "      <th>Score_normalized</th>\n",
       "      <th>Score_standardized</th>\n",
       "    </tr>\n",
       "  </thead>\n",
       "  <tbody>\n",
       "    <tr>\n",
       "      <th>0</th>\n",
       "      <td>1.539</td>\n",
       "      <td>6.61</td>\n",
       "      <td>Biology</td>\n",
       "      <td>1</td>\n",
       "      <td>0</td>\n",
       "      <td>0</td>\n",
       "      <td>False</td>\n",
       "      <td>6.20 - 6.74</td>\n",
       "      <td>0</td>\n",
       "      <td>1</td>\n",
       "      <td>0</td>\n",
       "      <td>0</td>\n",
       "      <td>0.485549</td>\n",
       "      <td>-0.207526</td>\n",
       "    </tr>\n",
       "    <tr>\n",
       "      <th>1</th>\n",
       "      <td>1.764</td>\n",
       "      <td>6.42</td>\n",
       "      <td>Biology</td>\n",
       "      <td>1</td>\n",
       "      <td>0</td>\n",
       "      <td>0</td>\n",
       "      <td>False</td>\n",
       "      <td>6.20 - 6.74</td>\n",
       "      <td>0</td>\n",
       "      <td>1</td>\n",
       "      <td>0</td>\n",
       "      <td>0</td>\n",
       "      <td>0.448940</td>\n",
       "      <td>-0.408391</td>\n",
       "    </tr>\n",
       "    <tr>\n",
       "      <th>2</th>\n",
       "      <td>1.695</td>\n",
       "      <td>8.95</td>\n",
       "      <td>Biology</td>\n",
       "      <td>1</td>\n",
       "      <td>0</td>\n",
       "      <td>0</td>\n",
       "      <td>False</td>\n",
       "      <td>7.60 - 9.28</td>\n",
       "      <td>0</td>\n",
       "      <td>0</td>\n",
       "      <td>0</td>\n",
       "      <td>1</td>\n",
       "      <td>0.936416</td>\n",
       "      <td>2.266289</td>\n",
       "    </tr>\n",
       "    <tr>\n",
       "      <th>3</th>\n",
       "      <td>1.829</td>\n",
       "      <td>5.14</td>\n",
       "      <td>Biology</td>\n",
       "      <td>1</td>\n",
       "      <td>0</td>\n",
       "      <td>0</td>\n",
       "      <td>True</td>\n",
       "      <td>4.09 - 6.20</td>\n",
       "      <td>1</td>\n",
       "      <td>0</td>\n",
       "      <td>0</td>\n",
       "      <td>0</td>\n",
       "      <td>0.202312</td>\n",
       "      <td>-1.761588</td>\n",
       "    </tr>\n",
       "    <tr>\n",
       "      <th>4</th>\n",
       "      <td>1.640</td>\n",
       "      <td>6.43</td>\n",
       "      <td>Physics</td>\n",
       "      <td>0</td>\n",
       "      <td>0</td>\n",
       "      <td>1</td>\n",
       "      <td>False</td>\n",
       "      <td>6.20 - 6.74</td>\n",
       "      <td>0</td>\n",
       "      <td>1</td>\n",
       "      <td>0</td>\n",
       "      <td>0</td>\n",
       "      <td>0.450867</td>\n",
       "      <td>-0.397819</td>\n",
       "    </tr>\n",
       "    <tr>\n",
       "      <th>5</th>\n",
       "      <td>1.778</td>\n",
       "      <td>7.98</td>\n",
       "      <td>Physics</td>\n",
       "      <td>0</td>\n",
       "      <td>0</td>\n",
       "      <td>1</td>\n",
       "      <td>False</td>\n",
       "      <td>7.60 - 9.28</td>\n",
       "      <td>0</td>\n",
       "      <td>0</td>\n",
       "      <td>1</td>\n",
       "      <td>0</td>\n",
       "      <td>0.749518</td>\n",
       "      <td>1.240819</td>\n",
       "    </tr>\n",
       "    <tr>\n",
       "      <th>6</th>\n",
       "      <td>1.679</td>\n",
       "      <td>7.90</td>\n",
       "      <td>Biology</td>\n",
       "      <td>1</td>\n",
       "      <td>0</td>\n",
       "      <td>0</td>\n",
       "      <td>False</td>\n",
       "      <td>7.60 - 9.28</td>\n",
       "      <td>0</td>\n",
       "      <td>0</td>\n",
       "      <td>1</td>\n",
       "      <td>0</td>\n",
       "      <td>0.734104</td>\n",
       "      <td>1.156244</td>\n",
       "    </tr>\n",
       "    <tr>\n",
       "      <th>7</th>\n",
       "      <td>1.604</td>\n",
       "      <td>6.76</td>\n",
       "      <td>Physics</td>\n",
       "      <td>0</td>\n",
       "      <td>0</td>\n",
       "      <td>1</td>\n",
       "      <td>False</td>\n",
       "      <td>6.74 - 7.60</td>\n",
       "      <td>0</td>\n",
       "      <td>0</td>\n",
       "      <td>1</td>\n",
       "      <td>0</td>\n",
       "      <td>0.514451</td>\n",
       "      <td>-0.048948</td>\n",
       "    </tr>\n",
       "    <tr>\n",
       "      <th>8</th>\n",
       "      <td>1.819</td>\n",
       "      <td>7.44</td>\n",
       "      <td>Physics</td>\n",
       "      <td>0</td>\n",
       "      <td>0</td>\n",
       "      <td>1</td>\n",
       "      <td>True</td>\n",
       "      <td>6.74 - 7.60</td>\n",
       "      <td>0</td>\n",
       "      <td>0</td>\n",
       "      <td>1</td>\n",
       "      <td>0</td>\n",
       "      <td>0.645472</td>\n",
       "      <td>0.669939</td>\n",
       "    </tr>\n",
       "    <tr>\n",
       "      <th>9</th>\n",
       "      <td>1.607</td>\n",
       "      <td>6.01</td>\n",
       "      <td>Physics</td>\n",
       "      <td>0</td>\n",
       "      <td>0</td>\n",
       "      <td>1</td>\n",
       "      <td>False</td>\n",
       "      <td>4.09 - 6.20</td>\n",
       "      <td>0</td>\n",
       "      <td>1</td>\n",
       "      <td>0</td>\n",
       "      <td>0</td>\n",
       "      <td>0.369942</td>\n",
       "      <td>-0.841837</td>\n",
       "    </tr>\n",
       "  </tbody>\n",
       "</table>\n",
       "</div>"
      ],
      "text/plain": [
       "   Height  Score   Course  Biology  Math  Physics   Tall Score_interval  \\\n",
       "0   1.539   6.61  Biology        1     0        0  False    6.20 - 6.74   \n",
       "1   1.764   6.42  Biology        1     0        0  False    6.20 - 6.74   \n",
       "2   1.695   8.95  Biology        1     0        0  False    7.60 - 9.28   \n",
       "3   1.829   5.14  Biology        1     0        0   True    4.09 - 6.20   \n",
       "4   1.640   6.43  Physics        0     0        1  False    6.20 - 6.74   \n",
       "5   1.778   7.98  Physics        0     0        1  False    7.60 - 9.28   \n",
       "6   1.679   7.90  Biology        1     0        0  False    7.60 - 9.28   \n",
       "7   1.604   6.76  Physics        0     0        1  False    6.74 - 7.60   \n",
       "8   1.819   7.44  Physics        0     0        1   True    6.74 - 7.60   \n",
       "9   1.607   6.01  Physics        0     0        1  False    4.09 - 6.20   \n",
       "\n",
       "   4.09 - 5.39  5.39 - 6.68  6.68 - 7.98  7.98 - 9.28  Score_normalized  \\\n",
       "0            0            1            0            0          0.485549   \n",
       "1            0            1            0            0          0.448940   \n",
       "2            0            0            0            1          0.936416   \n",
       "3            1            0            0            0          0.202312   \n",
       "4            0            1            0            0          0.450867   \n",
       "5            0            0            1            0          0.749518   \n",
       "6            0            0            1            0          0.734104   \n",
       "7            0            0            1            0          0.514451   \n",
       "8            0            0            1            0          0.645472   \n",
       "9            0            1            0            0          0.369942   \n",
       "\n",
       "   Score_standardized  \n",
       "0           -0.207526  \n",
       "1           -0.408391  \n",
       "2            2.266289  \n",
       "3           -1.761588  \n",
       "4           -0.397819  \n",
       "5            1.240819  \n",
       "6            1.156244  \n",
       "7           -0.048948  \n",
       "8            0.669939  \n",
       "9           -0.841837  "
      ]
     },
     "execution_count": 37,
     "metadata": {},
     "output_type": "execute_result"
    }
   ],
   "source": [
    "data_encoded = pd.concat([data_encoded, pd.DataFrame(score_standardized.flatten(), columns=[\"Score_standardized\"])], axis=1)\n",
    "\n",
    "data_encoded.head(10)"
   ]
  },
  {
   "cell_type": "markdown",
   "metadata": {
    "colab_type": "text",
    "id": "_SgwGLgOdk5Q"
   },
   "source": [
    "Note que, ao contrário da variável normalizada, é possível ter valores negativos e positivos, menores e maiores que um. Isso é bem óbvio, pois os dados agora têm média 0 e variância 1:"
   ]
  },
  {
   "cell_type": "code",
   "execution_count": 38,
   "metadata": {
    "colab": {
     "base_uri": "https://localhost:8080/",
     "height": 34
    },
    "colab_type": "code",
    "id": "I0E9fwo93h9w",
    "outputId": "2d9d5cdf-181b-4ca1-bea7-b382bf738ebd"
   },
   "outputs": [
    {
     "data": {
      "text/plain": [
       "(-1.2145839889399212e-15, 1.01010101010101)"
      ]
     },
     "execution_count": 38,
     "metadata": {},
     "output_type": "execute_result"
    }
   ],
   "source": [
    "data_encoded.Score_standardized.mean(), data_encoded.Score_standardized.var()"
   ]
  },
  {
   "cell_type": "markdown",
   "metadata": {
    "colab_type": "text",
    "id": "Av0cwG_Qd3Ow"
   },
   "source": [
    "Novamente, para avaliar os resultados obtidos, podemos escrever nossa própria função de padronização:"
   ]
  },
  {
   "cell_type": "code",
   "execution_count": 39,
   "metadata": {
    "colab": {},
    "colab_type": "code",
    "id": "khwEkoks3-cS"
   },
   "outputs": [],
   "source": [
    "def standardize(x, xmean, xstd):\n",
    "    return (x - xmean)/xstd"
   ]
  },
  {
   "cell_type": "code",
   "execution_count": 40,
   "metadata": {
    "colab": {},
    "colab_type": "code",
    "id": "14w3018J4Gwy"
   },
   "outputs": [],
   "source": [
    "standardize_score = functools.partial(standardize,\n",
    "                                      xmean=data_encoded.Score.mean(),\n",
    "                                      xstd=data_encoded.Score.std())"
   ]
  },
  {
   "cell_type": "markdown",
   "metadata": {
    "colab_type": "text",
    "id": "UAGxoUK5d-22"
   },
   "source": [
    "Como esperado, o valor confere com o encontrado:"
   ]
  },
  {
   "cell_type": "code",
   "execution_count": 41,
   "metadata": {
    "colab": {
     "base_uri": "https://localhost:8080/",
     "height": 34
    },
    "colab_type": "code",
    "id": "dpaNVzOy4aCL",
    "outputId": "fa0f42f0-32a5-48f4-f8d7-724350cdca86"
   },
   "outputs": [
    {
     "data": {
      "text/plain": [
       "-0.20648530634442083"
      ]
     },
     "execution_count": 41,
     "metadata": {},
     "output_type": "execute_result"
    }
   ],
   "source": [
    "standardize_score(data_encoded.Score[0])"
   ]
  },
  {
   "cell_type": "markdown",
   "metadata": {
    "colab_type": "text",
    "id": "2tO4OOJK7NY1"
   },
   "source": [
    "## Criando um _Pipeline_\n",
    "\n",
    "Todo esse processo de transformar os dados pode ser bastante trabalhoso e entendiante. Para facilitar as coisas, o sklearn dispõe de um mecanismo de _pipeline_ que funciona como ao esteira de uma linha de montagem. Cada etapa desse _pipeline_ é uma transformação nos dados, de forma que, ao final do _pipeline_, temos os dados totalmente transformados. A vantagem é que agora especificamos todas as etapas, ou transformações, de uma só vez, e podemos reaproveitar esse _pipeline_ no futuro."
   ]
  },
  {
   "cell_type": "code",
   "execution_count": 42,
   "metadata": {
    "colab": {
     "base_uri": "https://localhost:8080/",
     "height": 363
    },
    "colab_type": "code",
    "id": "T1LyaI0-B2hV",
    "outputId": "011176a0-ec92-4122-9fc4-3b3d0a3118c9"
   },
   "outputs": [
    {
     "data": {
      "text/html": [
       "<div>\n",
       "<style scoped>\n",
       "    .dataframe tbody tr th:only-of-type {\n",
       "        vertical-align: middle;\n",
       "    }\n",
       "\n",
       "    .dataframe tbody tr th {\n",
       "        vertical-align: top;\n",
       "    }\n",
       "\n",
       "    .dataframe thead th {\n",
       "        text-align: right;\n",
       "    }\n",
       "</style>\n",
       "<table border=\"1\" class=\"dataframe\">\n",
       "  <thead>\n",
       "    <tr style=\"text-align: right;\">\n",
       "      <th></th>\n",
       "      <th>Height</th>\n",
       "      <th>Score</th>\n",
       "      <th>Course</th>\n",
       "    </tr>\n",
       "  </thead>\n",
       "  <tbody>\n",
       "    <tr>\n",
       "      <th>0</th>\n",
       "      <td>1.539</td>\n",
       "      <td>6.61</td>\n",
       "      <td>Biology</td>\n",
       "    </tr>\n",
       "    <tr>\n",
       "      <th>1</th>\n",
       "      <td>1.764</td>\n",
       "      <td>6.42</td>\n",
       "      <td>Biology</td>\n",
       "    </tr>\n",
       "    <tr>\n",
       "      <th>2</th>\n",
       "      <td>1.695</td>\n",
       "      <td>8.95</td>\n",
       "      <td>Biology</td>\n",
       "    </tr>\n",
       "    <tr>\n",
       "      <th>3</th>\n",
       "      <td>1.829</td>\n",
       "      <td>5.14</td>\n",
       "      <td>Biology</td>\n",
       "    </tr>\n",
       "    <tr>\n",
       "      <th>4</th>\n",
       "      <td>1.640</td>\n",
       "      <td>6.43</td>\n",
       "      <td>Physics</td>\n",
       "    </tr>\n",
       "    <tr>\n",
       "      <th>5</th>\n",
       "      <td>1.778</td>\n",
       "      <td>7.98</td>\n",
       "      <td>Physics</td>\n",
       "    </tr>\n",
       "    <tr>\n",
       "      <th>6</th>\n",
       "      <td>1.679</td>\n",
       "      <td>7.90</td>\n",
       "      <td>Biology</td>\n",
       "    </tr>\n",
       "    <tr>\n",
       "      <th>7</th>\n",
       "      <td>1.604</td>\n",
       "      <td>6.76</td>\n",
       "      <td>Physics</td>\n",
       "    </tr>\n",
       "    <tr>\n",
       "      <th>8</th>\n",
       "      <td>1.819</td>\n",
       "      <td>7.44</td>\n",
       "      <td>Physics</td>\n",
       "    </tr>\n",
       "    <tr>\n",
       "      <th>9</th>\n",
       "      <td>1.607</td>\n",
       "      <td>6.01</td>\n",
       "      <td>Physics</td>\n",
       "    </tr>\n",
       "  </tbody>\n",
       "</table>\n",
       "</div>"
      ],
      "text/plain": [
       "   Height  Score   Course\n",
       "0   1.539   6.61  Biology\n",
       "1   1.764   6.42  Biology\n",
       "2   1.695   8.95  Biology\n",
       "3   1.829   5.14  Biology\n",
       "4   1.640   6.43  Physics\n",
       "5   1.778   7.98  Physics\n",
       "6   1.679   7.90  Biology\n",
       "7   1.604   6.76  Physics\n",
       "8   1.819   7.44  Physics\n",
       "9   1.607   6.01  Physics"
      ]
     },
     "execution_count": 42,
     "metadata": {},
     "output_type": "execute_result"
    }
   ],
   "source": [
    "data.head(10)"
   ]
  },
  {
   "cell_type": "markdown",
   "metadata": {
    "colab_type": "text",
    "id": "86on9pLMeidf"
   },
   "source": [
    "Para evitar bagunçar com nosso _data set_ original, criamos uma cópia (rasa) dele:"
   ]
  },
  {
   "cell_type": "code",
   "execution_count": 43,
   "metadata": {
    "colab": {},
    "colab_type": "code",
    "id": "vdA8euCcZeq1"
   },
   "outputs": [],
   "source": [
    "data_missing = data.copy()"
   ]
  },
  {
   "cell_type": "markdown",
   "metadata": {
    "colab_type": "text",
    "id": "snDUyWqEenh8"
   },
   "source": [
    "E para tornar o exemplo mais interessante, adicionamos (ou removemos?) dados faltantes ao _data set_. Isso porque uma das transformações úteis que podemos aplicar no _pipeline_ é justamente a imputação de dados, ou seja, preencher dados faltantes.\n",
    "\n",
    "As variáveis numéricas faltantes são representadas por `np.nan`, enquanto a variável categórica é representada pela classe `Unknown`:"
   ]
  },
  {
   "cell_type": "code",
   "execution_count": 44,
   "metadata": {
    "colab": {
     "base_uri": "https://localhost:8080/",
     "height": 363
    },
    "colab_type": "code",
    "id": "LkVnbFAKS_fF",
    "outputId": "6ba74eb6-0d60-419a-c39a-dd165cd49b60"
   },
   "outputs": [
    {
     "data": {
      "text/html": [
       "<div>\n",
       "<style scoped>\n",
       "    .dataframe tbody tr th:only-of-type {\n",
       "        vertical-align: middle;\n",
       "    }\n",
       "\n",
       "    .dataframe tbody tr th {\n",
       "        vertical-align: top;\n",
       "    }\n",
       "\n",
       "    .dataframe thead th {\n",
       "        text-align: right;\n",
       "    }\n",
       "</style>\n",
       "<table border=\"1\" class=\"dataframe\">\n",
       "  <thead>\n",
       "    <tr style=\"text-align: right;\">\n",
       "      <th></th>\n",
       "      <th>Height</th>\n",
       "      <th>Score</th>\n",
       "      <th>Course</th>\n",
       "    </tr>\n",
       "  </thead>\n",
       "  <tbody>\n",
       "    <tr>\n",
       "      <th>2</th>\n",
       "      <td>1.695</td>\n",
       "      <td>NaN</td>\n",
       "      <td>Unknown</td>\n",
       "    </tr>\n",
       "    <tr>\n",
       "      <th>5</th>\n",
       "      <td>1.778</td>\n",
       "      <td>NaN</td>\n",
       "      <td>Physics</td>\n",
       "    </tr>\n",
       "    <tr>\n",
       "      <th>8</th>\n",
       "      <td>NaN</td>\n",
       "      <td>7.44</td>\n",
       "      <td>Physics</td>\n",
       "    </tr>\n",
       "    <tr>\n",
       "      <th>11</th>\n",
       "      <td>1.539</td>\n",
       "      <td>NaN</td>\n",
       "      <td>Biology</td>\n",
       "    </tr>\n",
       "    <tr>\n",
       "      <th>15</th>\n",
       "      <td>NaN</td>\n",
       "      <td>5.44</td>\n",
       "      <td>Biology</td>\n",
       "    </tr>\n",
       "    <tr>\n",
       "      <th>24</th>\n",
       "      <td>NaN</td>\n",
       "      <td>8.08</td>\n",
       "      <td>Biology</td>\n",
       "    </tr>\n",
       "    <tr>\n",
       "      <th>29</th>\n",
       "      <td>2.020</td>\n",
       "      <td>6.83</td>\n",
       "      <td>Unknown</td>\n",
       "    </tr>\n",
       "    <tr>\n",
       "      <th>33</th>\n",
       "      <td>1.691</td>\n",
       "      <td>NaN</td>\n",
       "      <td>Math</td>\n",
       "    </tr>\n",
       "    <tr>\n",
       "      <th>35</th>\n",
       "      <td>2.085</td>\n",
       "      <td>6.96</td>\n",
       "      <td>Unknown</td>\n",
       "    </tr>\n",
       "    <tr>\n",
       "      <th>38</th>\n",
       "      <td>1.376</td>\n",
       "      <td>6.54</td>\n",
       "      <td>Unknown</td>\n",
       "    </tr>\n",
       "  </tbody>\n",
       "</table>\n",
       "</div>"
      ],
      "text/plain": [
       "    Height  Score   Course\n",
       "2    1.695    NaN  Unknown\n",
       "5    1.778    NaN  Physics\n",
       "8      NaN   7.44  Physics\n",
       "11   1.539    NaN  Biology\n",
       "15     NaN   5.44  Biology\n",
       "24     NaN   8.08  Biology\n",
       "29   2.020   6.83  Unknown\n",
       "33   1.691    NaN     Math\n",
       "35   2.085   6.96  Unknown\n",
       "38   1.376   6.54  Unknown"
      ]
     },
     "execution_count": 44,
     "metadata": {},
     "output_type": "execute_result"
    }
   ],
   "source": [
    "unknown_height_idx = pd.Index(np.random.choice(data_missing.index, 10, replace=False))\n",
    "unknown_score_idx = pd.Index(np.random.choice(data_missing.index, 10, replace=False))\n",
    "unknown_course_idx = pd.Index(np.random.choice(data_missing.index, 10, replace=False))\n",
    "\n",
    "data_missing.loc[unknown_height_idx, \"Height\"] = np.nan\n",
    "data_missing.loc[unknown_score_idx, \"Score\"] = np.nan\n",
    "data_missing.loc[unknown_course_idx, \"Course\"] = \"Unknown\"\n",
    "\n",
    "data_missing_idx = unknown_height_idx | unknown_score_idx | unknown_course_idx\n",
    "\n",
    "data_missing.loc[data_missing_idx].head(10)"
   ]
  },
  {
   "cell_type": "markdown",
   "metadata": {
    "colab_type": "text",
    "id": "nmUJS9SzfC9Y"
   },
   "source": [
    "Criamos o _pipeline_ com as seguintes etapas:\n",
    "\n",
    "1. Faça imputação dos dados, preenchendo os dados faltantes com a mediana dos dados presentes.\n",
    "2. Faça a normalização dos dados no intervalo _default_ $[0, 1]$.\n",
    "3. Crie novas variáveis através da expansão polinomial da variável original."
   ]
  },
  {
   "cell_type": "markdown",
   "metadata": {
    "colab_type": "text",
    "id": "9ypslSlEhGBr"
   },
   "source": [
    "O `Pipeline` recebe uma lista de transformações representadas por tuplas de dois elementos. Cada tupla contém:\n",
    "\n",
    "* O nome para a etapa (ou transformação ou estimador). Isso vai ser útil para recuperar algumas informações do _pipeline_ mais a frente.\n",
    "* Um objeto da classe do transformador ou estimador, já com seus parâmetros configurados."
   ]
  },
  {
   "cell_type": "code",
   "execution_count": 45,
   "metadata": {
    "colab": {},
    "colab_type": "code",
    "id": "XqthBhA18ITd"
   },
   "outputs": [],
   "source": [
    "num_pipeline = Pipeline(steps=[\n",
    "    (\"imputer\", SimpleImputer(strategy=\"median\")),\n",
    "    (\"minmax_scaler\", MinMaxScaler()),\n",
    "    (\"poly_features\", PolynomialFeatures(degree=2, include_bias=False))\n",
    "])"
   ]
  },
  {
   "cell_type": "markdown",
   "metadata": {
    "colab_type": "text",
    "id": "3UVr1XWCfZID"
   },
   "source": [
    "Depois da especificação do nosso _pipeline_, podemos aplicá-lo simultaneamente a diversas variáveis (desde que as transformações especificadas façam sentido).\n",
    "\n",
    "No exemplo abaixo, aplicamos esse _pipeline_ às variáveis `Height` e `Score` ao mesmo tempo:"
   ]
  },
  {
   "cell_type": "code",
   "execution_count": 46,
   "metadata": {
    "colab": {
     "base_uri": "https://localhost:8080/",
     "height": 191
    },
    "colab_type": "code",
    "id": "Qh8kbymmDZqB",
    "outputId": "0595019a-1288-4ea8-d18b-1d61dc44136b"
   },
   "outputs": [
    {
     "data": {
      "text/plain": [
       "array([[0.26553106, 0.48554913, 0.07050674, 0.12892838, 0.23575796],\n",
       "       [0.49098196, 0.44894027, 0.24106329, 0.22042158, 0.20154737],\n",
       "       [0.42184369, 0.48843931, 0.1779521 , 0.20604504, 0.23857296],\n",
       "       [0.55611222, 0.20231214, 0.30926081, 0.11250825, 0.0409302 ],\n",
       "       [0.36673347, 0.45086705, 0.13449344, 0.16534804, 0.2032811 ],\n",
       "       [0.50501002, 0.48843931, 0.25503512, 0.24666674, 0.23857296],\n",
       "       [0.40581162, 0.73410405, 0.16468307, 0.29790795, 0.53890875],\n",
       "       [0.33066132, 0.51445087, 0.10933691, 0.170109  , 0.26465969],\n",
       "       [0.41082164, 0.64547206, 0.16877442, 0.26517389, 0.41663418],\n",
       "       [0.33366733, 0.3699422 , 0.11133389, 0.12343763, 0.13685723]])"
      ]
     },
     "execution_count": 46,
     "metadata": {},
     "output_type": "execute_result"
    }
   ],
   "source": [
    "pipeline_transformation = num_pipeline.fit_transform(data_missing[[\"Height\", \"Score\"]])\n",
    "\n",
    "pipeline_transformation[:10]"
   ]
  },
  {
   "cell_type": "markdown",
   "metadata": {
    "colab_type": "text",
    "id": "HoNf9vDJfrW8"
   },
   "source": [
    "Para ficar mais claro a saída do _pipeline_, podemos utilizar os nomes das _features_ geradas através do método `get_feature_names()`. Para tornar ainda mais claro, substituímos o que é chamado `x0` por `Height` e `x1` por `Score`, que é inferido pela ordem das variáveis no _pipeline_."
   ]
  },
  {
   "cell_type": "code",
   "execution_count": 47,
   "metadata": {
    "colab": {
     "base_uri": "https://localhost:8080/",
     "height": 34
    },
    "colab_type": "code",
    "id": "OJz5zvr2EeM3",
    "outputId": "444fe35c-4e5e-4f9c-ef6a-152dd9bcd775"
   },
   "outputs": [
    {
     "data": {
      "text/plain": [
       "['Height_n', 'Score_n', 'Height_n^2', 'Height_n Score_n', 'Score_n^2']"
      ]
     },
     "execution_count": 47,
     "metadata": {},
     "output_type": "execute_result"
    }
   ],
   "source": [
    "poly_features = num_pipeline.get_params()[\"poly_features\"].get_feature_names()\n",
    "  \n",
    "pipeline_columns = [old_name.replace(\"x0\", \"Height_n\").replace(\"x1\", \"Score_n\") for old_name in poly_features]\n",
    "\n",
    "pipeline_columns"
   ]
  },
  {
   "cell_type": "markdown",
   "metadata": {
    "colab_type": "text",
    "id": "MBgEafF-gKA3"
   },
   "source": [
    "Criamos um novo _data set_ com essas variáveis resultantes do _pipeline_:"
   ]
  },
  {
   "cell_type": "code",
   "execution_count": 48,
   "metadata": {
    "colab": {
     "base_uri": "https://localhost:8080/",
     "height": 237
    },
    "colab_type": "code",
    "id": "q_xBepJGIAJm",
    "outputId": "6126947b-ef3f-42db-84aa-4317ed5f79d3"
   },
   "outputs": [
    {
     "data": {
      "text/html": [
       "<div>\n",
       "<style scoped>\n",
       "    .dataframe tbody tr th:only-of-type {\n",
       "        vertical-align: middle;\n",
       "    }\n",
       "\n",
       "    .dataframe tbody tr th {\n",
       "        vertical-align: top;\n",
       "    }\n",
       "\n",
       "    .dataframe thead th {\n",
       "        text-align: right;\n",
       "    }\n",
       "</style>\n",
       "<table border=\"1\" class=\"dataframe\">\n",
       "  <thead>\n",
       "    <tr style=\"text-align: right;\">\n",
       "      <th></th>\n",
       "      <th>Height_n</th>\n",
       "      <th>Score_n</th>\n",
       "      <th>Height_n^2</th>\n",
       "      <th>Height_n Score_n</th>\n",
       "      <th>Score_n^2</th>\n",
       "    </tr>\n",
       "  </thead>\n",
       "  <tbody>\n",
       "    <tr>\n",
       "      <th>0</th>\n",
       "      <td>0.265531</td>\n",
       "      <td>0.485549</td>\n",
       "      <td>0.070507</td>\n",
       "      <td>0.128928</td>\n",
       "      <td>0.235758</td>\n",
       "    </tr>\n",
       "    <tr>\n",
       "      <th>1</th>\n",
       "      <td>0.490982</td>\n",
       "      <td>0.448940</td>\n",
       "      <td>0.241063</td>\n",
       "      <td>0.220422</td>\n",
       "      <td>0.201547</td>\n",
       "    </tr>\n",
       "    <tr>\n",
       "      <th>2</th>\n",
       "      <td>0.421844</td>\n",
       "      <td>0.488439</td>\n",
       "      <td>0.177952</td>\n",
       "      <td>0.206045</td>\n",
       "      <td>0.238573</td>\n",
       "    </tr>\n",
       "    <tr>\n",
       "      <th>3</th>\n",
       "      <td>0.556112</td>\n",
       "      <td>0.202312</td>\n",
       "      <td>0.309261</td>\n",
       "      <td>0.112508</td>\n",
       "      <td>0.040930</td>\n",
       "    </tr>\n",
       "    <tr>\n",
       "      <th>4</th>\n",
       "      <td>0.366733</td>\n",
       "      <td>0.450867</td>\n",
       "      <td>0.134493</td>\n",
       "      <td>0.165348</td>\n",
       "      <td>0.203281</td>\n",
       "    </tr>\n",
       "    <tr>\n",
       "      <th>5</th>\n",
       "      <td>0.505010</td>\n",
       "      <td>0.488439</td>\n",
       "      <td>0.255035</td>\n",
       "      <td>0.246667</td>\n",
       "      <td>0.238573</td>\n",
       "    </tr>\n",
       "  </tbody>\n",
       "</table>\n",
       "</div>"
      ],
      "text/plain": [
       "   Height_n   Score_n  Height_n^2  Height_n Score_n  Score_n^2\n",
       "0  0.265531  0.485549    0.070507          0.128928   0.235758\n",
       "1  0.490982  0.448940    0.241063          0.220422   0.201547\n",
       "2  0.421844  0.488439    0.177952          0.206045   0.238573\n",
       "3  0.556112  0.202312    0.309261          0.112508   0.040930\n",
       "4  0.366733  0.450867    0.134493          0.165348   0.203281\n",
       "5  0.505010  0.488439    0.255035          0.246667   0.238573"
      ]
     },
     "execution_count": 48,
     "metadata": {},
     "output_type": "execute_result"
    }
   ],
   "source": [
    "height_score_normalized_poly = pd.DataFrame(pipeline_transformation, columns=pipeline_columns)\n",
    "\n",
    "height_score_normalized_poly.head(6)"
   ]
  },
  {
   "cell_type": "markdown",
   "metadata": {
    "colab_type": "text",
    "id": "9imGtnaygRiX"
   },
   "source": [
    "Podemos também criar outro _pipeline_ para a variável categórica `Course`. Como se trata de uma variável de natureza completamente diferente, precisamos especificar um _pipeline_ diferente com as seguintes transformações:\n",
    "\n",
    "1. Preencha os dados faltantes (`None`) com a classe `Unknown`.\n",
    "2. Crie novas variáveis binárias com o `OneHotEncoder`."
   ]
  },
  {
   "cell_type": "markdown",
   "metadata": {
    "colab_type": "text",
    "id": "eZP_HTkchI5c"
   },
   "source": [
    "Assim como no _pipeline_ anterior, especificamos cada etapa como uma tupla com um nome e um objeto de um transformador ou estimador:"
   ]
  },
  {
   "cell_type": "code",
   "execution_count": 50,
   "metadata": {
    "colab": {},
    "colab_type": "code",
    "id": "NMv_2lV7KxTM"
   },
   "outputs": [],
   "source": [
    "cat_pipeline = Pipeline([\n",
    "    (\"imputer\", SimpleImputer(strategy=\"constant\", fill_value=\"Unknown\")),\n",
    "    (\"one_hot_encoder\", OneHotEncoder(sparse=False, dtype=np.int))\n",
    "])"
   ]
  },
  {
   "cell_type": "markdown",
   "metadata": {
    "colab_type": "text",
    "id": "wK66jYTShV52"
   },
   "source": [
    "Após a especificação do _pipeline_, podemos aplicá-lo à nossa variável `Course`:"
   ]
  },
  {
   "cell_type": "code",
   "execution_count": 51,
   "metadata": {
    "colab": {},
    "colab_type": "code",
    "id": "KIFWvPS7LNUA"
   },
   "outputs": [],
   "source": [
    "course_pipeline_transformation = cat_pipeline.fit_transform(data_missing[[\"Course\"]])"
   ]
  },
  {
   "cell_type": "markdown",
   "metadata": {
    "colab_type": "text",
    "id": "quJ4ThBBhfBI"
   },
   "source": [
    "Agora, utilizaremos o nome que demos à etapa do `OneHotEncoder` para recuperar esse transformador através do método `get_params()`. Depois de recuperado o `OneHotEncoder`, acessamos seu atributo `categories_` (primeiro índice `[0]`, pois poderíamos ter aplicado o _pipeline_ a mais de uma variável categórica):"
   ]
  },
  {
   "cell_type": "code",
   "execution_count": 52,
   "metadata": {
    "colab": {
     "base_uri": "https://localhost:8080/",
     "height": 34
    },
    "colab_type": "code",
    "id": "Zurb-NVWM4sX",
    "outputId": "1e7c2960-6ffb-4285-bb2d-691157302850"
   },
   "outputs": [
    {
     "data": {
      "text/plain": [
       "array(['Biology', 'Math', 'Physics', 'Unknown'], dtype=object)"
      ]
     },
     "execution_count": 52,
     "metadata": {},
     "output_type": "execute_result"
    }
   ],
   "source": [
    "course_columns = cat_pipeline.get_params()[\"one_hot_encoder\"].categories_[0]\n",
    "\n",
    "course_columns"
   ]
  },
  {
   "cell_type": "markdown",
   "metadata": {
    "colab_type": "text",
    "id": "ABQDGjU_iDGS"
   },
   "source": [
    "Utilizamos a saída do _pipeline_ e os nomes das categorias recuperados do transformador para criar um novo `DataFrame`:"
   ]
  },
  {
   "cell_type": "code",
   "execution_count": 53,
   "metadata": {
    "colab": {
     "base_uri": "https://localhost:8080/",
     "height": 206
    },
    "colab_type": "code",
    "id": "3ec56uIcMvll",
    "outputId": "5707acac-8d67-4d74-eb02-d73b98f6340a"
   },
   "outputs": [
    {
     "data": {
      "text/html": [
       "<div>\n",
       "<style scoped>\n",
       "    .dataframe tbody tr th:only-of-type {\n",
       "        vertical-align: middle;\n",
       "    }\n",
       "\n",
       "    .dataframe tbody tr th {\n",
       "        vertical-align: top;\n",
       "    }\n",
       "\n",
       "    .dataframe thead th {\n",
       "        text-align: right;\n",
       "    }\n",
       "</style>\n",
       "<table border=\"1\" class=\"dataframe\">\n",
       "  <thead>\n",
       "    <tr style=\"text-align: right;\">\n",
       "      <th></th>\n",
       "      <th>Biology</th>\n",
       "      <th>Math</th>\n",
       "      <th>Physics</th>\n",
       "      <th>Unknown</th>\n",
       "    </tr>\n",
       "  </thead>\n",
       "  <tbody>\n",
       "    <tr>\n",
       "      <th>0</th>\n",
       "      <td>1</td>\n",
       "      <td>0</td>\n",
       "      <td>0</td>\n",
       "      <td>0</td>\n",
       "    </tr>\n",
       "    <tr>\n",
       "      <th>1</th>\n",
       "      <td>1</td>\n",
       "      <td>0</td>\n",
       "      <td>0</td>\n",
       "      <td>0</td>\n",
       "    </tr>\n",
       "    <tr>\n",
       "      <th>2</th>\n",
       "      <td>0</td>\n",
       "      <td>0</td>\n",
       "      <td>0</td>\n",
       "      <td>1</td>\n",
       "    </tr>\n",
       "    <tr>\n",
       "      <th>3</th>\n",
       "      <td>1</td>\n",
       "      <td>0</td>\n",
       "      <td>0</td>\n",
       "      <td>0</td>\n",
       "    </tr>\n",
       "    <tr>\n",
       "      <th>4</th>\n",
       "      <td>0</td>\n",
       "      <td>0</td>\n",
       "      <td>1</td>\n",
       "      <td>0</td>\n",
       "    </tr>\n",
       "  </tbody>\n",
       "</table>\n",
       "</div>"
      ],
      "text/plain": [
       "   Biology  Math  Physics  Unknown\n",
       "0        1     0        0        0\n",
       "1        1     0        0        0\n",
       "2        0     0        0        1\n",
       "3        1     0        0        0\n",
       "4        0     0        1        0"
      ]
     },
     "execution_count": 53,
     "metadata": {},
     "output_type": "execute_result"
    }
   ],
   "source": [
    "course_discretized = pd.DataFrame(course_pipeline_transformation, columns=course_columns)\n",
    "\n",
    "course_discretized.head(5)"
   ]
  },
  {
   "cell_type": "markdown",
   "metadata": {
    "colab_type": "text",
    "id": "OeO6hmSEiL6N"
   },
   "source": [
    "Por fim, combinamos as saídas dos dois _pipelines_ para criar um único `DataFrame`:"
   ]
  },
  {
   "cell_type": "code",
   "execution_count": 54,
   "metadata": {
    "colab": {
     "base_uri": "https://localhost:8080/",
     "height": 363
    },
    "colab_type": "code",
    "id": "d8tL_jS1NTf7",
    "outputId": "8b39c1c3-e549-4cea-fade-7c8e90d290ba"
   },
   "outputs": [
    {
     "data": {
      "text/html": [
       "<div>\n",
       "<style scoped>\n",
       "    .dataframe tbody tr th:only-of-type {\n",
       "        vertical-align: middle;\n",
       "    }\n",
       "\n",
       "    .dataframe tbody tr th {\n",
       "        vertical-align: top;\n",
       "    }\n",
       "\n",
       "    .dataframe thead th {\n",
       "        text-align: right;\n",
       "    }\n",
       "</style>\n",
       "<table border=\"1\" class=\"dataframe\">\n",
       "  <thead>\n",
       "    <tr style=\"text-align: right;\">\n",
       "      <th></th>\n",
       "      <th>Height_n</th>\n",
       "      <th>Score_n</th>\n",
       "      <th>Height_n^2</th>\n",
       "      <th>Height_n Score_n</th>\n",
       "      <th>Score_n^2</th>\n",
       "      <th>Biology</th>\n",
       "      <th>Math</th>\n",
       "      <th>Physics</th>\n",
       "      <th>Unknown</th>\n",
       "    </tr>\n",
       "  </thead>\n",
       "  <tbody>\n",
       "    <tr>\n",
       "      <th>0</th>\n",
       "      <td>0.265531</td>\n",
       "      <td>0.485549</td>\n",
       "      <td>0.070507</td>\n",
       "      <td>0.128928</td>\n",
       "      <td>0.235758</td>\n",
       "      <td>1</td>\n",
       "      <td>0</td>\n",
       "      <td>0</td>\n",
       "      <td>0</td>\n",
       "    </tr>\n",
       "    <tr>\n",
       "      <th>1</th>\n",
       "      <td>0.490982</td>\n",
       "      <td>0.448940</td>\n",
       "      <td>0.241063</td>\n",
       "      <td>0.220422</td>\n",
       "      <td>0.201547</td>\n",
       "      <td>1</td>\n",
       "      <td>0</td>\n",
       "      <td>0</td>\n",
       "      <td>0</td>\n",
       "    </tr>\n",
       "    <tr>\n",
       "      <th>2</th>\n",
       "      <td>0.421844</td>\n",
       "      <td>0.488439</td>\n",
       "      <td>0.177952</td>\n",
       "      <td>0.206045</td>\n",
       "      <td>0.238573</td>\n",
       "      <td>0</td>\n",
       "      <td>0</td>\n",
       "      <td>0</td>\n",
       "      <td>1</td>\n",
       "    </tr>\n",
       "    <tr>\n",
       "      <th>3</th>\n",
       "      <td>0.556112</td>\n",
       "      <td>0.202312</td>\n",
       "      <td>0.309261</td>\n",
       "      <td>0.112508</td>\n",
       "      <td>0.040930</td>\n",
       "      <td>1</td>\n",
       "      <td>0</td>\n",
       "      <td>0</td>\n",
       "      <td>0</td>\n",
       "    </tr>\n",
       "    <tr>\n",
       "      <th>4</th>\n",
       "      <td>0.366733</td>\n",
       "      <td>0.450867</td>\n",
       "      <td>0.134493</td>\n",
       "      <td>0.165348</td>\n",
       "      <td>0.203281</td>\n",
       "      <td>0</td>\n",
       "      <td>0</td>\n",
       "      <td>1</td>\n",
       "      <td>0</td>\n",
       "    </tr>\n",
       "    <tr>\n",
       "      <th>5</th>\n",
       "      <td>0.505010</td>\n",
       "      <td>0.488439</td>\n",
       "      <td>0.255035</td>\n",
       "      <td>0.246667</td>\n",
       "      <td>0.238573</td>\n",
       "      <td>0</td>\n",
       "      <td>0</td>\n",
       "      <td>1</td>\n",
       "      <td>0</td>\n",
       "    </tr>\n",
       "    <tr>\n",
       "      <th>6</th>\n",
       "      <td>0.405812</td>\n",
       "      <td>0.734104</td>\n",
       "      <td>0.164683</td>\n",
       "      <td>0.297908</td>\n",
       "      <td>0.538909</td>\n",
       "      <td>1</td>\n",
       "      <td>0</td>\n",
       "      <td>0</td>\n",
       "      <td>0</td>\n",
       "    </tr>\n",
       "    <tr>\n",
       "      <th>7</th>\n",
       "      <td>0.330661</td>\n",
       "      <td>0.514451</td>\n",
       "      <td>0.109337</td>\n",
       "      <td>0.170109</td>\n",
       "      <td>0.264660</td>\n",
       "      <td>0</td>\n",
       "      <td>0</td>\n",
       "      <td>1</td>\n",
       "      <td>0</td>\n",
       "    </tr>\n",
       "    <tr>\n",
       "      <th>8</th>\n",
       "      <td>0.410822</td>\n",
       "      <td>0.645472</td>\n",
       "      <td>0.168774</td>\n",
       "      <td>0.265174</td>\n",
       "      <td>0.416634</td>\n",
       "      <td>0</td>\n",
       "      <td>0</td>\n",
       "      <td>1</td>\n",
       "      <td>0</td>\n",
       "    </tr>\n",
       "    <tr>\n",
       "      <th>9</th>\n",
       "      <td>0.333667</td>\n",
       "      <td>0.369942</td>\n",
       "      <td>0.111334</td>\n",
       "      <td>0.123438</td>\n",
       "      <td>0.136857</td>\n",
       "      <td>0</td>\n",
       "      <td>0</td>\n",
       "      <td>1</td>\n",
       "      <td>0</td>\n",
       "    </tr>\n",
       "  </tbody>\n",
       "</table>\n",
       "</div>"
      ],
      "text/plain": [
       "   Height_n   Score_n  Height_n^2  Height_n Score_n  Score_n^2  Biology  Math  \\\n",
       "0  0.265531  0.485549    0.070507          0.128928   0.235758        1     0   \n",
       "1  0.490982  0.448940    0.241063          0.220422   0.201547        1     0   \n",
       "2  0.421844  0.488439    0.177952          0.206045   0.238573        0     0   \n",
       "3  0.556112  0.202312    0.309261          0.112508   0.040930        1     0   \n",
       "4  0.366733  0.450867    0.134493          0.165348   0.203281        0     0   \n",
       "5  0.505010  0.488439    0.255035          0.246667   0.238573        0     0   \n",
       "6  0.405812  0.734104    0.164683          0.297908   0.538909        1     0   \n",
       "7  0.330661  0.514451    0.109337          0.170109   0.264660        0     0   \n",
       "8  0.410822  0.645472    0.168774          0.265174   0.416634        0     0   \n",
       "9  0.333667  0.369942    0.111334          0.123438   0.136857        0     0   \n",
       "\n",
       "   Physics  Unknown  \n",
       "0        0        0  \n",
       "1        0        0  \n",
       "2        0        1  \n",
       "3        0        0  \n",
       "4        1        0  \n",
       "5        1        0  \n",
       "6        0        0  \n",
       "7        1        0  \n",
       "8        1        0  \n",
       "9        1        0  "
      ]
     },
     "execution_count": 54,
     "metadata": {},
     "output_type": "execute_result"
    }
   ],
   "source": [
    "data_transformed = pd.concat([height_score_normalized_poly, course_discretized], axis=1)\n",
    "\n",
    "data_transformed.head(10)"
   ]
  },
  {
   "cell_type": "markdown",
   "metadata": {
    "colab_type": "text",
    "id": "1NLD-pyliXWO"
   },
   "source": [
    "Vale ressaltar que:\n",
    "\n",
    "* Poderíamos utilizar também o `ColumnTransformer` para compor (por isso, ele se encontra no módulo `sklearn.compose`) múltiplos `Pipeline` em diferentes variáveis.\n",
    "* Os `Pipeline` não servem apenas para a transformação dos dados de treinamento. Eles também podem (e devem) ser usados para submeter os dados de teste e até de produção aos mesmos procedimentos dos dados de treinamento."
   ]
  },
  {
   "cell_type": "markdown",
   "metadata": {
    "colab_type": "text",
    "id": "SbShR7kMZGwE"
   },
   "source": [
    "## _Outliers_\n",
    "\n",
    "_Outliers_, os famosos \"pontos fora da curva\", são observações que não parecem seguir o mesmo padrão dos demais dados. Eles podem vir de distribuições diferentes, serem erros na coleta de dados, erros de medição etc.\n",
    "\n",
    "Eles influenciam nossas análises e os nossos algoritmos ao apresentar comportamento distoante do resto do _data set_, impactando na média, variância, funções de perda e custo etc. Se fizer sentido, eles devem ser removidos ou transformados antes de prosseguirmos com a análise.\n",
    "\n",
    "No entanto, devemos julgar com cautela sua remoção: __alguns _outliers_ são dados autênticos e devem ser estudados com atenção__. Por exemplo, a remoção de uma medição muito alta na temperatura de um reator seria um erro, pois essa medição pode estar nos indicando um potencial problema com o dispositivo.\n",
    "\n",
    "Abaixo estudamos algumas técnicas simples para encontrar _outliers_.\n",
    "\n",
    "![outlier](https://www.stats4stem.org/common/web/plugins/ckeditor/plugins/doksoft_uploader/userfiles/WithInfOutlier.png)"
   ]
  },
  {
   "cell_type": "markdown",
   "metadata": {
    "colab_type": "text",
    "id": "u3bsTDv0pAN4"
   },
   "source": [
    "Começamos criando uma cópia da variável `Height` do nosso _data set_ para não impactar o original:"
   ]
  },
  {
   "cell_type": "code",
   "execution_count": 55,
   "metadata": {
    "colab": {},
    "colab_type": "code",
    "id": "tQ7AQztcZkYx"
   },
   "outputs": [],
   "source": [
    "height_outlier = data.Height.copy()"
   ]
  },
  {
   "cell_type": "markdown",
   "metadata": {
    "colab_type": "text",
    "id": "VQNHBAu4pHcp"
   },
   "source": [
    "Adicionamos dez  _outliers_ que representam pessoas estranhamente baixas ou estranhamente altas para o padrão que estamos observando:"
   ]
  },
  {
   "cell_type": "code",
   "execution_count": 56,
   "metadata": {
    "colab": {
     "base_uri": "https://localhost:8080/",
     "height": 208
    },
    "colab_type": "code",
    "id": "nX2R3V0HZI0w",
    "outputId": "6acbd63c-820e-485a-cde4-72a69fefe13d"
   },
   "outputs": [
    {
     "data": {
      "text/plain": [
       "14    1.646795\n",
       "18    1.696510\n",
       "29    0.516665\n",
       "38    2.943781\n",
       "48    1.058498\n",
       "49    1.326605\n",
       "57    2.074231\n",
       "66    1.831315\n",
       "68    2.737088\n",
       "96    1.966029\n",
       "Name: Height, dtype: float64"
      ]
     },
     "execution_count": 56,
     "metadata": {},
     "output_type": "execute_result"
    }
   ],
   "source": [
    "height_outlier_idx = pd.Index(np.random.choice(height_outlier.index, 10, replace=False))\n",
    "\n",
    "too_short_idx = pd.Index(height_outlier_idx[:5])\n",
    "too_tall_idx = pd.Index(height_outlier_idx[5:])\n",
    "\n",
    "height_outlier[too_short_idx] = np.random.normal(loc=1.30, scale=0.5, size=5)\n",
    "height_outlier[too_tall_idx] = np.random.normal(loc=2.20, scale=0.5, size=5)\n",
    "\n",
    "outlier_idx = too_short_idx | too_tall_idx\n",
    "\n",
    "height_outlier[outlier_idx]\n"
   ]
  },
  {
   "cell_type": "markdown",
   "metadata": {
    "colab_type": "text",
    "id": "mwNbTzDnpoDL"
   },
   "source": [
    "Note que nem todos dados gerados se tornaram realmente _outliers_. Como geramos de uma distribuição aleatória, corremos esse risco.\n",
    "\n",
    "No entanto, temos alguns dados estranhos como 0.51 m e 2.73 m."
   ]
  },
  {
   "cell_type": "markdown",
   "metadata": {
    "colab_type": "text",
    "id": "x5pwD_1EqRNZ"
   },
   "source": [
    "No _boxplot_ padrão, os dados mais extremos são mostrados como pontos fora do alcance dos _whiskers_ (as barrinhas do _box plot_).\n",
    "\n",
    "No caso abaixo, notamos três pontos acima e três pontos abaixo do considerado \"dentro da faixa normal\"."
   ]
  },
  {
   "cell_type": "code",
   "execution_count": 57,
   "metadata": {
    "colab": {
     "base_uri": "https://localhost:8080/",
     "height": 695
    },
    "colab_type": "code",
    "id": "hRMVhYz3b2KH",
    "outputId": "9e090cef-804c-4f17-958b-5e25154662db"
   },
   "outputs": [
    {
     "data": {
      "image/png": "[encoded data removed]",
      "text/plain": [
       "<Figure size 864x864 with 1 Axes>"
      ]
     },
     "metadata": {},
     "output_type": "display_data"
    }
   ],
   "source": [
    "sns.boxplot(height_outlier, orient=\"vertical\");"
   ]
  },
  {
   "cell_type": "markdown",
   "metadata": {
    "colab_type": "text",
    "id": "MOKP49JMqTog"
   },
   "source": [
    "Uma primeira abordagem bem simples é encontrar os pontos do _box plot_ acima.\n",
    "\n",
    "Tudo que estiver fora da faixa $[Q1 - 1.5 \\times \\text{IQR}, Q3 + 1.5 \\times \\text{IQR}]$ é considerado um ponto anômalo para aquele padrão:"
   ]
  },
  {
   "cell_type": "code",
   "execution_count": 58,
   "metadata": {
    "colab": {
     "base_uri": "https://localhost:8080/",
     "height": 34
    },
    "colab_type": "code",
    "id": "z_h0zaVDce0N",
    "outputId": "86b9e772-6438-4820-87ba-dab83a4b1dd8"
   },
   "outputs": [
    {
     "name": "stdout",
     "output_type": "stream",
     "text": [
      "Faixa considerada \"normal\": [1.18575, 2.24175]\n"
     ]
    }
   ],
   "source": [
    "q1 = height_outlier.quantile(0.25)\n",
    "q3 = height_outlier.quantile(0.75)\n",
    "iqr = q3 - q1\n",
    "\n",
    "non_outlier_interval_iqr = [q1 - 1.5 * iqr, q3 + 1.5 * iqr]\n",
    "\n",
    "print(f\"Faixa considerada \\\"normal\\\": {non_outlier_interval_iqr}\")"
   ]
  },
  {
   "cell_type": "markdown",
   "metadata": {
    "colab_type": "text",
    "id": "wsuVvr8hq4Rc"
   },
   "source": [
    "Agora podemos identificar quais pontos encontram-se fora desse intervalo, ou seja, podem ser considerados _outliers_:"
   ]
  },
  {
   "cell_type": "code",
   "execution_count": 59,
   "metadata": {
    "colab": {
     "base_uri": "https://localhost:8080/",
     "height": 139
    },
    "colab_type": "code",
    "id": "hm78PWbhc9Dz",
    "outputId": "ee3995ea-8a63-4c90-b3dd-57ba673887ee"
   },
   "outputs": [
    {
     "data": {
      "text/plain": [
       "29    0.516665\n",
       "38    2.943781\n",
       "48    1.058498\n",
       "68    2.737088\n",
       "91    2.272000\n",
       "92    1.164000\n",
       "Name: Height, dtype: float64"
      ]
     },
     "execution_count": 59,
     "metadata": {},
     "output_type": "execute_result"
    }
   ],
   "source": [
    "outliers_iqr = height_outlier[(height_outlier < non_outlier_interval_iqr[0]) | (height_outlier > non_outlier_interval_iqr[1])]\n",
    "\n",
    "outliers_iqr"
   ]
  },
  {
   "cell_type": "markdown",
   "metadata": {
    "colab_type": "text",
    "id": "XcF70kmerGEq"
   },
   "source": [
    "Se estivermos seguos de que esses pontos representam de fato _outliers_ e que sua remoção não traz prejuízo à nossa análise, então podemos removê-los:"
   ]
  },
  {
   "cell_type": "code",
   "execution_count": 61,
   "metadata": {
    "colab": {},
    "colab_type": "code",
    "id": "BVRJS9DNeb9z"
   },
   "outputs": [],
   "source": [
    "height_no_outlier_iqr = height_outlier.drop(index=outliers_iqr.index)"
   ]
  },
  {
   "cell_type": "markdown",
   "metadata": {
    "colab_type": "text",
    "id": "urvTyUfHrVrJ"
   },
   "source": [
    "Uma segunda abordagem é observar as estatísticas descritivas dos dados.\n",
    "\n",
    "Repare no histograma abaixo:"
   ]
  },
  {
   "cell_type": "code",
   "execution_count": 64,
   "metadata": {
    "colab": {
     "base_uri": "https://localhost:8080/",
     "height": 726
    },
    "colab_type": "code",
    "id": "bc_paOePfHJ5",
    "outputId": "6840da1c-bae6-4465-8aa7-87f69928e182"
   },
   "outputs": [
    {
     "data": {
      "image/png": "[encoded data removed]",
      "text/plain": [
       "<Figure size 864x864 with 1 Axes>"
      ]
     },
     "metadata": {},
     "output_type": "display_data"
    }
   ],
   "source": [
    "sns.distplot(height_outlier);"
   ]
  },
  {
   "cell_type": "markdown",
   "metadata": {
    "colab_type": "text",
    "id": "jI9ToieVrisQ"
   },
   "source": [
    "Dá para perceber que a maior parte dos dados concentra-se em torno da média (~ 1.7 m) e que apenas algumas observações encontram-se bastante distantes dela."
   ]
  },
  {
   "cell_type": "code",
   "execution_count": 65,
   "metadata": {
    "colab": {
     "base_uri": "https://localhost:8080/",
     "height": 34
    },
    "colab_type": "code",
    "id": "q49-oFz4gBHs",
    "outputId": "f968b883-a1e3-4ead-963a-19d9f25e9d9e"
   },
   "outputs": [
    {
     "data": {
      "text/plain": [
       "(1.7181251474953012, 0.2948590174540895)"
      ]
     },
     "execution_count": 65,
     "metadata": {},
     "output_type": "execute_result"
    }
   ],
   "source": [
    "height_outlier_mean = height_outlier.mean()\n",
    "height_outlier_std = height_outlier.std()\n",
    "\n",
    "height_outlier_mean, height_outlier_std"
   ]
  },
  {
   "cell_type": "markdown",
   "metadata": {
    "colab_type": "text",
    "id": "dTtLF6P2rvIh"
   },
   "source": [
    "Um jeito de procurar por _outliers_ é ver quem se encontra fora do intervalo $[\\bar{x} - k * \\sigma, \\bar{x} + k * \\sigma]$, onde $k$ geralmente é 1.5, 2.0, 2.5 ou até 3.0.\n",
    "\n",
    "Abaixo utilizamos o $k = 2$, pois esse valor faz sentido (alturas menores que 1.12 m ou maiores que 2.30 m fogem do nosso padrão):"
   ]
  },
  {
   "cell_type": "code",
   "execution_count": 66,
   "metadata": {
    "colab": {
     "base_uri": "https://localhost:8080/",
     "height": 34
    },
    "colab_type": "code",
    "id": "cI8gL-QrgK1s",
    "outputId": "6c472ac1-ea23-4dd3-b833-91969a62f92d"
   },
   "outputs": [
    {
     "data": {
      "text/plain": [
       "[1.1284071125871222, 2.30784318240348]"
      ]
     },
     "execution_count": 66,
     "metadata": {},
     "output_type": "execute_result"
    }
   ],
   "source": [
    "non_outlier_interval_dist = [height_outlier_mean - 2 * height_outlier_std, height_outlier_mean + 2 * height_outlier_std]\n",
    "\n",
    "non_outlier_interval_dist"
   ]
  },
  {
   "cell_type": "markdown",
   "metadata": {
    "colab_type": "text",
    "id": "b5A37brPsVPw"
   },
   "source": [
    "Novamente, conhecendo o intervalo, podemos identificar as observações que caem foram dele e removê-las:"
   ]
  },
  {
   "cell_type": "code",
   "execution_count": 67,
   "metadata": {
    "colab": {
     "base_uri": "https://localhost:8080/",
     "height": 104
    },
    "colab_type": "code",
    "id": "W6jVe5TMglf5",
    "outputId": "c270dcb7-d46a-4dd8-94b3-c3d610269282"
   },
   "outputs": [
    {
     "data": {
      "text/plain": [
       "29    0.516665\n",
       "38    2.943781\n",
       "48    1.058498\n",
       "68    2.737088\n",
       "Name: Height, dtype: float64"
      ]
     },
     "execution_count": 67,
     "metadata": {},
     "output_type": "execute_result"
    }
   ],
   "source": [
    "outliers_dist = height_outlier[(height_outlier < non_outlier_interval_dist[0]) | (height_outlier > non_outlier_interval_dist[1])]\n",
    "\n",
    "outliers_dist"
   ]
  },
  {
   "cell_type": "code",
   "execution_count": 69,
   "metadata": {
    "colab": {},
    "colab_type": "code",
    "id": "jqYD2d3chJTK"
   },
   "outputs": [],
   "source": [
    "height_no_outlier_dist = height_outlier.drop(index=outliers_dist.index)"
   ]
  },
  {
   "cell_type": "markdown",
   "metadata": {
    "colab_type": "text",
    "id": "8IL5fWP1sePM"
   },
   "source": [
    "Até agora, nossas métodos de identificação de _outlier_ foram baseadas em estatísticas descritivas do nosso _data set_ (quantis, média e variância). Porém, alguns testes de hipóteses também existem.\n",
    "\n",
    "Um deles é o teste de Grubb. Esse é um teste bastante simples, cuja estatística de teste $G$ depende dos valores extremos do conjunto e da média amostral:\n",
    "\n",
    "$$G = \\frac{\\vert x_{\\text{\\{min ou max\\}}} - \\bar{x}\\vert}{s}$$\n",
    "\n",
    "onde $\\bar{x}$ é a média amostral e $s$ é o desvio-padrão da amostra.\n",
    "\n",
    "A hipótese nula, $H_{0}$, é de que não existem _outliers_ no _data set_. O teste de Grubb assume que os dados originam-se de uma distribuição normal, então pode ser válido testar essa hipótese antes.\n",
    "\n",
    "Rejeitamos a hipótese nula se o valor de $G$ encontrado for superior ao valor crítico do teste, que é dado por\n",
    "\n",
    "$$G_{\\text{crítico}} = \\frac{n - 1}{\\sqrt{n}} \\sqrt{\\frac{t_{\\alpha',n-2}^{2}}{n - 2 + t_{\\alpha',n-2}^{2}}}$$\n",
    "\n",
    "onde $n$ é o tamanho da amostra, $t$ é um valor com distribuição t-Student e $\\alpha'$ é $\\alpha/2n$ se o teste for bilateral (procuramos _outliers_ muito acima ou muito abaixo) ou $\\alpha/n$ se o teste for unilateral (acreditamos que o _outlier_, se houver, está em somente uma das extremidades da distribuição)."
   ]
  },
  {
   "cell_type": "markdown",
   "metadata": {
    "colab_type": "text",
    "id": "RNveH7ftxMOV"
   },
   "source": [
    "Abaixo criamos algumas funções que nos auxiliam nos cálculos e na exibição dos resultados:"
   ]
  },
  {
   "cell_type": "code",
   "execution_count": 71,
   "metadata": {
    "colab": {},
    "colab_type": "code",
    "id": "Ir61-q0ckV6K"
   },
   "outputs": [],
   "source": [
    "def grubb_test(g, n, alpha=0.05, tailed='two-tailed'):\n",
    "    if tailed == 'two-tailed':\n",
    "        critical = ((n - 1)/sqrt(n)) * sqrt(sct.t.isf(alpha/(2*n), n-2)**2/(n - 2 + sct.t.isf(alpha/(2*n), n-2)**2))\n",
    "        return (g, critical, g > critical)\n",
    "\n",
    "    elif tailed == 'one-tailed':\n",
    "        critical = ((n - 1)/sqrt(n)) * sqrt(sct.t.isf(alpha/(n), n-2)**2/(n - 2 + sct.t.isf(alpha/(n), n-2)**2))\n",
    "        return (g, critical, g > critical)\n",
    "  \n",
    "    else:\n",
    "        raise ValueError(f\"Invalid tailed argument\")"
   ]
  },
  {
   "cell_type": "code",
   "execution_count": 75,
   "metadata": {
    "colab": {},
    "colab_type": "code",
    "id": "c--VvSPuuHaM"
   },
   "outputs": [],
   "source": [
    "def grubb_summary(result, decimals=10):\n",
    "    return (\n",
    "        f\"Null hypothesis: there is no outliers in the data set\\n\"\n",
    "        f\"Test statistic: {np.round(result[0], decimals)}, \"\n",
    "        f\"Grubb's critical value: {np.round(result[1], decimals)}, \"\n",
    "        f\"Reject: {result[2]}\"\n",
    "      )"
   ]
  },
  {
   "cell_type": "code",
   "execution_count": 74,
   "metadata": {
    "colab": {},
    "colab_type": "code",
    "id": "d8nFGEVuqgdC"
   },
   "outputs": [],
   "source": [
    "def next_outlier_candidate(data):\n",
    "    sample_distances = (data - data.mean()).abs()\n",
    "    candidate_idx = sample_distances.idxmax()\n",
    "    candidate_value = data[candidate_idx]\n",
    "    candidate_statistic = sample_distances.max()/data.std()\n",
    "  \n",
    "    return (candidate_idx, candidate_value, candidate_statistic, len(data))"
   ]
  },
  {
   "cell_type": "markdown",
   "metadata": {
    "colab_type": "text",
    "id": "MRZwuyOOxU7U"
   },
   "source": [
    "Ao executarmos o teste de Grubb no nosso conjunto de alturas, encontramos alguns valores onde a hipótese nula é rejeitada, ou seja, há evidência de que o valor extremo é um _outlier_."
   ]
  },
  {
   "cell_type": "code",
   "execution_count": 76,
   "metadata": {
    "colab": {
     "base_uri": "https://localhost:8080/",
     "height": 434
    },
    "colab_type": "code",
    "id": "Rz-yVWFlt-M6",
    "outputId": "cb11e99b-2195-45d7-9089-fdf292a65e1c"
   },
   "outputs": [
    {
     "name": "stderr",
     "output_type": "stream",
     "text": [
      "c:\\users\\jardi\\appdata\\local\\programs\\python\\python37\\lib\\site-packages\\ipykernel_launcher.py:2: DeprecationWarning: The default dtype for empty Series will be 'object' instead of 'float64' in a future version. Specify a dtype explicitly to silence this warning.\n",
      "  \n"
     ]
    },
    {
     "name": "stdout",
     "output_type": "stream",
     "text": [
      "Index: 38, Value: 2.944, Test statistic: 4.157, Sample size: 100\n",
      "\n",
      "Null hypothesis: there is no outliers in the data set\n",
      "Test statistic: 4.157, Grubb's critical value: 3.384, Reject: True\n",
      "\n",
      "\n",
      "Index: 29, Value: 0.517, Test statistic: 4.421, Sample size: 99\n",
      "\n",
      "Null hypothesis: there is no outliers in the data set\n",
      "Test statistic: 4.421, Grubb's critical value: 3.381, Reject: True\n",
      "\n",
      "\n",
      "Index: 68, Value: 2.737, Test statistic: 4.219, Sample size: 98\n",
      "\n",
      "Null hypothesis: there is no outliers in the data set\n",
      "Test statistic: 4.219, Grubb's critical value: 3.377, Reject: True\n",
      "\n",
      "\n",
      "Index: 48, Value: 1.058, Test statistic: 2.96, Sample size: 97\n",
      "\n",
      "Null hypothesis: there is no outliers in the data set\n",
      "Test statistic: 2.96, Grubb's critical value: 3.374, Reject: False\n",
      "\n",
      "\n"
     ]
    }
   ],
   "source": [
    "height_outlier_grubb = height_outlier.copy()\n",
    "outliers_grubb = pd.Series()\n",
    "has_outlier = True\n",
    "\n",
    "while has_outlier:\n",
    "    outlier_candidate = next_outlier_candidate(height_outlier_grubb)\n",
    "\n",
    "    print(f\"Index: {outlier_candidate[0]}, \"\n",
    "        f\"Value: {np.round(outlier_candidate[1], 3)}, \"\n",
    "        f\"Test statistic: {np.round(outlier_candidate[2], 3)}, \"\n",
    "        f\"Sample size: {outlier_candidate[3]}\\n\")\n",
    "\n",
    "    result = grubb_test(outlier_candidate[2], outlier_candidate[3])\n",
    "\n",
    "    print(grubb_summary(result, 3))\n",
    "\n",
    "    has_outlier = result[2]\n",
    "\n",
    "    if has_outlier:\n",
    "        height_outlier_grubb = height_outlier_grubb.drop(index=outlier_candidate[0])\n",
    "        outliers_grubb.at[outlier_candidate[0]] = outlier_candidate[1]\n",
    "\n",
    "    print(f\"\\n\")"
   ]
  },
  {
   "cell_type": "code",
   "execution_count": 77,
   "metadata": {
    "colab": {
     "base_uri": "https://localhost:8080/",
     "height": 86
    },
    "colab_type": "code",
    "id": "49MMneSg-DCj",
    "outputId": "a98df152-223e-43e1-ced9-d113a40b879f"
   },
   "outputs": [
    {
     "data": {
      "text/plain": [
       "38    2.943781\n",
       "29    0.516665\n",
       "68    2.737088\n",
       "dtype: float64"
      ]
     },
     "execution_count": 77,
     "metadata": {},
     "output_type": "execute_result"
    }
   ],
   "source": [
    "outliers_grubb"
   ]
  },
  {
   "cell_type": "markdown",
   "metadata": {
    "colab_type": "text",
    "id": "_hajYam661Zd"
   },
   "source": [
    "Abaixo comparamos os _outliers_ encontrados por cada um dos três métodos:"
   ]
  },
  {
   "cell_type": "code",
   "execution_count": 78,
   "metadata": {
    "colab": {
     "base_uri": "https://localhost:8080/",
     "height": 86
    },
    "colab_type": "code",
    "id": "l3P2Bavg-zMK",
    "outputId": "25065774-49a4-4509-fe92-70a4d32c8cd2"
   },
   "outputs": [
    {
     "data": {
      "text/plain": [
       "IQR       [29, 38, 48, 68, 91, 92]\n",
       "Normal            [29, 38, 48, 68]\n",
       "Grubb                 [29, 38, 68]\n",
       "dtype: object"
      ]
     },
     "execution_count": 78,
     "metadata": {},
     "output_type": "execute_result"
    }
   ],
   "source": [
    "outliers = pd.Series({\"IQR\": outliers_iqr.index.values,\n",
    "                      \"Normal\": outliers_dist.index.values,\n",
    "                      \"Grubb\": outliers_grubb.index.values})\n",
    "\n",
    "outliers.apply(np.sort)"
   ]
  },
  {
   "cell_type": "markdown",
   "metadata": {
    "colab_type": "text",
    "id": "1oMEwGs_DHJW"
   },
   "source": [
    "## _Features_ de texto\n",
    "\n",
    "Dados textuais são muito ricos e muito fáceis de serem encontrados. Diversos _data sets_ são compostos por documentos textuais e ainda um simples _scrapper_ pode coletar dezenas de milhares de documentos da Internet. Coleções de documentos são frequentemente chamadas de _corpus_ (plural, _corpora_).\n",
    "\n",
    "Nosso objetivo aqui é somente mostrar como preprocessar de forma simples _features_ textuais. Para isso, utilizaremos o _data set_ 20 newsgroups, que contém milhares de documentos categorizados em 20 grupos (desde astronomia até carros)."
   ]
  },
  {
   "cell_type": "markdown",
   "metadata": {
    "colab_type": "text",
    "id": "XItMVwyq8Dp9"
   },
   "source": [
    "Abaixo escolhemos somente três grupos para restringir nosso escopo:"
   ]
  },
  {
   "cell_type": "code",
   "execution_count": 79,
   "metadata": {
    "colab": {},
    "colab_type": "code",
    "id": "usWrDfLvMNxw"
   },
   "outputs": [
    {
     "name": "stderr",
     "output_type": "stream",
     "text": [
      "Downloading 20news dataset. This may take a few minutes.\n",
      "Downloading dataset from https://ndownloader.figshare.com/files/5975967 (14 MB)\n"
     ]
    }
   ],
   "source": [
    "categories = [\"sci.crypt\", \"sci.med\", \"sci.space\"]\n",
    "\n",
    "newsgroups = fetch_20newsgroups(subset=\"train\", categories=categories, shuffle=True, random_state=42)"
   ]
  },
  {
   "cell_type": "markdown",
   "metadata": {
    "colab_type": "text",
    "id": "4uNwK5uREAn7"
   },
   "source": [
    "Temos agora um _corpus_ com 1782 documentos:"
   ]
  },
  {
   "cell_type": "code",
   "execution_count": 80,
   "metadata": {
    "colab": {
     "base_uri": "https://localhost:8080/",
     "height": 34
    },
    "colab_type": "code",
    "id": "_lUWgt06EtnR",
    "outputId": "f82dd8b7-5f76-477c-9173-ee35d0c7e0aa"
   },
   "outputs": [
    {
     "data": {
      "text/plain": [
       "1782"
      ]
     },
     "execution_count": 80,
     "metadata": {},
     "output_type": "execute_result"
    }
   ],
   "source": [
    "len(newsgroups.data)"
   ]
  },
  {
   "cell_type": "markdown",
   "metadata": {
    "colab_type": "text",
    "id": "xh326fr28Jyc"
   },
   "source": [
    "Um exemplo de documento desse _corpus_ é mostrado abaixo:"
   ]
  },
  {
   "cell_type": "code",
   "execution_count": 81,
   "metadata": {
    "colab": {
     "base_uri": "https://localhost:8080/",
     "height": 295
    },
    "colab_type": "code",
    "id": "vsfaD72_M52H",
    "outputId": "fb895197-8753-49e6-a631-e7716ad8c8ee"
   },
   "outputs": [
    {
     "name": "stdout",
     "output_type": "stream",
     "text": [
      "> Document 4 of 1782:\n",
      "\n",
      "From: billc@col.hp.com (Bill Claussen)\n",
      "Subject: Re: Should I be angry at this doctor?\n",
      "Organization: HP Colorado Springs Division\n",
      "Lines: 5\n",
      "Distribution: na\n",
      "NNTP-Posting-Host: hpcspe17.col.hp.com\n",
      "\n",
      "\n",
      "Report them to your local BBB (Better Business Bureau).\n",
      "\n",
      "Bill Claussen\n",
      "\n",
      "\n",
      "> Category: sci.med\n"
     ]
    }
   ],
   "source": [
    "document_idx = 4\n",
    "documents_total = len(newsgroups.data)\n",
    "\n",
    "print(f\"> Document {document_idx} of {documents_total}:\\n\\n{newsgroups.data[document_idx]}\")\n",
    "print(f\"> Category: {newsgroups.target_names[newsgroups.target[document_idx]]}\")"
   ]
  },
  {
   "cell_type": "markdown",
   "metadata": {
    "colab_type": "text",
    "id": "6liTZFzv8Nas"
   },
   "source": [
    "Quando trabalhando com dados textuais, uma representação simples é ter:\n",
    "\n",
    "* Cada documento em uma linha.\n",
    "* Cada palavra (ou termo) em uma coluna.\n",
    "\n",
    "Por exemplo, se nosso vocábulário (conjunto de todas palavras ou termos do _corpus_) tiver tamanho 10000 e tivermos 100 documentos, então nosso _data set_ será composto de 100 linhas e 10000 colunas."
   ]
  },
  {
   "cell_type": "markdown",
   "metadata": {
    "colab_type": "text",
    "id": "qLBi7mFU8mLI"
   },
   "source": [
    "O valor de cada célula, $x_{i, j}$, (interseção da linha $i$ com a coluna $j$) do _data set_ depende da tranformação que aplicarmos.\n",
    "\n",
    "A transformação mais simples é a contagem de palavras no documento, ou seja, $x_{i, j}$ indica o número de ocorrências da palavra $j$ no documento $i$.\n",
    "\n",
    "Isso pode ser obtido no sklearn pelo `CountVectorizer`:"
   ]
  },
  {
   "cell_type": "code",
   "execution_count": 82,
   "metadata": {
    "colab": {},
    "colab_type": "code",
    "id": "4E6FmUUhNs8b"
   },
   "outputs": [],
   "source": [
    "count_vectorizer = CountVectorizer()\n",
    "newsgroups_counts = count_vectorizer.fit_transform(newsgroups.data)"
   ]
  },
  {
   "cell_type": "code",
   "execution_count": 83,
   "metadata": {
    "colab": {
     "base_uri": "https://localhost:8080/",
     "height": 34
    },
    "colab_type": "code",
    "id": "TSylOCPKjLmh",
    "outputId": "d7b6e6b8-f227-4ec5-a34a-2cf93fc8ebb5"
   },
   "outputs": [
    {
     "data": {
      "text/plain": [
       "scipy.sparse.csr.csr_matrix"
      ]
     },
     "execution_count": 83,
     "metadata": {},
     "output_type": "execute_result"
    }
   ],
   "source": [
    "type(newsgroups_counts)"
   ]
  },
  {
   "cell_type": "markdown",
   "metadata": {
    "colab_type": "text",
    "id": "M4rtFrsF9CgR"
   },
   "source": [
    "Abaixo escolhemos dez palavras contidas no _corpus_ para exemplificar:"
   ]
  },
  {
   "cell_type": "code",
   "execution_count": 85,
   "metadata": {
    "colab": {
     "base_uri": "https://localhost:8080/",
     "height": 206
    },
    "colab_type": "code",
    "id": "kmxzJhkSUpIZ",
    "outputId": "613a8241-c25e-4d5d-9830-1cee04671fc4"
   },
   "outputs": [
    {
     "data": {
      "text/html": [
       "<div>\n",
       "<style scoped>\n",
       "    .dataframe tbody tr th:only-of-type {\n",
       "        vertical-align: middle;\n",
       "    }\n",
       "\n",
       "    .dataframe tbody tr th {\n",
       "        vertical-align: top;\n",
       "    }\n",
       "\n",
       "    .dataframe thead th {\n",
       "        text-align: right;\n",
       "    }\n",
       "</style>\n",
       "<table border=\"1\" class=\"dataframe\">\n",
       "  <thead>\n",
       "    <tr style=\"text-align: right;\">\n",
       "      <th></th>\n",
       "      <th>banks</th>\n",
       "      <th>business</th>\n",
       "      <th>clipper</th>\n",
       "      <th>colorado</th>\n",
       "      <th>gibberish</th>\n",
       "      <th>group</th>\n",
       "      <th>kapor</th>\n",
       "      <th>monitor</th>\n",
       "      <th>private</th>\n",
       "      <th>study</th>\n",
       "    </tr>\n",
       "  </thead>\n",
       "  <tbody>\n",
       "    <tr>\n",
       "      <th>0</th>\n",
       "      <td>0</td>\n",
       "      <td>0</td>\n",
       "      <td>2</td>\n",
       "      <td>0</td>\n",
       "      <td>0</td>\n",
       "      <td>0</td>\n",
       "      <td>1</td>\n",
       "      <td>0</td>\n",
       "      <td>0</td>\n",
       "      <td>0</td>\n",
       "    </tr>\n",
       "    <tr>\n",
       "      <th>1</th>\n",
       "      <td>0</td>\n",
       "      <td>0</td>\n",
       "      <td>0</td>\n",
       "      <td>0</td>\n",
       "      <td>1</td>\n",
       "      <td>0</td>\n",
       "      <td>0</td>\n",
       "      <td>2</td>\n",
       "      <td>0</td>\n",
       "      <td>0</td>\n",
       "    </tr>\n",
       "    <tr>\n",
       "      <th>2</th>\n",
       "      <td>3</td>\n",
       "      <td>0</td>\n",
       "      <td>0</td>\n",
       "      <td>0</td>\n",
       "      <td>0</td>\n",
       "      <td>0</td>\n",
       "      <td>0</td>\n",
       "      <td>0</td>\n",
       "      <td>1</td>\n",
       "      <td>0</td>\n",
       "    </tr>\n",
       "    <tr>\n",
       "      <th>3</th>\n",
       "      <td>0</td>\n",
       "      <td>0</td>\n",
       "      <td>0</td>\n",
       "      <td>0</td>\n",
       "      <td>0</td>\n",
       "      <td>4</td>\n",
       "      <td>0</td>\n",
       "      <td>0</td>\n",
       "      <td>0</td>\n",
       "      <td>2</td>\n",
       "    </tr>\n",
       "    <tr>\n",
       "      <th>4</th>\n",
       "      <td>0</td>\n",
       "      <td>1</td>\n",
       "      <td>0</td>\n",
       "      <td>1</td>\n",
       "      <td>0</td>\n",
       "      <td>0</td>\n",
       "      <td>0</td>\n",
       "      <td>0</td>\n",
       "      <td>0</td>\n",
       "      <td>0</td>\n",
       "    </tr>\n",
       "  </tbody>\n",
       "</table>\n",
       "</div>"
      ],
      "text/plain": [
       "   banks  business  clipper  colorado  gibberish  group  kapor  monitor  \\\n",
       "0      0         0        2         0          0      0      1        0   \n",
       "1      0         0        0         0          1      0      0        2   \n",
       "2      3         0        0         0          0      0      0        0   \n",
       "3      0         0        0         0          0      4      0        0   \n",
       "4      0         1        0         1          0      0      0        0   \n",
       "\n",
       "   private  study  \n",
       "0        0      0  \n",
       "1        0      0  \n",
       "2        1      0  \n",
       "3        0      2  \n",
       "4        0      0  "
      ]
     },
     "execution_count": 85,
     "metadata": {},
     "output_type": "execute_result"
    }
   ],
   "source": [
    "words_idx = sorted([count_vectorizer.vocabulary_.get(f\"{word.lower()}\") for word in\n",
    "                    [u\"clipper\", u\"Kapor\",\n",
    "                     u\"monitor\", u\"gibberish\",\n",
    "                     u\"Banks\", u\"private\",\n",
    "                     u\"study\", u\"group\",\n",
    "                     u\"Colorado\", u\"Business\"]])\n",
    "\n",
    "pd.DataFrame(newsgroups_counts[:5, words_idx].toarray(), columns=np.array(count_vectorizer.get_feature_names())[words_idx])"
   ]
  },
  {
   "cell_type": "markdown",
   "metadata": {
    "colab_type": "text",
    "id": "C7WuoRgP9WE9"
   },
   "source": [
    "Por exemplo, o valor 2 na interseção do documento 0 com a coluna `clipper` indica que a palavra _clipper_ aparece duas vezes no documento 0. Obviamente é possível que uma mesma palavra apareça em múltiplos documentos e mais óbvio ainda que um documento contenha múltiplas palavras."
   ]
  },
  {
   "cell_type": "markdown",
   "metadata": {
    "colab_type": "text",
    "id": "UQzj-_QT9p7e"
   },
   "source": [
    "O problema com essa abordagem é que não temos como medir relevância dos termos. E se o  termo é super comum e aparece em quase todos documentos? E se o termo aparece muitas vezes no mesmo documento, mas poucas vezes nos outros?\n",
    "\n",
    "Essas perguntas não podem ser respondidas simplesmente com a contagem de termos acima. Para isso, precisamos do tf-idf."
   ]
  },
  {
   "cell_type": "markdown",
   "metadata": {
    "colab_type": "text",
    "id": "AXBnOFk___QK"
   },
   "source": [
    "O tf-idf é uma estatística baseada no _corpus_ composta de outras duas estatísticas:\n",
    "\n",
    "* $\\text{tf}(t, d)$, ou _term frequency_, é uma medida de quantas vezes o termo $t$ aparece no documento $d$. Algumas opções estão disponíveis, mas a mais simples é a contagem do número de ocorrências do termo no documento, $f_{t, d}$, exatamente o que computamos acima. Essa é a forma como sklearn define $tf$:\n",
    "\n",
    "$$\\text{tf}(t, d) = f_{t, d}$$\n",
    "\n",
    "* $\\text{idf}(t)$, ou _inverse document frequency_, é uma medida de relevância do termo em todos documentos do _corpus_. O sklearn a computa, seguindo valores _default_, da seguinte forma:\n",
    "\n",
    "$$\\text{idf}(t) = \\log{\\frac{1+n}{1 + d_{t}}} + 1$$\n",
    "\n",
    "onde $n$ é o número de documentos no _corpus_ e $d_{t}$ é o número de documentos no _corpus_ que contêm o termo $t$ ($0 < d_{t} \\leq n$).\n",
    "\n",
    "O tf-idf é calculado multiplicando esses dois valores:\n",
    "\n",
    "$$\\text{tf-idf}(t, d) = \\text{tf}(t, d) \\times \\text{idf}(t) = f_{t, d} \\times \\log{\\frac{1+n}{1 + d_{t}}} + 1$$\n",
    "\n",
    "O sklearn também normaliza todos documentos resultantes, ou seja todas linhas da matriz, para terem norma unitária. Em outras palavras, os elementos do vetor de tf-idf do documento $i$ são dados por:\n",
    "\n",
    "$$\\text{tf-idf}(i, j)_{\\text{normalizado}} = \\frac{\\text{tf-idf}(i, j)}{\\sqrt{\\text{tf-idf}(i, 1)^{2} + \\text{tf-idf}(i, 2)^{2} + \\cdots + \\text{tf-idf}(i, T)^{2}}}$$\n",
    "\n",
    "onde $T$ é o número de termos do _corpus_, ou seja, o tamanho do vocabulário."
   ]
  },
  {
   "cell_type": "markdown",
   "metadata": {
    "colab_type": "text",
    "id": "bWpYWUMjCH8l"
   },
   "source": [
    "O tf-idf é sempre um valor não negativo e quanto mais alto, maior a relevância do termo.\n",
    "\n",
    "Note como o tf aumenta de acordo com o número de ocorrências do termo no documento: quanto mais frequente o termo, mas relevante ele parece ser.\n",
    "\n",
    "O idf é uma medida de \"raridade\" do termo através de todo _corpus_: quanto mais alto, menos o termo aparece no _corpus_ e consequentemente mais informação ele traz.\n",
    "\n",
    "Multiplicando os dois, temos uma medida do quão relevante aquele termo é para aquele documento no _corpus_."
   ]
  },
  {
   "cell_type": "markdown",
   "metadata": {
    "colab_type": "text",
    "id": "b_N2VQnwDaey"
   },
   "source": [
    "O sklearn provê um transformador, `TfidfTransformer`, que transforma de uma matriz de frequências, como a retornada pelo `CountVectorizer`, e retorna uma matriz de tf-idf:"
   ]
  },
  {
   "cell_type": "code",
   "execution_count": 87,
   "metadata": {
    "colab": {},
    "colab_type": "code",
    "id": "Fyxgx0YhVwtF"
   },
   "outputs": [],
   "source": [
    "tfidf_transformer = TfidfTransformer()\n",
    "\n",
    "tfidf_transformer.fit(newsgroups_counts)\n",
    "\n",
    "newsgroups_tfidf = tfidf_transformer.transform(newsgroups_counts)"
   ]
  },
  {
   "cell_type": "code",
   "execution_count": 88,
   "metadata": {
    "colab": {
     "base_uri": "https://localhost:8080/",
     "height": 206
    },
    "colab_type": "code",
    "id": "evk8smtLWNtO",
    "outputId": "bf99b51a-e276-480c-dee9-13713e85a00b"
   },
   "outputs": [
    {
     "data": {
      "text/html": [
       "<div>\n",
       "<style scoped>\n",
       "    .dataframe tbody tr th:only-of-type {\n",
       "        vertical-align: middle;\n",
       "    }\n",
       "\n",
       "    .dataframe tbody tr th {\n",
       "        vertical-align: top;\n",
       "    }\n",
       "\n",
       "    .dataframe thead th {\n",
       "        text-align: right;\n",
       "    }\n",
       "</style>\n",
       "<table border=\"1\" class=\"dataframe\">\n",
       "  <thead>\n",
       "    <tr style=\"text-align: right;\">\n",
       "      <th></th>\n",
       "      <th>banks</th>\n",
       "      <th>business</th>\n",
       "      <th>clipper</th>\n",
       "      <th>colorado</th>\n",
       "      <th>gibberish</th>\n",
       "      <th>group</th>\n",
       "      <th>kapor</th>\n",
       "      <th>monitor</th>\n",
       "      <th>private</th>\n",
       "      <th>study</th>\n",
       "    </tr>\n",
       "  </thead>\n",
       "  <tbody>\n",
       "    <tr>\n",
       "      <th>0</th>\n",
       "      <td>0.000000</td>\n",
       "      <td>0.000000</td>\n",
       "      <td>0.081293</td>\n",
       "      <td>0.000000</td>\n",
       "      <td>0.000000</td>\n",
       "      <td>0.000000</td>\n",
       "      <td>0.096368</td>\n",
       "      <td>0.000000</td>\n",
       "      <td>0.000000</td>\n",
       "      <td>0.000000</td>\n",
       "    </tr>\n",
       "    <tr>\n",
       "      <th>1</th>\n",
       "      <td>0.000000</td>\n",
       "      <td>0.000000</td>\n",
       "      <td>0.000000</td>\n",
       "      <td>0.000000</td>\n",
       "      <td>0.109894</td>\n",
       "      <td>0.000000</td>\n",
       "      <td>0.000000</td>\n",
       "      <td>0.179352</td>\n",
       "      <td>0.000000</td>\n",
       "      <td>0.000000</td>\n",
       "    </tr>\n",
       "    <tr>\n",
       "      <th>2</th>\n",
       "      <td>0.148152</td>\n",
       "      <td>0.000000</td>\n",
       "      <td>0.000000</td>\n",
       "      <td>0.000000</td>\n",
       "      <td>0.000000</td>\n",
       "      <td>0.000000</td>\n",
       "      <td>0.000000</td>\n",
       "      <td>0.000000</td>\n",
       "      <td>0.048551</td>\n",
       "      <td>0.000000</td>\n",
       "    </tr>\n",
       "    <tr>\n",
       "      <th>3</th>\n",
       "      <td>0.000000</td>\n",
       "      <td>0.000000</td>\n",
       "      <td>0.000000</td>\n",
       "      <td>0.000000</td>\n",
       "      <td>0.000000</td>\n",
       "      <td>0.145223</td>\n",
       "      <td>0.000000</td>\n",
       "      <td>0.000000</td>\n",
       "      <td>0.000000</td>\n",
       "      <td>0.083477</td>\n",
       "    </tr>\n",
       "    <tr>\n",
       "      <th>4</th>\n",
       "      <td>0.000000</td>\n",
       "      <td>0.117248</td>\n",
       "      <td>0.000000</td>\n",
       "      <td>0.131568</td>\n",
       "      <td>0.000000</td>\n",
       "      <td>0.000000</td>\n",
       "      <td>0.000000</td>\n",
       "      <td>0.000000</td>\n",
       "      <td>0.000000</td>\n",
       "      <td>0.000000</td>\n",
       "    </tr>\n",
       "  </tbody>\n",
       "</table>\n",
       "</div>"
      ],
      "text/plain": [
       "      banks  business   clipper  colorado  gibberish     group     kapor  \\\n",
       "0  0.000000  0.000000  0.081293  0.000000   0.000000  0.000000  0.096368   \n",
       "1  0.000000  0.000000  0.000000  0.000000   0.109894  0.000000  0.000000   \n",
       "2  0.148152  0.000000  0.000000  0.000000   0.000000  0.000000  0.000000   \n",
       "3  0.000000  0.000000  0.000000  0.000000   0.000000  0.145223  0.000000   \n",
       "4  0.000000  0.117248  0.000000  0.131568   0.000000  0.000000  0.000000   \n",
       "\n",
       "    monitor   private     study  \n",
       "0  0.000000  0.000000  0.000000  \n",
       "1  0.179352  0.000000  0.000000  \n",
       "2  0.000000  0.048551  0.000000  \n",
       "3  0.000000  0.000000  0.083477  \n",
       "4  0.000000  0.000000  0.000000  "
      ]
     },
     "execution_count": 88,
     "metadata": {},
     "output_type": "execute_result"
    }
   ],
   "source": [
    "pd.DataFrame(newsgroups_tfidf[:5, words_idx].toarray(), columns=np.array(count_vectorizer.get_feature_names())[words_idx])"
   ]
  },
  {
   "cell_type": "markdown",
   "metadata": {
    "colab_type": "text",
    "id": "h9hI18kYDsuA"
   },
   "source": [
    "Também podemos obter a matriz de tf-idf diretamente do _corpus_ sem ter que passar pela matriz de frequência com o transformador `TfidfVectorizer`:"
   ]
  },
  {
   "cell_type": "code",
   "execution_count": 89,
   "metadata": {
    "colab": {},
    "colab_type": "code",
    "id": "wPV4xrxzWlA-"
   },
   "outputs": [],
   "source": [
    "tfidf_vectorizer = TfidfVectorizer()\n",
    "\n",
    "tfidf_vectorizer.fit(newsgroups.data)\n",
    "\n",
    "newsgroups_tfidf_vectorized = tfidf_vectorizer.transform(newsgroups.data)"
   ]
  },
  {
   "cell_type": "code",
   "execution_count": 90,
   "metadata": {
    "colab": {
     "base_uri": "https://localhost:8080/",
     "height": 206
    },
    "colab_type": "code",
    "id": "WAQ20ew-Wx5V",
    "outputId": "fd781f7a-198a-444f-bfb8-baee26469ef0"
   },
   "outputs": [
    {
     "data": {
      "text/html": [
       "<div>\n",
       "<style scoped>\n",
       "    .dataframe tbody tr th:only-of-type {\n",
       "        vertical-align: middle;\n",
       "    }\n",
       "\n",
       "    .dataframe tbody tr th {\n",
       "        vertical-align: top;\n",
       "    }\n",
       "\n",
       "    .dataframe thead th {\n",
       "        text-align: right;\n",
       "    }\n",
       "</style>\n",
       "<table border=\"1\" class=\"dataframe\">\n",
       "  <thead>\n",
       "    <tr style=\"text-align: right;\">\n",
       "      <th></th>\n",
       "      <th>banks</th>\n",
       "      <th>business</th>\n",
       "      <th>clipper</th>\n",
       "      <th>colorado</th>\n",
       "      <th>gibberish</th>\n",
       "      <th>group</th>\n",
       "      <th>kapor</th>\n",
       "      <th>monitor</th>\n",
       "      <th>private</th>\n",
       "      <th>study</th>\n",
       "    </tr>\n",
       "  </thead>\n",
       "  <tbody>\n",
       "    <tr>\n",
       "      <th>0</th>\n",
       "      <td>0.000000</td>\n",
       "      <td>0.000000</td>\n",
       "      <td>0.081293</td>\n",
       "      <td>0.000000</td>\n",
       "      <td>0.000000</td>\n",
       "      <td>0.000000</td>\n",
       "      <td>0.096368</td>\n",
       "      <td>0.000000</td>\n",
       "      <td>0.000000</td>\n",
       "      <td>0.000000</td>\n",
       "    </tr>\n",
       "    <tr>\n",
       "      <th>1</th>\n",
       "      <td>0.000000</td>\n",
       "      <td>0.000000</td>\n",
       "      <td>0.000000</td>\n",
       "      <td>0.000000</td>\n",
       "      <td>0.109894</td>\n",
       "      <td>0.000000</td>\n",
       "      <td>0.000000</td>\n",
       "      <td>0.179352</td>\n",
       "      <td>0.000000</td>\n",
       "      <td>0.000000</td>\n",
       "    </tr>\n",
       "    <tr>\n",
       "      <th>2</th>\n",
       "      <td>0.148152</td>\n",
       "      <td>0.000000</td>\n",
       "      <td>0.000000</td>\n",
       "      <td>0.000000</td>\n",
       "      <td>0.000000</td>\n",
       "      <td>0.000000</td>\n",
       "      <td>0.000000</td>\n",
       "      <td>0.000000</td>\n",
       "      <td>0.048551</td>\n",
       "      <td>0.000000</td>\n",
       "    </tr>\n",
       "    <tr>\n",
       "      <th>3</th>\n",
       "      <td>0.000000</td>\n",
       "      <td>0.000000</td>\n",
       "      <td>0.000000</td>\n",
       "      <td>0.000000</td>\n",
       "      <td>0.000000</td>\n",
       "      <td>0.145223</td>\n",
       "      <td>0.000000</td>\n",
       "      <td>0.000000</td>\n",
       "      <td>0.000000</td>\n",
       "      <td>0.083477</td>\n",
       "    </tr>\n",
       "    <tr>\n",
       "      <th>4</th>\n",
       "      <td>0.000000</td>\n",
       "      <td>0.117248</td>\n",
       "      <td>0.000000</td>\n",
       "      <td>0.131568</td>\n",
       "      <td>0.000000</td>\n",
       "      <td>0.000000</td>\n",
       "      <td>0.000000</td>\n",
       "      <td>0.000000</td>\n",
       "      <td>0.000000</td>\n",
       "      <td>0.000000</td>\n",
       "    </tr>\n",
       "  </tbody>\n",
       "</table>\n",
       "</div>"
      ],
      "text/plain": [
       "      banks  business   clipper  colorado  gibberish     group     kapor  \\\n",
       "0  0.000000  0.000000  0.081293  0.000000   0.000000  0.000000  0.096368   \n",
       "1  0.000000  0.000000  0.000000  0.000000   0.109894  0.000000  0.000000   \n",
       "2  0.148152  0.000000  0.000000  0.000000   0.000000  0.000000  0.000000   \n",
       "3  0.000000  0.000000  0.000000  0.000000   0.000000  0.145223  0.000000   \n",
       "4  0.000000  0.117248  0.000000  0.131568   0.000000  0.000000  0.000000   \n",
       "\n",
       "    monitor   private     study  \n",
       "0  0.000000  0.000000  0.000000  \n",
       "1  0.179352  0.000000  0.000000  \n",
       "2  0.000000  0.048551  0.000000  \n",
       "3  0.000000  0.000000  0.083477  \n",
       "4  0.000000  0.000000  0.000000  "
      ]
     },
     "execution_count": 90,
     "metadata": {},
     "output_type": "execute_result"
    }
   ],
   "source": [
    "pd.DataFrame(newsgroups_tfidf_vectorized[:5, words_idx].toarray(), columns=np.array(count_vectorizer.get_feature_names())[words_idx])"
   ]
  },
  {
   "cell_type": "markdown",
   "metadata": {
    "colab_type": "text",
    "id": "RLFGR7A_D0px"
   },
   "source": [
    "Note como a matriz acima é exatamente igual a retornada pelo `TfidfTransformer`.\n",
    "\n",
    "O resultado (igual da matriz de frequência) é um _data set_ com 1782 documentos e 33796 termos:"
   ]
  },
  {
   "cell_type": "code",
   "execution_count": 91,
   "metadata": {
    "colab": {
     "base_uri": "https://localhost:8080/",
     "height": 34
    },
    "colab_type": "code",
    "id": "8I_w7yLeYnRe",
    "outputId": "e1162574-03a2-4368-c3b6-517759bb973f"
   },
   "outputs": [
    {
     "data": {
      "text/plain": [
       "(1782, 33796)"
      ]
     },
     "execution_count": 91,
     "metadata": {},
     "output_type": "execute_result"
    }
   ],
   "source": [
    "newsgroups_tfidf_vectorized.shape"
   ]
  },
  {
   "cell_type": "markdown",
   "metadata": {
    "colab_type": "text",
    "id": "NjPMTtkUwrS1"
   },
   "source": [
    "## Referências\n",
    "\n",
    "* [Feature engineering](https://jakevdp.github.io/PythonDataScienceHandbook/05.04-feature-engineering.html)\n",
    "\n",
    "* [Feature Scaling with scikit-learn](http://benalexkeen.com/feature-scaling-with-scikit-learn/)\n",
    "\n",
    "* [Anthony Goldbloom gives you the secret to winning Kaggle competitions](https://www.import.io/post/how-to-win-a-kaggle-competition/)\n",
    "\n",
    "* [What are some best practices in Feature Engineering?](https://www.quora.com/What-are-some-best-practices-in-Feature-Engineering)\n",
    "\n",
    "* [Discover Feature Engineering, How to Engineer Features and How to Get Good at It](https://machinelearningmastery.com/discover-feature-engineering-how-to-engineer-features-and-how-to-get-good-at-it/)\n",
    "\n",
    "* [Fundamental Techniques of Feature Engineering for Machine Learning](https://towardsdatascience.com/feature-engineering-for-machine-learning-3a5e293a5114)\n",
    "\n",
    "* [Feature Engineering Cookbook for Machine Learning](https://medium.com/@michaelabehsera/feature-engineering-cookbook-for-machine-learning-7bf21f0bcbae)\n",
    "\n",
    "* [A Simple Guide to Scikit-learn Pipelines](https://medium.com/vickdata/a-simple-guide-to-scikit-learn-pipelines-4ac0d974bdcf)\n",
    "\n",
    "* [Outlier detection with Scikit Learn](https://www.mikulskibartosz.name/outlier-detection-with-scikit-learn/)\n",
    "\n",
    "* [Working With Text Data](https://scikit-learn.org/stable/tutorial/text_analytics/working_with_text_data.html)\n",
    "\n",
    "* [WTF is TF-IDF?](https://www.kdnuggets.com/2018/08/wtf-tf-idf.html)\n"
   ]
  }
 ],
 "metadata": {
  "colab": {
   "collapsed_sections": [],
   "name": "Aula 7 - Feature Engineering.ipynb",
   "provenance": [],
   "version": "0.3.2"
  },
  "kernelspec": {
   "display_name": "Python 3",
   "language": "python",
   "name": "python3"
  },
  "language_info": {
   "codemirror_mode": {
    "name": "ipython",
    "version": 3
   },
   "file_extension": ".py",
   "mimetype": "text/x-python",
   "name": "python",
   "nbconvert_exporter": "python",
   "pygments_lexer": "ipython3",
   "version": "3.7.7"
  }
 },
 "nbformat": 4,
 "nbformat_minor": 1
}
