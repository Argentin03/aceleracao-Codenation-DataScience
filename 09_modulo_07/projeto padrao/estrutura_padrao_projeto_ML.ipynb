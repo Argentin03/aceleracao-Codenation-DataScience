{
 "cells": [
  {
   "cell_type": "markdown",
   "metadata": {},
   "source": [
    "# Canvas - Projeto ML"
   ]
  },
  {
   "cell_type": "markdown",
   "metadata": {},
   "source": [
    "O **Canvas** é uma sequência de passos que devem ser definidos antes de iniciar o desenvolvimento do projeto."
   ]
  },
  {
   "cell_type": "markdown",
   "metadata": {},
   "source": [
    "![](ml_canvas_anotado.jpg)"
   ]
  },
  {
   "cell_type": "markdown",
   "metadata": {},
   "source": [
    "# Arquitetura Padrão - Projeto ML"
   ]
  },
  {
   "cell_type": "markdown",
   "metadata": {},
   "source": [
    "Mostrando a arquitetura padrão **desenvolvimento** de um projeto de ML.\n",
    "\n",
    "Trata-se de uma estrutura adotada para ser sempre seguida. O itens são separadas em **classes** durante o desenvolvimento."
   ]
  },
  {
   "cell_type": "markdown",
   "metadata": {},
   "source": [
    "![](modelo_padrao.png)"
   ]
  },
  {
   "cell_type": "markdown",
   "metadata": {},
   "source": [
    "## Data Source\n",
    "\n",
    "\n",
    "* concentra fontes de dados\n",
    "\n",
    "\n",
    "* consumir dados ou unir dados\n",
    "\n",
    "\n",
    "* pegamos dados e trazemos para o processamento"
   ]
  },
  {
   "cell_type": "markdown",
   "metadata": {},
   "source": [
    "## Visualização\n",
    "\n",
    "* trata de todas as visualizações (podendo ser salvas/exportadas)\n",
    "\n",
    "\n",
    "* enxergar performance do modelo e performance dos dados\n",
    "\n",
    "\n",
    "* consumida por todas as demais classes\n",
    "\n",
    "\n",
    "* por exemplo, que visualizar o erro de um modelo sem ter alterar ou executar outros códigos"
   ]
  },
  {
   "cell_type": "markdown",
   "metadata": {},
   "source": [
    "## Pré-processamento\n",
    "\n",
    "\n",
    "* selecão e engenharia de features (variáveis)\n",
    "\n",
    "\n",
    "* normalização, tratamento dos tipos de variáveis\n",
    "\n",
    "\n",
    "* pré-processamento:\n",
    "    * para **treino**\n",
    "    * para **teste**"
   ]
  },
  {
   "cell_type": "markdown",
   "metadata": {},
   "source": [
    "## Métricas\n",
    "\n",
    "\n",
    "* métricas determinadas para o modelo\n",
    "\n",
    "\n",
    "* dentro dessa classe se cria todos tipos de avaliação do modelo\n",
    "\n",
    "\n",
    "* todas essas classes são consumidas nas demais"
   ]
  },
  {
   "cell_type": "markdown",
   "metadata": {},
   "source": [
    "## Experimentos\n",
    "\n",
    "\n",
    "* demanda maior parte do tempo\n",
    "\n",
    "\n",
    "* teste de novos modelos e de hiperparâmetros\n",
    "\n",
    "\n",
    "* são experimentos relacionados aos modelos"
   ]
  },
  {
   "cell_type": "markdown",
   "metadata": {},
   "source": [
    "## Treinamento do modelo\n",
    "\n",
    "* após chegar num modelo aceitável, vou encapsulá-lo dentro desta classe\n",
    "\n",
    "\n",
    "* essa classe irá gerar o modelo pico/principal para ser consumido\n",
    "\n",
    "\n",
    "* por exemplo, re-treino do modelo pico é tratada aqui"
   ]
  },
  {
   "cell_type": "markdown",
   "metadata": {},
   "source": [
    "## Inferência de modelo\n",
    "\n",
    "* pega os dados, pré-processa eles pensando na inferência\n",
    "\n",
    "\n",
    "* recupera o artefato do modelo treinado e realiza a **predição** \n",
    "\n",
    "\n",
    "* retorna esse resultado (predição) que pode ser consumido/salvo na nuvem, num software via API, datamart, dashboard"
   ]
  },
  {
   "cell_type": "markdown",
   "metadata": {},
   "source": []
  }
 ],
 "metadata": {
  "kernelspec": {
   "display_name": "Python 3",
   "language": "python",
   "name": "python3"
  },
  "language_info": {
   "codemirror_mode": {
    "name": "ipython",
    "version": 3
   },
   "file_extension": ".py",
   "mimetype": "text/x-python",
   "name": "python",
   "nbconvert_exporter": "python",
   "pygments_lexer": "ipython3",
   "version": "3.7.7"
  }
 },
 "nbformat": 4,
 "nbformat_minor": 4
}
