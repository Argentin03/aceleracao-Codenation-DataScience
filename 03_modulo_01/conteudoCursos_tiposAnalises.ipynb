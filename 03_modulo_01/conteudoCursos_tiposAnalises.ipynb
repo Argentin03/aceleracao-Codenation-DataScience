{
 "cells": [
  {
   "cell_type": "markdown",
   "metadata": {},
   "source": [
    "# Módulo 01\n",
    "\n",
    "Ementa da aceleração:\n",
    "\n",
    "1. Introdução a ciência de dados\n",
    "2. Pré-processamento de dados em Python\n",
    "3. Análise de dados exploratória\n",
    "4. Continuação análise de dados exploratória\n",
    "5. Pensamento estatístico em Python\n",
    "6. Continuação pensamento estatístico em Python\n",
    "7. Engenharia de Features\n",
    "8. Regressão\n",
    "9. Classificação"
   ]
  },
  {
   "cell_type": "code",
   "execution_count": null,
   "metadata": {},
   "outputs": [],
   "source": []
  },
  {
   "cell_type": "markdown",
   "metadata": {},
   "source": [
    "## Tipos de soluções de análise\n",
    "\n",
    "### Solução descritiva\n",
    "\n",
    "* Descreve o que existe\n",
    "* Olha apenas o **passado/atual**\n",
    "* **O que aconteceu?**\n",
    "\n",
    "### Solução diagnóstica\n",
    "\n",
    "* Descreve os **porquês**\n",
    "* Olha apenas o **passado/atual**\n",
    "* **Por que isso aconteceu?**\n",
    "* Nem todos fatos estão nos dados, preciso de pessoas que viveram o negócio contando\n",
    "\n",
    "### Solução preditiva\n",
    "\n",
    "* Descreve o que vai existir\n",
    "* Usa o passado para prever o **futuro**\n",
    "* **O que vai acontecer?**\n",
    "\n",
    "    1. **Previsão**: subconjunto da predição vinculada ao tempo\n",
    "    2. **Predição**: forma genérica de como um fato seria antes da sua ocorrência\n",
    "    \n",
    "### Solução prescritiva\n",
    "\n",
    "* Recomenda tomada de decisão\n",
    "* A partir de uma **predição/previsão** recomenda uma ação\n",
    "* **O que vou fazer?**\n",
    "\n",
    "\n",
    "\n",
    "\n"
   ]
  },
  {
   "cell_type": "code",
   "execution_count": null,
   "metadata": {},
   "outputs": [],
   "source": []
  },
  {
   "cell_type": "markdown",
   "metadata": {},
   "source": [
    "## Handbook de Python (jupyter notebook)\n",
    "\n",
    "Exemplos de manipulação, visualização e modelagem preditiva.\n",
    "\n",
    "https://jakevdp.github.io/PythonDataScienceHandbook/"
   ]
  },
  {
   "cell_type": "code",
   "execution_count": null,
   "metadata": {},
   "outputs": [],
   "source": []
  }
 ],
 "metadata": {
  "kernelspec": {
   "display_name": "Python 3",
   "language": "python",
   "name": "python3"
  },
  "language_info": {
   "codemirror_mode": {
    "name": "ipython",
    "version": 3
   },
   "file_extension": ".py",
   "mimetype": "text/x-python",
   "name": "python",
   "nbconvert_exporter": "python",
   "pygments_lexer": "ipython3",
   "version": "3.7.7"
  }
 },
 "nbformat": 4,
 "nbformat_minor": 4
}
